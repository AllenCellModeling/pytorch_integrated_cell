{
 "cells": [
  {
   "cell_type": "code",
   "execution_count": 6,
   "metadata": {},
   "outputs": [
    {
     "ename": "KeyError",
     "evalue": "'asdf'",
     "output_type": "error",
     "traceback": [
      "\u001b[0;31m---------------------------------------------------------------------------\u001b[0m",
      "\u001b[0;31mKeyError\u001b[0m                                  Traceback (most recent call last)",
      "\u001b[0;32m<ipython-input-6-83b48bdd1033>\u001b[0m in \u001b[0;36m<module>\u001b[0;34m()\u001b[0m\n\u001b[1;32m      1\u001b[0m \u001b[0mopts_default\u001b[0m \u001b[0;34m=\u001b[0m \u001b[0;34m{\u001b[0m\u001b[0;34m'rotate'\u001b[0m\u001b[0;34m:\u001b[0m \u001b[0;32mFalse\u001b[0m\u001b[0;34m,\u001b[0m \u001b[0;34m'hold_out'\u001b[0m\u001b[0;34m:\u001b[0m \u001b[0;36m1\u001b[0m\u001b[0;34m/\u001b[0m\u001b[0;36m20\u001b[0m\u001b[0;34m,\u001b[0m \u001b[0;34m'out_size'\u001b[0m\u001b[0;34m:\u001b[0m \u001b[0;34m-\u001b[0m\u001b[0;36m1\u001b[0m\u001b[0;34m,\u001b[0m \u001b[0;34m'verbose'\u001b[0m\u001b[0;34m:\u001b[0m \u001b[0;32mFalse\u001b[0m\u001b[0;34m,\u001b[0m \u001b[0;34m'pattern'\u001b[0m\u001b[0;34m:\u001b[0m \u001b[0;34m'*.png'\u001b[0m\u001b[0;34m}\u001b[0m\u001b[0;34m\u001b[0m\u001b[0m\n\u001b[0;32m----> 2\u001b[0;31m \u001b[0mopts_default\u001b[0m\u001b[0;34m[\u001b[0m\u001b[0;34m'asdf'\u001b[0m\u001b[0;34m]\u001b[0m\u001b[0;34m\u001b[0m\u001b[0m\n\u001b[0m",
      "\u001b[0;31mKeyError\u001b[0m: 'asdf'"
     ]
    }
   ],
   "source": [
    "opts_default = {'rotate': False, 'hold_out': 1/20, 'out_size': -1, 'verbose': False, 'pattern': '*.png'}\n",
    "opts_default['asdf']"
   ]
  },
  {
   "cell_type": "code",
   "execution_count": 6,
   "metadata": {},
   "outputs": [
    {
     "data": {
      "text/plain": [
       "[1, 1]"
      ]
     },
     "execution_count": 6,
     "metadata": {},
     "output_type": "execute_result"
    }
   ],
   "source": [
    "a = dict()\n",
    "a['asdf'] = []\n",
    "a['asdf'].append(1)\n",
    "a['asdf'].append(1)\n",
    "a['asdf']"
   ]
  },
  {
   "cell_type": "code",
   "execution_count": 65,
   "metadata": {
    "collapsed": true
   },
   "outputs": [],
   "source": [
    "class SimpleLogger:\n",
    "    def __init__(self, fields, print_format=''):\n",
    "        if isinstance(print_format, str) and not print_format:\n",
    "            printstr = ''\n",
    "            for field in fields:\n",
    "                printstr = printstr + field + ': %f '\n",
    "            print_format = printstr\n",
    "            \n",
    "        self.print_format = print_format\n",
    "\n",
    "        self.fields = fields\n",
    "        \n",
    "        self.log = dict()\n",
    "        for field in fields:\n",
    "            self.log[field] = []\n",
    "            \n",
    "    def add(self, input):\n",
    "        assert(len(input) == len(self.fields))\n",
    "        \n",
    "        for i in range(0, len(self.fields)):\n",
    "            self.log[self.fields[i]].append(input[i])\n",
    "            \n",
    "        if isinstance(self.print_format, str):\n",
    "            print(self.print_format % input)"
   ]
  },
  {
   "cell_type": "code",
   "execution_count": 68,
   "metadata": {},
   "outputs": [
    {
     "name": "stdout",
     "output_type": "stream",
     "text": [
      "asdf: 1.000000 dfsd: 2.000000 \n",
      "('asdf', 'dfsd')\n"
     ]
    }
   ],
   "source": [
    "fields = ('asdf', 'dfsd')\n",
    "\n",
    "# opts = {'print_format': 'asdf: %f error: %f'}\n",
    "\n",
    "logger = SimpleLogger(fields)\n",
    "logger.add((1,2))\n",
    "print(logger.fields)"
   ]
  },
  {
   "cell_type": "code",
   "execution_count": 64,
   "metadata": {},
   "outputs": [
    {
     "data": {
      "text/plain": [
       "False"
      ]
     },
     "execution_count": 64,
     "metadata": {},
     "output_type": "execute_result"
    }
   ],
   "source": [
    "isinstance('', str)"
   ]
  },
  {
   "cell_type": "code",
   "execution_count": 13,
   "metadata": {},
   "outputs": [],
   "source": [
    "\n",
    "import SimpleLogger as SimpleLogger\n",
    "\n",
    "import importlib\n",
    "import numpy as np\n",
    "\n",
    "import os\n",
    "import pickle\n",
    "\n",
    "import math\n",
    "\n",
    "import torch\n",
    "import torch.nn as nn\n",
    "import torch.optim as optim\n",
    "from torch.autograd import Variable\n",
    "\n",
    "from model_utils import tensor2img\n",
    "import PIL.Image\n",
    "from IPython.core.display import display\n",
    "\n",
    "\n",
    "data_path = './data_{0}x{1}.pyt'.format(str(128), str(128))\n",
    "if os.path.exists(data_path):\n",
    "    dp = torch.load(data_path)\n",
    "else:\n",
    "    dp = DP.DataProvider(opt.imdir, opts)\n",
    "    torch.save(dp, data_path)\n",
    "    \n",
    "%matplotlib inline"
   ]
  },
  {
   "cell_type": "code",
   "execution_count": 515,
   "metadata": {},
   "outputs": [],
   "source": [
    "x = dp.get_images([0], 'train')\n",
    "\n",
    "def imshow(img):\n",
    "    img = tensor2img(img)\n",
    "    \n",
    "    img = img - np.min(img)\n",
    "    img = img/np.max(img)\n",
    "    \n",
    "    img = (img*255).astype('uint8')\n",
    "\n",
    "    display(PIL.Image.fromarray(img))\n",
    "    \n",
    "edgenet = nn.Sequential(nn.Conv2d(3, 1, 3, 1, 0, bias=False), nn.Sigmoid()).cuda(0)    \n",
    "edgenet[0].bias = None"
   ]
  },
  {
   "cell_type": "code",
   "execution_count": 561,
   "metadata": {},
   "outputs": [
    {
     "name": "stdout",
     "output_type": "stream",
     "text": [
      "0.7778317928314209\n",
      "0.26802921295166016\n"
     ]
    },
    {
     "data": {
      "image/png": "[encoded data removed]",
      "text/plain": [
       "<PIL.Image.Image image mode=RGB size=128x128 at 0x7F07062AA208>"
      ]
     },
     "metadata": {},
     "output_type": "display_data"
    },
    {
     "data": {
      "image/png": "[encoded data removed]",
      "text/plain": [
       "<PIL.Image.Image image mode=RGB size=126x126 at 0x7F07062AA208>"
      ]
     },
     "metadata": {},
     "output_type": "display_data"
    }
   ],
   "source": [
    "# def weights_init(m):\n",
    "#     classname = m.__class__.__name__\n",
    "#     if classname.find('Conv') != -1:\n",
    "#         m.weight.data.normal_(0.0, 0.02)\n",
    "#     elif classname.find('BatchNorm') != -1:\n",
    "#         m.weight.data.normal_(1.0, 0.02)\n",
    "#         m.bias.data.fill_(0) \n",
    "\n",
    "edgenet[0].weight.data.normal_(0, 1)\n",
    "edgenet[0].weight.data -= torch.mean(edgenet[0].weight.data)\n",
    "x_edge = edgenet(Variable(x).cuda(0)).data.cpu()\n",
    "x_edge = torch.cat([x_edge, x_edge, x_edge], 1)\n",
    "\n",
    "print(torch.max(x_edge))\n",
    "print(torch.min(x_edge))\n",
    "imshow(x)\n",
    "imshow(x_edge)"
   ]
  },
  {
   "cell_type": "code",
   "execution_count": 556,
   "metadata": {},
   "outputs": [
    {
     "data": {
      "text/plain": [
       "\n",
       "( 0 , 0 ,.,.) = \n",
       "  0.5000  0.5000  0.5000  ...   0.5000  0.5000  0.5000\n",
       "  0.5000  0.5000  0.5000  ...   0.5000  0.5000  0.5000\n",
       "  0.5000  0.5000  0.5000  ...   0.5000  0.5000  0.5000\n",
       "           ...             ⋱             ...          \n",
       "  0.5000  0.5000  0.5000  ...   0.5000  0.5000  0.5000\n",
       "  0.5000  0.5000  0.5000  ...   0.5000  0.5000  0.5000\n",
       "  0.5000  0.5000  0.5000  ...   0.5000  0.5000  0.5000\n",
       "\n",
       "( 0 , 1 ,.,.) = \n",
       "  0.5000  0.5000  0.5000  ...   0.5000  0.5000  0.5000\n",
       "  0.5000  0.5000  0.5000  ...   0.5000  0.5000  0.5000\n",
       "  0.5000  0.5000  0.5000  ...   0.5000  0.5000  0.5000\n",
       "           ...             ⋱             ...          \n",
       "  0.5000  0.5000  0.5000  ...   0.5000  0.5000  0.5000\n",
       "  0.5000  0.5000  0.5000  ...   0.5000  0.5000  0.5000\n",
       "  0.5000  0.5000  0.5000  ...   0.5000  0.5000  0.5000\n",
       "\n",
       "( 0 , 2 ,.,.) = \n",
       "  0.5000  0.5000  0.5000  ...   0.5000  0.5000  0.5000\n",
       "  0.5000  0.5000  0.5000  ...   0.5000  0.5000  0.5000\n",
       "  0.5000  0.5000  0.5000  ...   0.5000  0.5000  0.5000\n",
       "           ...             ⋱             ...          \n",
       "  0.5000  0.5000  0.5000  ...   0.5000  0.5000  0.5000\n",
       "  0.5000  0.5000  0.5000  ...   0.5000  0.5000  0.5000\n",
       "  0.5000  0.5000  0.5000  ...   0.5000  0.5000  0.5000\n",
       "    ... \n",
       "\n",
       "( 0 , 6 ,.,.) = \n",
       "  0.5000  0.5000  0.5000  ...   0.5000  0.5000  0.5000\n",
       "  0.5000  0.5000  0.5000  ...   0.5000  0.5000  0.5000\n",
       "  0.5000  0.5000  0.5000  ...   0.5000  0.5000  0.5000\n",
       "           ...             ⋱             ...          \n",
       "  0.5000  0.5000  0.5000  ...   0.5000  0.5000  0.5000\n",
       "  0.5000  0.5000  0.5000  ...   0.5000  0.5000  0.5000\n",
       "  0.5000  0.5000  0.5000  ...   0.5000  0.5000  0.5000\n",
       "\n",
       "( 0 , 7 ,.,.) = \n",
       "  0.5000  0.5000  0.5000  ...   0.5000  0.5000  0.5000\n",
       "  0.5000  0.5000  0.5000  ...   0.5000  0.5000  0.5000\n",
       "  0.5000  0.5000  0.5000  ...   0.5000  0.5000  0.5000\n",
       "           ...             ⋱             ...          \n",
       "  0.5000  0.5000  0.5000  ...   0.5000  0.5000  0.5000\n",
       "  0.5000  0.5000  0.5000  ...   0.5000  0.5000  0.5000\n",
       "  0.5000  0.5000  0.5000  ...   0.5000  0.5000  0.5000\n",
       "\n",
       "( 0 , 8 ,.,.) = \n",
       "  0.5000  0.5000  0.5000  ...   0.5000  0.5000  0.5000\n",
       "  0.5000  0.5000  0.5000  ...   0.5000  0.5000  0.5000\n",
       "  0.5000  0.5000  0.5000  ...   0.5000  0.5000  0.5000\n",
       "           ...             ⋱             ...          \n",
       "  0.5000  0.5000  0.5000  ...   0.5000  0.5000  0.5000\n",
       "  0.5000  0.5000  0.5000  ...   0.5000  0.5000  0.5000\n",
       "  0.5000  0.5000  0.5000  ...   0.5000  0.5000  0.5000\n",
       "[torch.FloatTensor of size 1x9x126x126]"
      ]
     },
     "execution_count": 556,
     "metadata": {},
     "output_type": "execute_result"
    }
   ],
   "source": [
    "torch.cat([x_edge, x_edge, x_edge], 1)"
   ]
  },
  {
   "cell_type": "code",
   "execution_count": 299,
   "metadata": {},
   "outputs": [
    {
     "data": {
      "text/plain": [
       "-0.028312383219599724"
      ]
     },
     "execution_count": 299,
     "metadata": {},
     "output_type": "execute_result"
    }
   ],
   "source": [
    "torch.mean(edgenet[0].weight.data)"
   ]
  },
  {
   "cell_type": "code",
   "execution_count": null,
   "metadata": {
    "collapsed": true
   },
   "outputs": [],
   "source": []
  }
 ],
 "metadata": {
  "kernelspec": {
   "display_name": "Python 3",
   "language": "python",
   "name": "python3"
  },
  "language_info": {
   "codemirror_mode": {
    "name": "ipython",
    "version": 3
   },
   "file_extension": ".py",
   "mimetype": "text/x-python",
   "name": "python",
   "nbconvert_exporter": "python",
   "pygments_lexer": "ipython3",
   "version": "3.5.2"
  }
 },
 "nbformat": 4,
 "nbformat_minor": 2
}
