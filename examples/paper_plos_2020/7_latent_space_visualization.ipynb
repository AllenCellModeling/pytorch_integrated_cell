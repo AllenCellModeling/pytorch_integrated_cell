{
 "cells": [
  {
   "cell_type": "markdown",
   "metadata": {},
   "source": [
    "# Latent space vizualization\n"
   ]
  },
  {
   "cell_type": "code",
   "execution_count": 1,
   "metadata": {},
   "outputs": [
    {
     "name": "stdout",
     "output_type": "stream",
     "text": [
      "no changes\n"
     ]
    },
    {
     "name": "stderr",
     "output_type": "stream",
     "text": [
      "/allen/aics/modeling/ritvik/projects/pytorch_integrated_cell_2021_workshop/pytorch_integrated_cell/integrated_cell/utils/utils.py:75: UserWarning: args file exists and overwrite is not set to True. Using existing args file.\n",
      "  \"args file exists and overwrite is not set to True. Using existing args file.\"\n",
      "/allen/aics/modeling/ritvik/projects/pytorch_integrated_cell_2021_workshop/pytorch_integrated_cell/integrated_cell/utils/utils.py:75: UserWarning: args file exists and overwrite is not set to True. Using existing args file.\n",
      "  \"args file exists and overwrite is not set to True. Using existing args file.\"\n"
     ]
    },
    {
     "name": "stdout",
     "output_type": "stream",
     "text": [
      "loading from /allen/aics/modeling/gregj/results/integrated_cell/test_cbvae_3D_avg_inten/2019-11-27-22:27:04/ref_model/enc_94544.pth\n",
      "loading from /allen/aics/modeling/gregj/results/integrated_cell/test_cbvae_3D_avg_inten/2019-11-27-22:27:04/ref_model/dec_94544.pth\n",
      "no changes\n"
     ]
    },
    {
     "name": "stderr",
     "output_type": "stream",
     "text": [
      "/allen/aics/modeling/ritvik/projects/pytorch_integrated_cell_2021_workshop/pytorch_integrated_cell/integrated_cell/utils/utils.py:75: UserWarning: args file exists and overwrite is not set to True. Using existing args file.\n",
      "  \"args file exists and overwrite is not set to True. Using existing args file.\"\n"
     ]
    },
    {
     "name": "stdout",
     "output_type": "stream",
     "text": [
      "loading from /allen/aics/modeling/gregj/results/integrated_cell/test_cbvae_3D_avg_inten/2019-10-22-15:24:09/ref_model/enc_93300.pth\n",
      "loading from /allen/aics/modeling/gregj/results/integrated_cell/test_cbvae_3D_avg_inten/2019-10-22-15:24:09/ref_model/dec_93300.pth\n",
      "Results dir: /allen/aics/modeling/gregj/results/integrated_cell//results/latent_space_vizualization/\n"
     ]
    }
   ],
   "source": [
    "import json\n",
    "import integrated_cell\n",
    "from integrated_cell import model_utils, utils\n",
    "import os\n",
    "import numpy as np\n",
    "import torch\n",
    "\n",
    "import seaborn as sns\n",
    "import matplotlib\n",
    "import matplotlib.pyplot as plt\n",
    "%matplotlib inline\n",
    "\n",
    "import PIL\n",
    "from PIL import Image\n",
    "from PIL import ImageFont\n",
    "from PIL import ImageDraw \n",
    "\n",
    "# \n",
    "from integrated_cell.utils.plots import tensor2im, imshow\n",
    "\n",
    "# tricking Pytorch environment which GPU to use\n",
    "gpu_ids = [7]\n",
    "os.environ[\"CUDA_VISIBLE_DEVICES\"] = \",\".join([str(ID) for ID in gpu_ids])\n",
    "if len(gpu_ids) == 1:\n",
    "    torch.backends.cudnn.enabled = True\n",
    "    torch.backends.cudnn.benchmark = True\n",
    "\n",
    "torch.cuda.empty_cache()\n",
    "    \n",
    "#load the reference model\n",
    "parent_dir = '/allen/aics/modeling/gregj/results/integrated_cell/'\n",
    "\n",
    "# reference model is trained with a timestamp\n",
    "ref_model_dir = '/allen/aics/modeling/gregj/results/integrated_cell/test_cbvae_3D_avg_inten/2019-11-27-22:27:04'\n",
    "# iteration 94544, pick your favorite one, perhaps the one with the lowest validation error.  \n",
    "ref_suffix = '_94544'    \n",
    "\n",
    "networks, dp_ref, args_ref = utils.load_network_from_dir(ref_model_dir, parent_dir, suffix=ref_suffix)\n",
    "\n",
    "ref_enc = networks['enc']\n",
    "ref_dec = networks['dec']\n",
    "\n",
    "#load the target model\n",
    "target_model_dir = \"/allen/aics/modeling/gregj/results/integrated_cell/test_cbvae_3D_avg_inten/2019-10-22-15:24:09/\"\n",
    "target_suffix = '_93300'\n",
    "\n",
    "networks, dp_target, args_target = utils.load_network_from_dir(target_model_dir, parent_dir, suffix=target_suffix)\n",
    "    \n",
    "target_enc = networks['enc']\n",
    "target_dec = networks['dec']\n",
    "\n",
    "# where to save\n",
    "results_dir = '{}/results/latent_space_vizualization/'.format(parent_dir)\n",
    "if not os.path.exists(results_dir):\n",
    "    os.makedirs(results_dir)\n",
    "    \n",
    "print(\"Results dir: {}\".format(results_dir))\n",
    "\n",
    "save_dir = results_dir\n",
    "\n",
    "recon_loss = utils.load_losses(args_target)['crit_recon']"
   ]
  },
  {
   "cell_type": "code",
   "execution_count": 2,
   "metadata": {},
   "outputs": [],
   "source": [
    "import pandas as pd"
   ]
  },
  {
   "cell_type": "markdown",
   "metadata": {},
   "source": [
    "## Get metadata for all splits"
   ]
  },
  {
   "cell_type": "code",
   "execution_count": 3,
   "metadata": {},
   "outputs": [],
   "source": [
    "dfs_split = {\n",
    "    split: pd.concat(\n",
    "        [\n",
    "            dp_ref.csv_data.loc[\n",
    "                dp_ref.data[split][\"inds\"],\n",
    "                [\"CellId\", \"PlateId\", \"CellIndex\", \"StructureDisplayName\"]\n",
    "            ].reset_index(\n",
    "            ).rename(\n",
    "                columns={\"index\":\"UnsplitCsvIndex\"}\n",
    "            ),\n",
    "            pd.DataFrame({\"split\":[split]*len(dp_ref.data[split][\"inds\"])})\n",
    "        ],\n",
    "        axis=1\n",
    "    ) for split in dp_ref.data.keys()\n",
    "}"
   ]
  },
  {
   "cell_type": "code",
   "execution_count": 4,
   "metadata": {},
   "outputs": [
    {
     "data": {
      "text/html": [
       "<div>\n",
       "<style scoped>\n",
       "    .dataframe tbody tr th:only-of-type {\n",
       "        vertical-align: middle;\n",
       "    }\n",
       "\n",
       "    .dataframe tbody tr th {\n",
       "        vertical-align: top;\n",
       "    }\n",
       "\n",
       "    .dataframe thead th {\n",
       "        text-align: right;\n",
       "    }\n",
       "</style>\n",
       "<table border=\"1\" class=\"dataframe\">\n",
       "  <thead>\n",
       "    <tr style=\"text-align: right;\">\n",
       "      <th></th>\n",
       "      <th>UnsplitCsvIndex</th>\n",
       "      <th>CellId</th>\n",
       "      <th>PlateId</th>\n",
       "      <th>CellIndex</th>\n",
       "      <th>StructureDisplayName</th>\n",
       "      <th>split</th>\n",
       "    </tr>\n",
       "  </thead>\n",
       "  <tbody>\n",
       "    <tr>\n",
       "      <th>0</th>\n",
       "      <td>14</td>\n",
       "      <td>81</td>\n",
       "      <td>3500001454</td>\n",
       "      <td>7</td>\n",
       "      <td>Lysosome</td>\n",
       "      <td>test</td>\n",
       "    </tr>\n",
       "    <tr>\n",
       "      <th>1</th>\n",
       "      <td>32</td>\n",
       "      <td>149</td>\n",
       "      <td>3500001454</td>\n",
       "      <td>11</td>\n",
       "      <td>Lysosome</td>\n",
       "      <td>test</td>\n",
       "    </tr>\n",
       "    <tr>\n",
       "      <th>2</th>\n",
       "      <td>33</td>\n",
       "      <td>155</td>\n",
       "      <td>3500001454</td>\n",
       "      <td>5</td>\n",
       "      <td>Lysosome</td>\n",
       "      <td>test</td>\n",
       "    </tr>\n",
       "    <tr>\n",
       "      <th>3</th>\n",
       "      <td>42</td>\n",
       "      <td>205</td>\n",
       "      <td>3500001454</td>\n",
       "      <td>5</td>\n",
       "      <td>Lysosome</td>\n",
       "      <td>test</td>\n",
       "    </tr>\n",
       "    <tr>\n",
       "      <th>4</th>\n",
       "      <td>50</td>\n",
       "      <td>235</td>\n",
       "      <td>3500001454</td>\n",
       "      <td>11</td>\n",
       "      <td>Lysosome</td>\n",
       "      <td>test</td>\n",
       "    </tr>\n",
       "    <tr>\n",
       "      <th>...</th>\n",
       "      <td>...</td>\n",
       "      <td>...</td>\n",
       "      <td>...</td>\n",
       "      <td>...</td>\n",
       "      <td>...</td>\n",
       "      <td>...</td>\n",
       "    </tr>\n",
       "    <tr>\n",
       "      <th>4740</th>\n",
       "      <td>49330</td>\n",
       "      <td>151618</td>\n",
       "      <td>3500002027</td>\n",
       "      <td>7</td>\n",
       "      <td>Control - DNA</td>\n",
       "      <td>test</td>\n",
       "    </tr>\n",
       "    <tr>\n",
       "      <th>4741</th>\n",
       "      <td>49331</td>\n",
       "      <td>151618</td>\n",
       "      <td>3500002027</td>\n",
       "      <td>7</td>\n",
       "      <td>Control - Memb</td>\n",
       "      <td>test</td>\n",
       "    </tr>\n",
       "    <tr>\n",
       "      <th>4742</th>\n",
       "      <td>49332</td>\n",
       "      <td>151618</td>\n",
       "      <td>3500002027</td>\n",
       "      <td>7</td>\n",
       "      <td>Control - Blank</td>\n",
       "      <td>test</td>\n",
       "    </tr>\n",
       "    <tr>\n",
       "      <th>4743</th>\n",
       "      <td>49333</td>\n",
       "      <td>151618</td>\n",
       "      <td>3500002027</td>\n",
       "      <td>7</td>\n",
       "      <td>Control - Noise</td>\n",
       "      <td>test</td>\n",
       "    </tr>\n",
       "    <tr>\n",
       "      <th>4744</th>\n",
       "      <td>49334</td>\n",
       "      <td>151618</td>\n",
       "      <td>3500002027</td>\n",
       "      <td>7</td>\n",
       "      <td>Control - Random</td>\n",
       "      <td>test</td>\n",
       "    </tr>\n",
       "  </tbody>\n",
       "</table>\n",
       "<p>4745 rows × 6 columns</p>\n",
       "</div>"
      ],
      "text/plain": [
       "      UnsplitCsvIndex  CellId     PlateId  CellIndex StructureDisplayName  \\\n",
       "0                  14      81  3500001454          7             Lysosome   \n",
       "1                  32     149  3500001454         11             Lysosome   \n",
       "2                  33     155  3500001454          5             Lysosome   \n",
       "3                  42     205  3500001454          5             Lysosome   \n",
       "4                  50     235  3500001454         11             Lysosome   \n",
       "...               ...     ...         ...        ...                  ...   \n",
       "4740            49330  151618  3500002027          7        Control - DNA   \n",
       "4741            49331  151618  3500002027          7       Control - Memb   \n",
       "4742            49332  151618  3500002027          7      Control - Blank   \n",
       "4743            49333  151618  3500002027          7      Control - Noise   \n",
       "4744            49334  151618  3500002027          7     Control - Random   \n",
       "\n",
       "     split  \n",
       "0     test  \n",
       "1     test  \n",
       "2     test  \n",
       "3     test  \n",
       "4     test  \n",
       "...    ...  \n",
       "4740  test  \n",
       "4741  test  \n",
       "4742  test  \n",
       "4743  test  \n",
       "4744  test  \n",
       "\n",
       "[4745 rows x 6 columns]"
      ]
     },
     "execution_count": 4,
     "metadata": {},
     "output_type": "execute_result"
    }
   ],
   "source": [
    "dfs_split['test']\n",
    "\n",
    "\n"
   ]
  },
  {
   "cell_type": "markdown",
   "metadata": {},
   "source": [
    "## Get mito annotations for each split"
   ]
  },
  {
   "cell_type": "code",
   "execution_count": null,
   "metadata": {},
   "outputs": [],
   "source": [
    "# from integrated_cell.utils.utils import save_load_mitosis_annotations\n",
    "# mito_annots = save_load_mitosis_annotations(dp_ref, save_dir=None)"
   ]
  },
  {
   "cell_type": "code",
   "execution_count": 5,
   "metadata": {},
   "outputs": [],
   "source": [
    "dfs_mito = {\n",
    "    split: pd.DataFrame(\n",
    "        {\n",
    "            feat:dp_ref.data[\"test\"][feat] for feat in [\"inds\", \"CellId\", \"mito_state_resolved\"]\n",
    "        }\n",
    "    ).rename(\n",
    "        columns={\"inds\":\"UnsplitCsvIndex\"}\n",
    "    ) for split in dp_ref.data.keys()\n",
    "}"
   ]
  },
  {
   "cell_type": "code",
   "execution_count": 6,
   "metadata": {},
   "outputs": [
    {
     "data": {
      "text/plain": [
       "array(['M0', 'M6/M7', 'M4/M5', 'M3', 'M1/M2', 'u'], dtype=object)"
      ]
     },
     "execution_count": 6,
     "metadata": {},
     "output_type": "execute_result"
    }
   ],
   "source": [
    "dfs_mito['test'].mito_state_resolved.unique()\n"
   ]
  },
  {
   "cell_type": "markdown",
   "metadata": {},
   "source": [
    "## Get features for all splits together (unsplit df)"
   ]
  },
  {
   "cell_type": "code",
   "execution_count": null,
   "metadata": {},
   "outputs": [],
   "source": []
  },
  {
   "cell_type": "code",
   "execution_count": 7,
   "metadata": {},
   "outputs": [],
   "source": [
    "import pandas as pd\n",
    "\n",
    "with open('/raid/shared/ipp/scp_19_04_10/feats_out_with_units.json') as f:\n",
    "    feats = json.load(f)\n",
    "\n",
    "df_feats_all = pd.DataFrame.from_dict(feats[\"rows_with_units\"])\n",
    "my_feats = [\"CellId\", \"dna_volume\", \"cell_volume\"]\n",
    "df_feats = df_feats_all[my_feats].copy()"
   ]
  },
  {
   "cell_type": "code",
   "execution_count": 9,
   "metadata": {},
   "outputs": [],
   "source": [
    "df_feats[\"cell_height\"] = df_feats_all[\"cell_position_highest_z\"] - df_feats_all[\"cell_position_lowest_z\"]\n",
    "df_feats[\"dna_height\"] = df_feats_all[\"dna_position_highest_z\"] - df_feats_all[\"dna_position_lowest_z\"]"
   ]
  },
  {
   "cell_type": "code",
   "execution_count": 10,
   "metadata": {},
   "outputs": [
    {
     "data": {
      "text/html": [
       "<div>\n",
       "<style scoped>\n",
       "    .dataframe tbody tr th:only-of-type {\n",
       "        vertical-align: middle;\n",
       "    }\n",
       "\n",
       "    .dataframe tbody tr th {\n",
       "        vertical-align: top;\n",
       "    }\n",
       "\n",
       "    .dataframe thead th {\n",
       "        text-align: right;\n",
       "    }\n",
       "</style>\n",
       "<table border=\"1\" class=\"dataframe\">\n",
       "  <thead>\n",
       "    <tr style=\"text-align: right;\">\n",
       "      <th></th>\n",
       "      <th>imsize_orig</th>\n",
       "      <th>com</th>\n",
       "      <th>angle</th>\n",
       "      <th>flipdim</th>\n",
       "      <th>imsize_registered</th>\n",
       "      <th>dna_cell_struct_cyto_distal_ratio</th>\n",
       "      <th>dna_cell_struct_nuc_distal_ratio</th>\n",
       "      <th>dna_cell_struct_cell_distal_ratio</th>\n",
       "      <th>dna_cell_struct_cyto_z_ratio</th>\n",
       "      <th>dna_cell_struct_nuc_z_ratio</th>\n",
       "      <th>...</th>\n",
       "      <th>cell_texture_haralick_inv_diff_moment</th>\n",
       "      <th>cell_texture_haralick_sum_avg</th>\n",
       "      <th>cell_texture_haralick_sum_var</th>\n",
       "      <th>cell_texture_haralick_sum_entropy</th>\n",
       "      <th>cell_texture_haralick_entropy</th>\n",
       "      <th>cell_texture_haralick_diff_var</th>\n",
       "      <th>cell_texture_haralick_diff_entropy</th>\n",
       "      <th>cell_texture_haralick_info_corr1</th>\n",
       "      <th>cell_texture_haralick_info_corr2</th>\n",
       "      <th>CellId</th>\n",
       "    </tr>\n",
       "  </thead>\n",
       "  <tbody>\n",
       "    <tr>\n",
       "      <th>0</th>\n",
       "      <td>[6, 233, 345, 70]</td>\n",
       "      <td>[0.0, 95.73798643341664, 139.71142449125313, 3...</td>\n",
       "      <td>[[0, -341.75582526118234]]</td>\n",
       "      <td>[False, False, True, False]</td>\n",
       "      <td>[6, 46, 162, 106]</td>\n",
       "      <td>-0.678253</td>\n",
       "      <td>-0.858508</td>\n",
       "      <td>0.710400</td>\n",
       "      <td>0.647402</td>\n",
       "      <td>0.335951</td>\n",
       "      <td>...</td>\n",
       "      <td>0.391685</td>\n",
       "      <td>11.219378</td>\n",
       "      <td>70.785157</td>\n",
       "      <td>4.669716</td>\n",
       "      <td>7.000211</td>\n",
       "      <td>0.002443</td>\n",
       "      <td>2.853355</td>\n",
       "      <td>-0.136620</td>\n",
       "      <td>0.787920</td>\n",
       "      <td>3</td>\n",
       "    </tr>\n",
       "    <tr>\n",
       "      <th>1</th>\n",
       "      <td>[6, 233, 345, 70]</td>\n",
       "      <td>[0.0, 174.5516260117591, 90.00035432329787, 34...</td>\n",
       "      <td>[[0, -329.28894094968496]]</td>\n",
       "      <td>[False, True, False, False]</td>\n",
       "      <td>[6, 44, 140, 82]</td>\n",
       "      <td>-0.379048</td>\n",
       "      <td>-0.861645</td>\n",
       "      <td>0.804327</td>\n",
       "      <td>0.764466</td>\n",
       "      <td>0.217478</td>\n",
       "      <td>...</td>\n",
       "      <td>0.372715</td>\n",
       "      <td>13.767075</td>\n",
       "      <td>145.516059</td>\n",
       "      <td>5.041606</td>\n",
       "      <td>7.508996</td>\n",
       "      <td>0.000778</td>\n",
       "      <td>3.049410</td>\n",
       "      <td>-0.170585</td>\n",
       "      <td>0.857710</td>\n",
       "      <td>4</td>\n",
       "    </tr>\n",
       "    <tr>\n",
       "      <th>2</th>\n",
       "      <td>[6, 233, 345, 70]</td>\n",
       "      <td>[0.0, 59.68728602659114, 101.54515956057251, 3...</td>\n",
       "      <td>[[0, -99.35645917871796]]</td>\n",
       "      <td>[False, False, False, False]</td>\n",
       "      <td>[6, 52, 104, 64]</td>\n",
       "      <td>-0.362142</td>\n",
       "      <td>-0.822053</td>\n",
       "      <td>0.769682</td>\n",
       "      <td>0.738891</td>\n",
       "      <td>0.312548</td>\n",
       "      <td>...</td>\n",
       "      <td>0.340465</td>\n",
       "      <td>14.691660</td>\n",
       "      <td>156.808053</td>\n",
       "      <td>5.129517</td>\n",
       "      <td>7.744635</td>\n",
       "      <td>0.001533</td>\n",
       "      <td>3.165321</td>\n",
       "      <td>-0.155474</td>\n",
       "      <td>0.843536</td>\n",
       "      <td>8</td>\n",
       "    </tr>\n",
       "    <tr>\n",
       "      <th>3</th>\n",
       "      <td>[6, 233, 345, 70]</td>\n",
       "      <td>[0.0, 167.76100180234306, 48.8582156803845, 35...</td>\n",
       "      <td>[[0, -186.2046032385802]]</td>\n",
       "      <td>[False, True, True, False]</td>\n",
       "      <td>[6, 50, 110, 54]</td>\n",
       "      <td>-0.542339</td>\n",
       "      <td>-0.785274</td>\n",
       "      <td>0.862652</td>\n",
       "      <td>0.847001</td>\n",
       "      <td>-0.198947</td>\n",
       "      <td>...</td>\n",
       "      <td>0.371594</td>\n",
       "      <td>15.811755</td>\n",
       "      <td>174.186657</td>\n",
       "      <td>5.264366</td>\n",
       "      <td>7.781250</td>\n",
       "      <td>0.002252</td>\n",
       "      <td>3.057061</td>\n",
       "      <td>-0.198706</td>\n",
       "      <td>0.898151</td>\n",
       "      <td>9</td>\n",
       "    </tr>\n",
       "    <tr>\n",
       "      <th>4</th>\n",
       "      <td>[6, 233, 345, 70]</td>\n",
       "      <td>[0.0, 82.90367449254096, 111.75973648813891, 3...</td>\n",
       "      <td>[[0, -205.68844110600955]]</td>\n",
       "      <td>[False, True, True, False]</td>\n",
       "      <td>[6, 36, 100, 90]</td>\n",
       "      <td>-0.084949</td>\n",
       "      <td>-0.809483</td>\n",
       "      <td>0.850606</td>\n",
       "      <td>0.279812</td>\n",
       "      <td>-0.677044</td>\n",
       "      <td>...</td>\n",
       "      <td>0.327381</td>\n",
       "      <td>15.217116</td>\n",
       "      <td>266.227963</td>\n",
       "      <td>5.161616</td>\n",
       "      <td>7.830178</td>\n",
       "      <td>0.000883</td>\n",
       "      <td>3.336896</td>\n",
       "      <td>-0.147983</td>\n",
       "      <td>0.834868</td>\n",
       "      <td>20</td>\n",
       "    </tr>\n",
       "    <tr>\n",
       "      <th>...</th>\n",
       "      <td>...</td>\n",
       "      <td>...</td>\n",
       "      <td>...</td>\n",
       "      <td>...</td>\n",
       "      <td>...</td>\n",
       "      <td>...</td>\n",
       "      <td>...</td>\n",
       "      <td>...</td>\n",
       "      <td>...</td>\n",
       "      <td>...</td>\n",
       "      <td>...</td>\n",
       "      <td>...</td>\n",
       "      <td>...</td>\n",
       "      <td>...</td>\n",
       "      <td>...</td>\n",
       "      <td>...</td>\n",
       "      <td>...</td>\n",
       "      <td>...</td>\n",
       "      <td>...</td>\n",
       "      <td>...</td>\n",
       "      <td>...</td>\n",
       "    </tr>\n",
       "    <tr>\n",
       "      <th>39185</th>\n",
       "      <td>[6, 233, 345, 65]</td>\n",
       "      <td>[0.0, 180.47328432687664, 86.54450823630413, 3...</td>\n",
       "      <td>[[0, -212.0118390169808]]</td>\n",
       "      <td>[False, False, False, False]</td>\n",
       "      <td>[6, 48, 124, 82]</td>\n",
       "      <td>-0.154522</td>\n",
       "      <td>0.849174</td>\n",
       "      <td>-0.969223</td>\n",
       "      <td>0.962999</td>\n",
       "      <td>-0.008615</td>\n",
       "      <td>...</td>\n",
       "      <td>0.436732</td>\n",
       "      <td>11.057878</td>\n",
       "      <td>145.935109</td>\n",
       "      <td>4.639912</td>\n",
       "      <td>6.847553</td>\n",
       "      <td>0.002150</td>\n",
       "      <td>2.990089</td>\n",
       "      <td>-0.152317</td>\n",
       "      <td>0.810255</td>\n",
       "      <td>151639</td>\n",
       "    </tr>\n",
       "    <tr>\n",
       "      <th>39186</th>\n",
       "      <td>[6, 233, 345, 65]</td>\n",
       "      <td>[0.0, 166.78789497472982, 127.12941885469313, ...</td>\n",
       "      <td>[[0, -51.06735666944357]]</td>\n",
       "      <td>[False, False, False, False]</td>\n",
       "      <td>[6, 50, 104, 86]</td>\n",
       "      <td>0.194069</td>\n",
       "      <td>0.885184</td>\n",
       "      <td>-0.970856</td>\n",
       "      <td>0.673005</td>\n",
       "      <td>-0.040778</td>\n",
       "      <td>...</td>\n",
       "      <td>0.420820</td>\n",
       "      <td>12.155386</td>\n",
       "      <td>131.925161</td>\n",
       "      <td>4.784324</td>\n",
       "      <td>7.005031</td>\n",
       "      <td>0.001388</td>\n",
       "      <td>2.866283</td>\n",
       "      <td>-0.181705</td>\n",
       "      <td>0.854017</td>\n",
       "      <td>151641</td>\n",
       "    </tr>\n",
       "    <tr>\n",
       "      <th>39187</th>\n",
       "      <td>[6, 233, 345, 65]</td>\n",
       "      <td>[0.0, 117.11161246656138, 168.3681739560168, 3...</td>\n",
       "      <td>[[0, -296.44261708043825]]</td>\n",
       "      <td>[False, False, False, False]</td>\n",
       "      <td>[6, 50, 140, 82]</td>\n",
       "      <td>-0.195323</td>\n",
       "      <td>0.843532</td>\n",
       "      <td>-0.976143</td>\n",
       "      <td>0.426922</td>\n",
       "      <td>-0.034855</td>\n",
       "      <td>...</td>\n",
       "      <td>0.454499</td>\n",
       "      <td>10.659366</td>\n",
       "      <td>96.663681</td>\n",
       "      <td>4.611459</td>\n",
       "      <td>6.695093</td>\n",
       "      <td>0.002452</td>\n",
       "      <td>2.767165</td>\n",
       "      <td>-0.183544</td>\n",
       "      <td>0.847190</td>\n",
       "      <td>151642</td>\n",
       "    </tr>\n",
       "    <tr>\n",
       "      <th>39188</th>\n",
       "      <td>[6, 233, 345, 65]</td>\n",
       "      <td>[0.0, 67.76593546336035, 184.76893975520585, 2...</td>\n",
       "      <td>[[0, -19.700272475770966]]</td>\n",
       "      <td>[False, False, False, False]</td>\n",
       "      <td>[6, 68, 98, 68]</td>\n",
       "      <td>0.252698</td>\n",
       "      <td>0.848712</td>\n",
       "      <td>-0.924396</td>\n",
       "      <td>-0.421818</td>\n",
       "      <td>0.184838</td>\n",
       "      <td>...</td>\n",
       "      <td>0.538873</td>\n",
       "      <td>8.850230</td>\n",
       "      <td>93.723706</td>\n",
       "      <td>4.258818</td>\n",
       "      <td>6.015484</td>\n",
       "      <td>0.002161</td>\n",
       "      <td>2.541985</td>\n",
       "      <td>-0.201376</td>\n",
       "      <td>0.848389</td>\n",
       "      <td>151643</td>\n",
       "    </tr>\n",
       "    <tr>\n",
       "      <th>39189</th>\n",
       "      <td>[6, 233, 345, 65]</td>\n",
       "      <td>[0.0, 163.02856421377857, 216.7031876652506, 3...</td>\n",
       "      <td>[[0, -142.1519872664504]]</td>\n",
       "      <td>[False, False, False, False]</td>\n",
       "      <td>[6, 54, 116, 64]</td>\n",
       "      <td>-0.176087</td>\n",
       "      <td>-0.309985</td>\n",
       "      <td>0.610461</td>\n",
       "      <td>-0.388774</td>\n",
       "      <td>-0.088353</td>\n",
       "      <td>...</td>\n",
       "      <td>0.549528</td>\n",
       "      <td>9.349646</td>\n",
       "      <td>76.747981</td>\n",
       "      <td>4.384655</td>\n",
       "      <td>6.105139</td>\n",
       "      <td>0.002017</td>\n",
       "      <td>2.411024</td>\n",
       "      <td>-0.244399</td>\n",
       "      <td>0.898527</td>\n",
       "      <td>151647</td>\n",
       "    </tr>\n",
       "  </tbody>\n",
       "</table>\n",
       "<p>39190 rows × 108 columns</p>\n",
       "</div>"
      ],
      "text/plain": [
       "             imsize_orig                                                com  \\\n",
       "0      [6, 233, 345, 70]  [0.0, 95.73798643341664, 139.71142449125313, 3...   \n",
       "1      [6, 233, 345, 70]  [0.0, 174.5516260117591, 90.00035432329787, 34...   \n",
       "2      [6, 233, 345, 70]  [0.0, 59.68728602659114, 101.54515956057251, 3...   \n",
       "3      [6, 233, 345, 70]  [0.0, 167.76100180234306, 48.8582156803845, 35...   \n",
       "4      [6, 233, 345, 70]  [0.0, 82.90367449254096, 111.75973648813891, 3...   \n",
       "...                  ...                                                ...   \n",
       "39185  [6, 233, 345, 65]  [0.0, 180.47328432687664, 86.54450823630413, 3...   \n",
       "39186  [6, 233, 345, 65]  [0.0, 166.78789497472982, 127.12941885469313, ...   \n",
       "39187  [6, 233, 345, 65]  [0.0, 117.11161246656138, 168.3681739560168, 3...   \n",
       "39188  [6, 233, 345, 65]  [0.0, 67.76593546336035, 184.76893975520585, 2...   \n",
       "39189  [6, 233, 345, 65]  [0.0, 163.02856421377857, 216.7031876652506, 3...   \n",
       "\n",
       "                            angle                       flipdim  \\\n",
       "0      [[0, -341.75582526118234]]   [False, False, True, False]   \n",
       "1      [[0, -329.28894094968496]]   [False, True, False, False]   \n",
       "2       [[0, -99.35645917871796]]  [False, False, False, False]   \n",
       "3       [[0, -186.2046032385802]]    [False, True, True, False]   \n",
       "4      [[0, -205.68844110600955]]    [False, True, True, False]   \n",
       "...                           ...                           ...   \n",
       "39185   [[0, -212.0118390169808]]  [False, False, False, False]   \n",
       "39186   [[0, -51.06735666944357]]  [False, False, False, False]   \n",
       "39187  [[0, -296.44261708043825]]  [False, False, False, False]   \n",
       "39188  [[0, -19.700272475770966]]  [False, False, False, False]   \n",
       "39189   [[0, -142.1519872664504]]  [False, False, False, False]   \n",
       "\n",
       "       imsize_registered  dna_cell_struct_cyto_distal_ratio  \\\n",
       "0      [6, 46, 162, 106]                          -0.678253   \n",
       "1       [6, 44, 140, 82]                          -0.379048   \n",
       "2       [6, 52, 104, 64]                          -0.362142   \n",
       "3       [6, 50, 110, 54]                          -0.542339   \n",
       "4       [6, 36, 100, 90]                          -0.084949   \n",
       "...                  ...                                ...   \n",
       "39185   [6, 48, 124, 82]                          -0.154522   \n",
       "39186   [6, 50, 104, 86]                           0.194069   \n",
       "39187   [6, 50, 140, 82]                          -0.195323   \n",
       "39188    [6, 68, 98, 68]                           0.252698   \n",
       "39189   [6, 54, 116, 64]                          -0.176087   \n",
       "\n",
       "       dna_cell_struct_nuc_distal_ratio  dna_cell_struct_cell_distal_ratio  \\\n",
       "0                             -0.858508                           0.710400   \n",
       "1                             -0.861645                           0.804327   \n",
       "2                             -0.822053                           0.769682   \n",
       "3                             -0.785274                           0.862652   \n",
       "4                             -0.809483                           0.850606   \n",
       "...                                 ...                                ...   \n",
       "39185                          0.849174                          -0.969223   \n",
       "39186                          0.885184                          -0.970856   \n",
       "39187                          0.843532                          -0.976143   \n",
       "39188                          0.848712                          -0.924396   \n",
       "39189                         -0.309985                           0.610461   \n",
       "\n",
       "       dna_cell_struct_cyto_z_ratio  dna_cell_struct_nuc_z_ratio  ...  \\\n",
       "0                          0.647402                     0.335951  ...   \n",
       "1                          0.764466                     0.217478  ...   \n",
       "2                          0.738891                     0.312548  ...   \n",
       "3                          0.847001                    -0.198947  ...   \n",
       "4                          0.279812                    -0.677044  ...   \n",
       "...                             ...                          ...  ...   \n",
       "39185                      0.962999                    -0.008615  ...   \n",
       "39186                      0.673005                    -0.040778  ...   \n",
       "39187                      0.426922                    -0.034855  ...   \n",
       "39188                     -0.421818                     0.184838  ...   \n",
       "39189                     -0.388774                    -0.088353  ...   \n",
       "\n",
       "       cell_texture_haralick_inv_diff_moment  cell_texture_haralick_sum_avg  \\\n",
       "0                                   0.391685                      11.219378   \n",
       "1                                   0.372715                      13.767075   \n",
       "2                                   0.340465                      14.691660   \n",
       "3                                   0.371594                      15.811755   \n",
       "4                                   0.327381                      15.217116   \n",
       "...                                      ...                            ...   \n",
       "39185                               0.436732                      11.057878   \n",
       "39186                               0.420820                      12.155386   \n",
       "39187                               0.454499                      10.659366   \n",
       "39188                               0.538873                       8.850230   \n",
       "39189                               0.549528                       9.349646   \n",
       "\n",
       "       cell_texture_haralick_sum_var  cell_texture_haralick_sum_entropy  \\\n",
       "0                          70.785157                           4.669716   \n",
       "1                         145.516059                           5.041606   \n",
       "2                         156.808053                           5.129517   \n",
       "3                         174.186657                           5.264366   \n",
       "4                         266.227963                           5.161616   \n",
       "...                              ...                                ...   \n",
       "39185                     145.935109                           4.639912   \n",
       "39186                     131.925161                           4.784324   \n",
       "39187                      96.663681                           4.611459   \n",
       "39188                      93.723706                           4.258818   \n",
       "39189                      76.747981                           4.384655   \n",
       "\n",
       "       cell_texture_haralick_entropy  cell_texture_haralick_diff_var  \\\n",
       "0                           7.000211                        0.002443   \n",
       "1                           7.508996                        0.000778   \n",
       "2                           7.744635                        0.001533   \n",
       "3                           7.781250                        0.002252   \n",
       "4                           7.830178                        0.000883   \n",
       "...                              ...                             ...   \n",
       "39185                       6.847553                        0.002150   \n",
       "39186                       7.005031                        0.001388   \n",
       "39187                       6.695093                        0.002452   \n",
       "39188                       6.015484                        0.002161   \n",
       "39189                       6.105139                        0.002017   \n",
       "\n",
       "       cell_texture_haralick_diff_entropy  cell_texture_haralick_info_corr1  \\\n",
       "0                                2.853355                         -0.136620   \n",
       "1                                3.049410                         -0.170585   \n",
       "2                                3.165321                         -0.155474   \n",
       "3                                3.057061                         -0.198706   \n",
       "4                                3.336896                         -0.147983   \n",
       "...                                   ...                               ...   \n",
       "39185                            2.990089                         -0.152317   \n",
       "39186                            2.866283                         -0.181705   \n",
       "39187                            2.767165                         -0.183544   \n",
       "39188                            2.541985                         -0.201376   \n",
       "39189                            2.411024                         -0.244399   \n",
       "\n",
       "       cell_texture_haralick_info_corr2  CellId  \n",
       "0                              0.787920       3  \n",
       "1                              0.857710       4  \n",
       "2                              0.843536       8  \n",
       "3                              0.898151       9  \n",
       "4                              0.834868      20  \n",
       "...                                 ...     ...  \n",
       "39185                          0.810255  151639  \n",
       "39186                          0.854017  151641  \n",
       "39187                          0.847190  151642  \n",
       "39188                          0.848389  151643  \n",
       "39189                          0.898527  151647  \n",
       "\n",
       "[39190 rows x 108 columns]"
      ]
     },
     "execution_count": 10,
     "metadata": {},
     "output_type": "execute_result"
    }
   ],
   "source": [
    "df_feats_all\n"
   ]
  },
  {
   "cell_type": "markdown",
   "metadata": {},
   "source": [
    "## Find the embeddings for each split"
   ]
  },
  {
   "cell_type": "code",
   "execution_count": 11,
   "metadata": {},
   "outputs": [
    {
     "name": "stderr",
     "output_type": "stream",
     "text": [
      "100%|██████████| 149/149 [23:03<00:00,  9.29s/it]\n"
     ]
    }
   ],
   "source": [
    "from integrated_cell.metrics.embeddings_reference import get_latent_embeddings\n",
    "# running each of the test cells \n",
    "embeds_test = get_latent_embeddings(\n",
    "    ref_enc,\n",
    "    ref_dec,\n",
    "    dp_ref,\n",
    "    recon_loss,\n",
    "    modes=['test'],\n",
    "    batch_size=32,\n",
    ")"
   ]
  },
  {
   "cell_type": "code",
   "execution_count": null,
   "metadata": {},
   "outputs": [],
   "source": [
    "dfs_embeds = {\n",
    "    split: pd.DataFrame(\n",
    "        embeds_test[split][\"ref\"][\"mu\"].numpy(),\n",
    "        columns=[f\"mu_{i}\" for i in range(embeds_test[\"test\"][\"ref\"][\"mu\"].numpy().shape[1])]\n",
    "    ) for split in ['test']\n",
    "}"
   ]
  },
  {
   "cell_type": "code",
   "execution_count": null,
   "metadata": {},
   "outputs": [],
   "source": [
    "for split, df_embed in dfs_embeds.items():\n",
    "    assert len(dfs_embeds[split]) == len(dfs_split[split])\n",
    "    dfs_embeds[split][\"UnsplitCsvIndex\"] = dfs_split[split][\"UnsplitCsvIndex\"]"
   ]
  },
  {
   "cell_type": "code",
   "execution_count": null,
   "metadata": {},
   "outputs": [],
   "source": []
  },
  {
   "cell_type": "code",
   "execution_count": null,
   "metadata": {},
   "outputs": [],
   "source": [
    "# this is just for test set until i can run all splits\n",
    "\n",
    "# embeds_test = get_latent_embeddings(ref_enc, ref_dec, dp_ref, recon_loss, modes=['test'], batch_size=32,)\n",
    "\n",
    "df_embeds_test = pd.DataFrame(\n",
    "    embeds_test[\"test\"][\"ref\"][\"mu\"].numpy(),\n",
    "    columns=[f\"mu_{i}\" for i in range(embeds_test[\"test\"][\"ref\"][\"mu\"].numpy().shape[1])]\n",
    ")\n",
    "\n",
    "assert len(df_embeds_test) == len(dfs_split[\"test\"])\n",
    "df_embeds_test[\"UnsplitCsvIndex\"] = dfs_split[\"test\"][\"UnsplitCsvIndex\"]"
   ]
  },
  {
   "cell_type": "markdown",
   "metadata": {},
   "source": [
    "## Merge embeddings in to metadata"
   ]
  },
  {
   "cell_type": "code",
   "execution_count": null,
   "metadata": {},
   "outputs": [],
   "source": [
    "dfs_split = {\n",
    "    split: df_split.merge(df_feats) for split, df_split in dfs_split.items()\n",
    "}"
   ]
  },
  {
   "cell_type": "code",
   "execution_count": null,
   "metadata": {},
   "outputs": [],
   "source": [
    "dfs_split"
   ]
  },
  {
   "cell_type": "code",
   "execution_count": null,
   "metadata": {},
   "outputs": [],
   "source": [
    "# need to fix up to do all splits at once"
   ]
  },
  {
   "cell_type": "code",
   "execution_count": null,
   "metadata": {},
   "outputs": [],
   "source": [
    "df_embeddings_plus_meta_test = dfs_split[\"test\"].merge(\n",
    "    dfs_mito[\"test\"]\n",
    ").merge(\n",
    "    df_feats\n",
    ").merge(\n",
    "    df_embeds_test\n",
    ")\n",
    "\n",
    "df_embeddings_plus_meta_test_all_feats = dfs_split[\"test\"].merge(\n",
    "    dfs_mito[\"test\"]\n",
    ").merge(\n",
    "    df_feats_all\n",
    ").merge(\n",
    "    df_embeds_test\n",
    ")\n",
    "\n",
    "# df_embeddings_plus_meta_test.to_csv(\"embeddings_plus_meta_test.csv\")"
   ]
  },
  {
   "cell_type": "code",
   "execution_count": null,
   "metadata": {},
   "outputs": [],
   "source": [
    "df_embeddings_plus_meta_test"
   ]
  },
  {
   "cell_type": "markdown",
   "metadata": {},
   "source": [
    "## find top latent dims and drop others for grid plots"
   ]
  },
  {
   "cell_type": "code",
   "execution_count": null,
   "metadata": {},
   "outputs": [],
   "source": [
    "feature_corrs = df_embeddings_plus_meta_test[\n",
    "    [c for c in df_embeddings_plus_meta_test.columns if \"mu\" in c or c in df_feats.drop(columns=[\"CellId\"]).columns]\n",
    "].corr(method=\"spearman\")"
   ]
  },
  {
   "cell_type": "code",
   "execution_count": null,
   "metadata": {},
   "outputs": [],
   "source": [
    "feature_corrs.columns"
   ]
  },
  {
   "cell_type": "code",
   "execution_count": null,
   "metadata": {},
   "outputs": [],
   "source": [
    "top_mu_dims = list(\n",
    "    df_embeddings_plus_meta_test[\n",
    "        [c for c in df_embeddings_plus_meta_test.columns if \"mu\" in c]\n",
    "    ].abs().mean().sort_values().index\n",
    ")\n",
    "top_mu_dims.reverse()\n",
    "top_mu_dims[0:10]"
   ]
  },
  {
   "cell_type": "code",
   "execution_count": null,
   "metadata": {},
   "outputs": [],
   "source": [
    "cols_to_drop = [\n",
    "    c for c in df_embeddings_plus_meta_test.columns if \"mu\" in c and c not in top_mu_dims\n",
    "]\n",
    "df_embeddings_plus_meta_test_top = df_embeddings_plus_meta_test.drop(columns=cols_to_drop)"
   ]
  },
  {
   "cell_type": "markdown",
   "metadata": {},
   "source": [
    "## plots"
   ]
  },
  {
   "cell_type": "code",
   "execution_count": null,
   "metadata": {},
   "outputs": [],
   "source": [
    "# drop missing structure labels\n",
    "df_embeddings_plus_meta_test = df_embeddings_plus_meta_test.dropna()\n",
    "\n",
    "# drop controls\n",
    "df_embeddings_plus_meta_test = df_embeddings_plus_meta_test[\n",
    "    ~df_embeddings_plus_meta_test.StructureDisplayName.str.startswith(\"Control\")\n",
    "]"
   ]
  },
  {
   "cell_type": "markdown",
   "metadata": {},
   "source": [
    "## plot mito annotations"
   ]
  },
  {
   "cell_type": "code",
   "execution_count": null,
   "metadata": {},
   "outputs": [],
   "source": [
    "df_mito_search = df_embeddings_plus_meta_test_all_feats.dropna().copy()\n",
    "df_mito_search = df_mito_search[df_mito_search[\"mito_state_resolved\"] != 'u']\n",
    "\n",
    "df_mito_search[\"mito_state_int\"] = df_mito_search[\"mito_state_resolved\"].map(\n",
    "    {'M0':0, 'M1/M2':1, 'M3':2, 'M4/M5':3, 'M6/M7':4}\n",
    ")\n",
    "# df_mito_search = df_mito_search[df_mito_search[\"mito_state_int\"] != 0]\n",
    "\n",
    "mu_cols = [c for c in df_embeds_test.columns if c.startswith(\"mu_\") and c != \"CellId\"]\n",
    "mito_corrs = df_mito_search[mu_cols+[\"mito_state_int\"]].corr(method=\"spearman\")\n",
    "mito_corrs = mito_corrs.drop(mu_cols, axis=\"columns\").drop([\"mito_state_int\"], axis=\"rows\")"
   ]
  },
  {
   "cell_type": "code",
   "execution_count": null,
   "metadata": {},
   "outputs": [],
   "source": [
    "df = pd.DataFrame()\n",
    "df['X1'] = np.random.permutation(mito_corrs['mito_state_int'])\n",
    "df.cumsum().plot()\n",
    "mito_corrs['mito_state_int'].cumsum().plot()\n"
   ]
  },
  {
   "cell_type": "code",
   "execution_count": null,
   "metadata": {},
   "outputs": [],
   "source": [
    "df_embeddings_plus_meta_test[\"mu_0\"][0]                             "
   ]
  },
  {
   "cell_type": "code",
   "execution_count": null,
   "metadata": {},
   "outputs": [],
   "source": [
    "plt.figure(figsize=(4,4))\n",
    "\n",
    "g = sns.lineplot(\n",
    "    x=mito_corrs.abs().rank(ascending=False)[\"mito_state_int\"],\n",
    "    y=mito_corrs.abs()[\"mito_state_int\"]\n",
    ");\n",
    "\n",
    "g.set(\n",
    "#     xlim=(-5, 3),\n",
    "#     ylim=(-4, 5),\n",
    "    xlabel=\"Dimension rank\",\n",
    "    ylabel=\"Spearman corr. with mitotic state\",\n",
    ");\n",
    "\n",
    "sns.despine()\n",
    "\n",
    "plt.savefig('mito_dims_ranked.png', dpi=300, bbox_inches = \"tight\")"
   ]
  },
  {
   "cell_type": "code",
   "execution_count": null,
   "metadata": {},
   "outputs": [],
   "source": [
    "top_mito_dims = list(mito_corrs.abs().squeeze().sort_values().index)\n",
    "top_mito_dims.reverse()\n",
    "top_mito_dims[0:10]"
   ]
  },
  {
   "cell_type": "code",
   "execution_count": null,
   "metadata": {},
   "outputs": [],
   "source": [
    "mito_dims_compared_to_overall_mu_ranks = [\n",
    "    (dim, i, top_mu_dims.index(dim))\n",
    "    for i, dim in enumerate(top_mito_dims[:8])]\n",
    "\n",
    "mito_dims_compared_to_overall_mu_ranks"
   ]
  },
  {
   "cell_type": "code",
   "execution_count": null,
   "metadata": {},
   "outputs": [],
   "source": [
    "pd.DataFrame(mito_dims_compared_to_overall_mu_ranks, columns=[\"dim\", \"mito rank\", \"overall rank\"])"
   ]
  },
  {
   "cell_type": "markdown",
   "metadata": {},
   "source": [
    "## plots"
   ]
  },
  {
   "cell_type": "code",
   "execution_count": null,
   "metadata": {},
   "outputs": [],
   "source": [
    "df_embeddings_plus_meta_test_pretty_names = df_embeddings_plus_meta_test.rename(\n",
    "    columns={\n",
    "        \"mito_state_resolved\": \"Mitotic state\",\n",
    "        'dna_volume': 'DNA volume',\n",
    "        'cell_volume': 'Cell volume',\n",
    "        'dna_height': 'DNA height',\n",
    "        'cell_height': 'Cell height'\n",
    "    }\n",
    ")\n",
    "\n",
    "pixel_length_in_micrometers = 0.29\n",
    "df_embeddings_plus_meta_test_pretty_names['DNA volume (μm^3)'] = df_embeddings_plus_meta_test_pretty_names['DNA volume']*(pixel_length_in_micrometers**3)\n",
    "df_embeddings_plus_meta_test_pretty_names['DNA height (μm)'] = df_embeddings_plus_meta_test_pretty_names['DNA height']*pixel_length_in_micrometers\n",
    "df_embeddings_plus_meta_test_pretty_names['Cell volume (μm^3)'] = df_embeddings_plus_meta_test_pretty_names['Cell volume']*(pixel_length_in_micrometers**3)\n",
    "df_embeddings_plus_meta_test_pretty_names['Cell height (μm)'] = df_embeddings_plus_meta_test_pretty_names['Cell height']*pixel_length_in_micrometers"
   ]
  },
  {
   "cell_type": "markdown",
   "metadata": {},
   "source": [
    "### mito plots"
   ]
  },
  {
   "cell_type": "markdown",
   "metadata": {},
   "source": [
    "#### by top 2 dims that separate mito states"
   ]
  },
  {
   "cell_type": "code",
   "execution_count": null,
   "metadata": {},
   "outputs": [],
   "source": [
    "plt.figure(figsize=(3,3))\n",
    "\n",
    "plt_mito = sns.scatterplot(\n",
    "    data=df_embeddings_plus_meta_test_pretty_names[\n",
    "        df_embeddings_plus_meta_test_pretty_names[\"Mitotic state\"] != 'u'\n",
    "    ].sort_values(\n",
    "        by=\"Mitotic state\"\n",
    "    ),\n",
    "    x=\"mu_452\",\n",
    "    y=\"mu_419\",\n",
    "    hue=\"Mitotic state\",\n",
    "    hue_order=['M0', 'M1/M2', 'M3', 'M4/M5', 'M6/M7'],\n",
    "    palette=[(\"lightgrey\")] + sns.color_palette(\"tab10\")[:4],\n",
    "    linewidth=0,\n",
    "    alpha = 0.5,\n",
    "    s=20,\n",
    ")\n",
    "\n",
    "plt_mito.set(\n",
    "    xlabel=\"$\\mu_{452}$\",\n",
    "    ylabel=\"$\\mu_{419}$\",\n",
    ");\n",
    "\n",
    "plt.legend(bbox_to_anchor=(1.0, 0.7), frameon=False)\n",
    "sns.despine()\n",
    "\n",
    "plt.savefig('latent_plot_mito_top_mito_dims.png', dpi=300, bbox_inches = \"tight\")"
   ]
  },
  {
   "cell_type": "markdown",
   "metadata": {},
   "source": [
    "#### by top two overall dims"
   ]
  },
  {
   "cell_type": "code",
   "execution_count": null,
   "metadata": {},
   "outputs": [],
   "source": [
    "plt.figure(figsize=(3,3))\n",
    "\n",
    "plt_mito = sns.scatterplot(\n",
    "    data=df_embeddings_plus_meta_test_pretty_names[\n",
    "        df_embeddings_plus_meta_test_pretty_names[\"Mitotic state\"] != 'u'\n",
    "    ].sort_values(\n",
    "        by=\"Mitotic state\"\n",
    "    ),\n",
    "    x=\"mu_71\",\n",
    "    y=\"mu_419\",\n",
    "    hue=\"Mitotic state\",\n",
    "    hue_order=['M0', 'M1/M2', 'M3', 'M4/M5', 'M6/M7'],\n",
    "    palette=[(\"lightgrey\")] + sns.color_palette(\"tab10\")[:4],\n",
    "    linewidth=0,\n",
    "    alpha = 0.5,\n",
    "    s=20,\n",
    ")\n",
    "\n",
    "plt_mito.set(\n",
    "    xlabel=\"$\\mu_{71}$\",\n",
    "    ylabel=\"$\\mu_{419}$\",\n",
    ");\n",
    "\n",
    "plt.legend(bbox_to_anchor=(1.0, 0.7), frameon=False)\n",
    "sns.despine()\n",
    "\n",
    "plt.savefig('latent_plot_mito_top_mu_overall_dims.png', dpi=300, bbox_inches = \"tight\")"
   ]
  },
  {
   "cell_type": "markdown",
   "metadata": {},
   "source": [
    "### grid plots"
   ]
  },
  {
   "cell_type": "code",
   "execution_count": null,
   "metadata": {},
   "outputs": [],
   "source": [
    "pretty_hue_names = {\n",
    "    'DNA volume (μm^3)': 'DNA volume (μm$^3$)',\n",
    "    'DNA height (μm)': 'DNA height (μm)',\n",
    "    'Cell volume (μm^3)': 'Cell volume (μm$^3$)',\n",
    "    'Cell height (μm)': 'Cell height (μm)',\n",
    "}"
   ]
  },
  {
   "cell_type": "code",
   "execution_count": null,
   "metadata": {},
   "outputs": [],
   "source": [
    "pretty_mu_names = {\n",
    "    'mu_71': \"$\\mu_{71}$\",\n",
    "    'mu_419': \"$\\mu_{419}$\",\n",
    "    'mu_188': \"$\\mu_{188}$\",\n",
    "    'mu_465': \"$\\mu_{465}$\",\n",
    "}\n",
    "pretty_mu_names"
   ]
  },
  {
   "cell_type": "code",
   "execution_count": null,
   "metadata": {},
   "outputs": [],
   "source": [
    "for hue, hue_pretty_name in pretty_hue_names.items():\n",
    "\n",
    "    hue_norm_tail = 0.01\n",
    "\n",
    "    df_plot = df_embeddings_plus_meta_test_pretty_names[\n",
    "        df_embeddings_plus_meta_test_pretty_names[\"Mitotic state\"] != 'u'\n",
    "    ]\n",
    "\n",
    "    g = sns.PairGrid(\n",
    "        df_plot,\n",
    "        height=1.5,\n",
    "        vars=top_mu_dims[:4]\n",
    "    )\n",
    "    g.map_diag(sns.kdeplot, color=\".2\", shade=False)\n",
    "    g.map_offdiag(\n",
    "        sns.scatterplot,\n",
    "        hue=df_plot[hue],\n",
    "        palette=\"viridis\",\n",
    "        s=20,\n",
    "        linewidth=0,\n",
    "        alpha=0.5,\n",
    "        hue_norm=(np.quantile(df_plot[hue], hue_norm_tail), np.quantile(df_plot[hue], 1-hue_norm_tail))\n",
    "    );\n",
    "\n",
    "    plt.legend(title=hue_pretty_name, bbox_to_anchor=(1.01, 1), frameon=False)\n",
    "#     g._legend.set_title(new_title)\n",
    "    \n",
    "    for i in range(4):\n",
    "        for j in range(4):\n",
    "            xlabel = g.axes[i][j].get_xlabel()\n",
    "            ylabel = g.axes[i][j].get_ylabel()\n",
    "            if xlabel in pretty_mu_names.keys():\n",
    "                g.axes[i][j].set_xlabel(pretty_mu_names[xlabel])\n",
    "            if ylabel in pretty_mu_names.keys():\n",
    "                g.axes[i][j].set_ylabel(pretty_mu_names[ylabel])\n",
    "    \n",
    "    \n",
    "    plt.subplots_adjust(top=0.95)\n",
    "#     g.fig.suptitle(f\"color = {hue_pretty_name}\");\n",
    "    g.fig.savefig(f\"latent_top_mu_dims_gridplot_color_{hue.lower().replace(' ', '_')}.png\", dpi=300, bbox_inches = \"tight\")"
   ]
  },
  {
   "cell_type": "markdown",
   "metadata": {},
   "source": [
    "### cell volume and height solo for main figure"
   ]
  },
  {
   "cell_type": "code",
   "execution_count": null,
   "metadata": {},
   "outputs": [],
   "source": [
    "plt.figure(figsize=(3,3))\n",
    "\n",
    "hue_norm_tail = 0.01\n",
    "\n",
    "plt_mito = sns.scatterplot(\n",
    "    data=df_embeddings_plus_meta_test_pretty_names[\n",
    "        df_embeddings_plus_meta_test_pretty_names[\"Mitotic state\"] != 'u'\n",
    "    ].sort_values(\n",
    "        by=\"Cell height (μm)\"\n",
    "    ),\n",
    "    x=\"mu_71\",\n",
    "    y=\"mu_419\",\n",
    "    hue=\"Cell height (μm)\",\n",
    "    palette=\"viridis\",\n",
    "    linewidth=0,\n",
    "    alpha = 0.5,\n",
    "    s=20,\n",
    "    hue_norm=(\n",
    "        np.quantile(df_embeddings_plus_meta_test_pretty_names[\"Cell height (μm)\"], hue_norm_tail),\n",
    "        np.quantile(df_embeddings_plus_meta_test_pretty_names[\"Cell height (μm)\"], 1-hue_norm_tail)\n",
    "    )\n",
    ")\n",
    "\n",
    "plt_mito.set(\n",
    "    xlabel=\"$\\mu_{71}$\",\n",
    "    ylabel=\"$\\mu_{419}$\",\n",
    ");\n",
    "\n",
    "plt.legend(bbox_to_anchor=(1.0, 0.7), frameon=False)\n",
    "sns.despine()\n",
    "\n",
    "plt.savefig('latent_plot_mito_cell_height_alone.png', dpi=300, bbox_inches = \"tight\")"
   ]
  },
  {
   "cell_type": "code",
   "execution_count": null,
   "metadata": {},
   "outputs": [],
   "source": [
    "plt.figure(figsize=(3,3))\n",
    "\n",
    "plt_mito = sns.scatterplot(\n",
    "    data=df_embeddings_plus_meta_test_pretty_names[\n",
    "        df_embeddings_plus_meta_test_pretty_names[\"Mitotic state\"] != 'u'\n",
    "    ].sort_values(\n",
    "        by=\"Cell volume (μm^3)\"\n",
    "    ),\n",
    "    x=\"mu_71\",\n",
    "    y=\"mu_419\",\n",
    "    hue=\"Cell volume (μm^3)\",\n",
    "    palette=\"viridis\",\n",
    "    linewidth=0,\n",
    "    alpha = 0.5,\n",
    "    s=20,\n",
    "    hue_norm=(\n",
    "        np.quantile(df_embeddings_plus_meta_test_pretty_names[\"Cell volume (μm^3)\"], hue_norm_tail),\n",
    "        np.quantile(df_embeddings_plus_meta_test_pretty_names[\"Cell volume (μm^3)\"], 1-hue_norm_tail)\n",
    "    )\n",
    ")\n",
    "\n",
    "plt_mito.set(\n",
    "    xlabel=\"$\\mu_{71}$\",\n",
    "    ylabel=\"$\\mu_{419}$\",\n",
    ");\n",
    "\n",
    "plt.legend(bbox_to_anchor=(1.0, 0.7), frameon=False)\n",
    "sns.despine()\n",
    "\n",
    "plt.savefig('latent_plot_mito_cell_volume_alone.png', dpi=300, bbox_inches = \"tight\")"
   ]
  },
  {
   "cell_type": "markdown",
   "metadata": {},
   "source": [
    "## for the top N latent dims, find the top features correlated with them"
   ]
  },
  {
   "cell_type": "code",
   "execution_count": null,
   "metadata": {},
   "outputs": [],
   "source": [
    "mu_cols = [c for c in df_embeds_test.columns if c.startswith(\"mu_\") and c != \"CellId\"]\n",
    "feat_cols = [c for c in df_feats_all.columns if (c.startswith(\"dna_\") or c.startswith(\"cell_\"))]\n",
    "corrs_all = df_embeddings_plus_meta_test_all_feats[mu_cols+feat_cols].corr(method=\"spearman\")"
   ]
  },
  {
   "cell_type": "code",
   "execution_count": null,
   "metadata": {},
   "outputs": [],
   "source": [
    "corrs_all_cross = corrs_all.drop(mu_cols, axis=\"rows\").drop(feat_cols, axis=\"columns\")"
   ]
  },
  {
   "cell_type": "code",
   "execution_count": null,
   "metadata": {},
   "outputs": [],
   "source": [
    "top_mu_dims = list(\n",
    "    df_embeddings_plus_meta_test[mu_cols].abs().mean().sort_values().index\n",
    ")\n",
    "top_mu_dims.reverse()"
   ]
  },
  {
   "cell_type": "code",
   "execution_count": null,
   "metadata": {},
   "outputs": [],
   "source": [
    "plt.figure(figsize=(4,2))\n",
    "\n",
    "g = sns.lineplot(\n",
    "    x=df_embeddings_plus_meta_test[mu_cols].abs().mean().rank(ascending=False),\n",
    "    y=df_embeddings_plus_meta_test[mu_cols].abs().mean()\n",
    ");\n",
    "\n",
    "g.set(\n",
    "#     xlim=(-5, 3),\n",
    "#     ylim=(-4, 5),\n",
    "    xlabel=\"Reference latent space dimension rank\",\n",
    "    ylabel=\"Mean absolute value\",\n",
    ");\n",
    "sns.despine()\n",
    "\n",
    "plt.savefig('mu_overall_dims_ranked.png', dpi=300, bbox_inches = \"tight\")"
   ]
  },
  {
   "cell_type": "code",
   "execution_count": null,
   "metadata": {},
   "outputs": [],
   "source": [
    "g = sns.clustermap(\n",
    "    corrs_all_cross[top_mu_dims[:32]].abs(),\n",
    "    col_cluster=False,\n",
    "    figsize=(10,20),\n",
    "    cmap=\"Blues\",\n",
    "    vmin=0,\n",
    "#     center=0,\n",
    "    vmax=1,\n",
    "    xticklabels=True,\n",
    "    yticklabels=True,\n",
    ");\n",
    "\n",
    "g.savefig(f\"heatmap_mu_vs_feats_vertical.png\", dpi=300, bbox_inches = \"tight\")"
   ]
  },
  {
   "cell_type": "code",
   "execution_count": null,
   "metadata": {},
   "outputs": [],
   "source": [
    "top_mu_dims[:32]"
   ]
  },
  {
   "cell_type": "code",
   "execution_count": null,
   "metadata": {},
   "outputs": [],
   "source": [
    "g = sns.clustermap(\n",
    "    corrs_all_cross.T.abs(),\n",
    "    row_cluster=False,\n",
    "    figsize=(10,30),\n",
    "    cmap=\"Blues\",\n",
    "    vmin=0,\n",
    "#     center=0,\n",
    "    vmax=.1,\n",
    "    xticklabels=True,\n",
    "    yticklabels=True,\n",
    ");\n",
    "g.savefig(f\"heatmap_mu_vs_feats_horizontal.png\", dpi=300, bbox_inches = \"tight\")"
   ]
  },
  {
   "cell_type": "code",
   "execution_count": null,
   "metadata": {},
   "outputs": [],
   "source": [
    "N_latent_dims = 8\n",
    "K_feats_per_dim = 3\n",
    "\n",
    "mu_feat_match_dict = {}\n",
    "for c in corrs_all_cross[top_mu_dims[:N_latent_dims]].columns:\n",
    "    top_dims_for_c = list(corrs_all_cross[top_mu_dims][c].abs().sort_values()[-K_feats_per_dim:].index)\n",
    "    top_dims_for_c.reverse()\n",
    "    mu_feat_match_dict[c] = top_dims_for_c\n",
    "    \n",
    "df_mu_feat_match = pd.DataFrame(mu_feat_match_dict)"
   ]
  },
  {
   "cell_type": "code",
   "execution_count": null,
   "metadata": {},
   "outputs": [],
   "source": [
    "df_mu_feat_match"
   ]
  },
  {
   "cell_type": "markdown",
   "metadata": {},
   "source": [
    "## draw samples from latent space along top N interesting dimensions"
   ]
  },
  {
   "cell_type": "code",
   "execution_count": null,
   "metadata": {},
   "outputs": [],
   "source": [
    "for dim in df_mu_feat_match.columns:\n",
    "    int_dim = int(dim.split(\"_\")[-1])\n",
    "    top_feat_for_dim = df_mu_feat_match.loc[0, dim]\n",
    "    \n",
    "    latent_walk_path = np.float32(df_embeds_test[dim].std()*np.linspace(-10,10,9))\n",
    "    latent_walk_path = torch.from_numpy(latent_walk_path)\n",
    "\n",
    "    latent_input = torch.zeros([len(latent_walk_path), 512], dtype=torch.float32)\n",
    "    latent_input[:,int_dim] = latent_walk_path\n",
    "    latent_input = latent_input.cuda()\n",
    "    \n",
    "    walk_output = ref_dec(latent_input)\n",
    "    walk_output = walk_output.cpu().data\n",
    "    walk_im = tensor2im(walk_output)\n",
    "    \n",
    "    pil_im = Image.fromarray(np.uint8(walk_im*255))\n",
    "    pil_im.save(f\"latent_walk_{dim}_top_feat_{top_feat_for_dim}.png\",\"PNG\")\n",
    "    \n",
    "    print(f\"{dim}, top feature = {top_feat_for_dim}\")\n",
    "    display(pil_im)\n",
    "    print(\"\")"
   ]
  },
  {
   "cell_type": "code",
   "execution_count": null,
   "metadata": {},
   "outputs": [],
   "source": [
    "walk_output.shape\n"
   ]
  },
  {
   "cell_type": "code",
   "execution_count": null,
   "metadata": {},
   "outputs": [],
   "source": [
    "df_embeds_test[[c for c in df_em]]"
   ]
  },
  {
   "cell_type": "code",
   "execution_count": null,
   "metadata": {},
   "outputs": [],
   "source": [
    "df_embeds[[\"mu_71\", \"mu_419\"]].std()"
   ]
  },
  {
   "cell_type": "code",
   "execution_count": null,
   "metadata": {},
   "outputs": [],
   "source": [
    "from sklearn.decomposition import PCA\n",
    "from sklearn.preprocessing import scale"
   ]
  },
  {
   "cell_type": "code",
   "execution_count": null,
   "metadata": {},
   "outputs": [],
   "source": [
    "pca = PCA()\n",
    "pca.fit(scale(df_feats_all[feat_cols].dropna()))"
   ]
  },
  {
   "cell_type": "code",
   "execution_count": null,
   "metadata": {},
   "outputs": [],
   "source": [
    "plt.figure(figsize=(4,2))\n",
    "\n",
    "g = sns.lineplot(\n",
    "    x=pd.DataFrame(\n",
    "        pca.explained_variance_ratio_, columns=[\"Feature PCA explained variance\"]\n",
    "    ).index,\n",
    "    y=pd.DataFrame(\n",
    "        pca.explained_variance_ratio_, columns=[\"Feature PCA explained variance\"]\n",
    "    )[\"Feature PCA explained variance\"]\n",
    ");\n",
    "\n",
    "g.set(\n",
    "#     xlim=(0, 12),\n",
    "#     ylim=(-4, 5),\n",
    "    xlabel=\"Feature PC rank\",\n",
    "    ylabel=\"Explained variance\",\n",
    ");\n",
    "sns.despine()\n",
    "\n",
    "plt.savefig('pca_feats_explained_variance.png', dpi=300, bbox_inches = \"tight\")"
   ]
  },
  {
   "cell_type": "code",
   "execution_count": null,
   "metadata": {},
   "outputs": [],
   "source": [
    "pd.DataFrame(\n",
    "    np.cumsum(pca.explained_variance_ratio_), columns=[\n",
    "    \"Feature PCA explained variance\"\n",
    "    ]\n",
    ")[\"Feature PCA explained variance\"]"
   ]
  },
  {
   "cell_type": "code",
   "execution_count": null,
   "metadata": {},
   "outputs": [],
   "source": [
    "mu_corrs = df_embeddings_plus_meta_test_all_feats.corr()\n",
    "\n",
    "plt.figure(figsize=(8,8))\n",
    "g = sns.heatmap(\n",
    "    mu_corrs.abs(),\n",
    "    cmap=\"Blues\",\n",
    "    vmin=-.1,\n",
    "    vmax=.1,\n",
    "    xticklabels=True,\n",
    "    yticklabels=True,\n",
    "    square=True,\n",
    "    cbar_kws={\"shrink\": .82}\n",
    ")\n",
    "\n",
    "plt.savefig('latent_dim_corrs.png', dpi=300, bbox_inches = \"tight\")"
   ]
  },
  {
   "cell_type": "code",
   "execution_count": null,
   "metadata": {},
   "outputs": [],
   "source": []
  }
 ],
 "metadata": {
  "kernelspec": {
   "display_name": "Python [conda env:ritvik_pytorch_integrated_cell_workshop2021]",
   "language": "python",
   "name": "conda-env-ritvik_pytorch_integrated_cell_workshop2021-py"
  },
  "language_info": {
   "codemirror_mode": {
    "name": "ipython",
    "version": 3
   },
   "file_extension": ".py",
   "mimetype": "text/x-python",
   "name": "python",
   "nbconvert_exporter": "python",
   "pygments_lexer": "ipython3",
   "version": "3.7.9"
  }
 },
 "nbformat": 4,
 "nbformat_minor": 4
}
