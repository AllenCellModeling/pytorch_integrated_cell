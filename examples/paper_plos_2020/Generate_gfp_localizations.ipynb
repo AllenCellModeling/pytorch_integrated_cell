{
 "cells": [
  {
   "cell_type": "markdown",
   "metadata": {},
   "source": [
    "## Generate multiple GFP localization patterns for a given cell"
   ]
  },
  {
   "cell_type": "markdown",
   "metadata": {},
   "source": [
    "## Load libraries"
   ]
  },
  {
   "cell_type": "code",
   "execution_count": 2,
   "metadata": {},
   "outputs": [],
   "source": [
    "import json\n",
    "from pathlib import Path\n",
    "import os\n",
    "\n",
    "from tqdm import tqdm\n",
    "\n",
    "import pandas as pd\n",
    "import numpy as np\n",
    "import torch\n",
    "\n",
    "import matplotlib\n",
    "import matplotlib.pyplot as plt\n",
    "%matplotlib inline\n",
    "\n",
    "import PIL\n",
    "from PIL import Image\n",
    "from PIL import ImageFont\n",
    "from PIL import ImageDraw \n",
    "\n",
    "import integrated_cell\n",
    "from integrated_cell import model_utils, utils\n",
    "from integrated_cell.utils.plots import tensor2im, imshow"
   ]
  },
  {
   "cell_type": "markdown",
   "metadata": {},
   "source": [
    "## Prep"
   ]
  },
  {
   "cell_type": "markdown",
   "metadata": {},
   "source": [
    "### Gpus"
   ]
  },
  {
   "cell_type": "code",
   "execution_count": 5,
   "metadata": {},
   "outputs": [],
   "source": [
    "gpu_ids = [7]\n",
    "os.environ[\"CUDA_VISIBLE_DEVICES\"] = \",\".join([str(ID) for ID in gpu_ids])\n",
    "if len(gpu_ids) == 1:\n",
    "    torch.backends.cudnn.enabled = True\n",
    "    torch.backends.cudnn.benchmark = True\n",
    "\n",
    "torch.cuda.empty_cache()"
   ]
  },
  {
   "cell_type": "markdown",
   "metadata": {},
   "source": [
    "### Load models"
   ]
  },
  {
   "cell_type": "code",
   "execution_count": 6,
   "metadata": {},
   "outputs": [],
   "source": [
    "REF_MODEL_KWARGS = dict(\n",
    "    model_dir = '/allen/aics/modeling/gregj/results/integrated_cell/test_cbvae_3D_avg_inten/2019-11-27-22:27:04',\n",
    "    parent_dir = '/allen/aics/modeling/gregj/results/integrated_cell/',\n",
    "    suffix = '_94544'\n",
    ")\n",
    "\n",
    "TARG_MODEL_KWARGS = dict(\n",
    "   parent_dir = '/allen/aics/modeling/gregj/results/integrated_cell/',\n",
    "    model_dir = \"/allen/aics/modeling/gregj/results/integrated_cell/test_cbvae_3D_avg_inten/2019-10-22-15:24:09/\",\n",
    "    suffix = '_93300'\n",
    "\n",
    ")"
   ]
  },
  {
   "cell_type": "code",
   "execution_count": 7,
   "metadata": {},
   "outputs": [
    {
     "name": "stderr",
     "output_type": "stream",
     "text": [
      "/allen/aics/modeling/rorydm/projects/pytorch_integrated_cell/integrated_cell/utils/utils.py:75: UserWarning: args file exists and overwrite is not set to True. Using existing args file.\n",
      "  \"args file exists and overwrite is not set to True. Using existing args file.\"\n",
      "/allen/aics/modeling/rorydm/projects/pytorch_integrated_cell/integrated_cell/utils/utils.py:75: UserWarning: args file exists and overwrite is not set to True. Using existing args file.\n",
      "  \"args file exists and overwrite is not set to True. Using existing args file.\"\n"
     ]
    },
    {
     "name": "stdout",
     "output_type": "stream",
     "text": [
      "loading from /allen/aics/modeling/gregj/results/integrated_cell/test_cbvae_3D_avg_inten/2019-11-27-22:27:04/ref_model/enc_94544.pth\n",
      "loading from /allen/aics/modeling/gregj/results/integrated_cell/test_cbvae_3D_avg_inten/2019-11-27-22:27:04/ref_model/dec_94544.pth\n"
     ]
    },
    {
     "name": "stderr",
     "output_type": "stream",
     "text": [
      "/allen/aics/modeling/rorydm/projects/pytorch_integrated_cell/integrated_cell/utils/utils.py:75: UserWarning: args file exists and overwrite is not set to True. Using existing args file.\n",
      "  \"args file exists and overwrite is not set to True. Using existing args file.\"\n"
     ]
    },
    {
     "name": "stdout",
     "output_type": "stream",
     "text": [
      "loading from /allen/aics/modeling/gregj/results/integrated_cell/test_cbvae_3D_avg_inten/2019-10-22-15:24:09/ref_model/enc_93300.pth\n",
      "loading from /allen/aics/modeling/gregj/results/integrated_cell/test_cbvae_3D_avg_inten/2019-10-22-15:24:09/ref_model/dec_93300.pth\n"
     ]
    }
   ],
   "source": [
    "networks_ref, dp_ref, args_ref = utils.load_network_from_dir(\n",
    "    REF_MODEL_KWARGS[\"model_dir\"],\n",
    "    REF_MODEL_KWARGS[\"parent_dir\"],\n",
    "    suffix=REF_MODEL_KWARGS[\"suffix\"]\n",
    ")\n",
    "\n",
    "ref_enc = networks_ref['enc']\n",
    "ref_dec = networks_ref['dec']\n",
    "\n",
    "networks_targ, dp_target, args_target = utils.load_network_from_dir(\n",
    "    TARG_MODEL_KWARGS[\"model_dir\"],\n",
    "    TARG_MODEL_KWARGS[\"parent_dir\"],\n",
    "    suffix=TARG_MODEL_KWARGS[\"suffix\"]\n",
    ")\n",
    "    \n",
    "target_enc = networks_targ['enc']\n",
    "target_dec = networks_targ['dec']"
   ]
  },
  {
   "cell_type": "code",
   "execution_count": 10,
   "metadata": {},
   "outputs": [
    {
     "data": {
      "text/plain": [
       "Enc(\n",
       "  (target_path): ModuleList(\n",
       "    (0): DownLayerResidual(\n",
       "      (bypass): Sequential(\n",
       "        (0): AvgPool3d(kernel_size=2, stride=2, padding=0)\n",
       "        (1): Conv3d(1, 32, kernel_size=(1, 1, 1), stride=(1, 1, 1))\n",
       "      )\n",
       "      (resid): Sequential(\n",
       "        (0): Conv3d(1, 1, kernel_size=(4, 4, 4), stride=(2, 2, 2), padding=(1, 1, 1))\n",
       "        (1): BatchNorm3d(1, eps=1e-05, momentum=0.1, affine=True, track_running_stats=True)\n",
       "        (2): ReLU(inplace=True)\n",
       "        (3): Conv3d(1, 32, kernel_size=(3, 3, 3), stride=(1, 1, 1), padding=(1, 1, 1))\n",
       "        (4): BatchNorm3d(32, eps=1e-05, momentum=0.1, affine=True, track_running_stats=True)\n",
       "      )\n",
       "      (proj): BasicLayer(\n",
       "        (conv): Conv3d(2, 32, kernel_size=(1, 1, 1), stride=(1, 1, 1))\n",
       "        (bn): BatchNorm3d(32, eps=1e-05, momentum=0.1, affine=True, track_running_stats=True)\n",
       "        (activation): ReLU(inplace=True)\n",
       "      )\n",
       "      (proj_class): BasicLayer(\n",
       "        (conv): Conv3d(24, 32, kernel_size=(1, 1, 1), stride=(1, 1, 1))\n",
       "        (bn): BatchNorm3d(32, eps=1e-05, momentum=0.1, affine=True, track_running_stats=True)\n",
       "        (activation): ReLU(inplace=True)\n",
       "      )\n",
       "      (activation): ReLU(inplace=True)\n",
       "    )\n",
       "    (1): DownLayerResidual(\n",
       "      (bypass): Sequential(\n",
       "        (0): AvgPool3d(kernel_size=2, stride=2, padding=0)\n",
       "        (1): Conv3d(32, 64, kernel_size=(1, 1, 1), stride=(1, 1, 1))\n",
       "      )\n",
       "      (resid): Sequential(\n",
       "        (0): Conv3d(32, 32, kernel_size=(4, 4, 4), stride=(2, 2, 2), padding=(1, 1, 1))\n",
       "        (1): BatchNorm3d(32, eps=1e-05, momentum=0.1, affine=True, track_running_stats=True)\n",
       "        (2): ReLU(inplace=True)\n",
       "        (3): Conv3d(32, 64, kernel_size=(3, 3, 3), stride=(1, 1, 1), padding=(1, 1, 1))\n",
       "        (4): BatchNorm3d(64, eps=1e-05, momentum=0.1, affine=True, track_running_stats=True)\n",
       "      )\n",
       "      (proj): BasicLayer(\n",
       "        (conv): Conv3d(2, 64, kernel_size=(1, 1, 1), stride=(1, 1, 1))\n",
       "        (bn): BatchNorm3d(64, eps=1e-05, momentum=0.1, affine=True, track_running_stats=True)\n",
       "        (activation): ReLU(inplace=True)\n",
       "      )\n",
       "      (proj_class): BasicLayer(\n",
       "        (conv): Conv3d(24, 64, kernel_size=(1, 1, 1), stride=(1, 1, 1))\n",
       "        (bn): BatchNorm3d(64, eps=1e-05, momentum=0.1, affine=True, track_running_stats=True)\n",
       "        (activation): ReLU(inplace=True)\n",
       "      )\n",
       "      (activation): ReLU(inplace=True)\n",
       "    )\n",
       "    (2): DownLayerResidual(\n",
       "      (bypass): Sequential(\n",
       "        (0): AvgPool3d(kernel_size=2, stride=2, padding=0)\n",
       "        (1): Conv3d(64, 128, kernel_size=(1, 1, 1), stride=(1, 1, 1))\n",
       "      )\n",
       "      (resid): Sequential(\n",
       "        (0): Conv3d(64, 64, kernel_size=(4, 4, 4), stride=(2, 2, 2), padding=(1, 1, 1))\n",
       "        (1): BatchNorm3d(64, eps=1e-05, momentum=0.1, affine=True, track_running_stats=True)\n",
       "        (2): ReLU(inplace=True)\n",
       "        (3): Conv3d(64, 128, kernel_size=(3, 3, 3), stride=(1, 1, 1), padding=(1, 1, 1))\n",
       "        (4): BatchNorm3d(128, eps=1e-05, momentum=0.1, affine=True, track_running_stats=True)\n",
       "      )\n",
       "      (proj): BasicLayer(\n",
       "        (conv): Conv3d(2, 128, kernel_size=(1, 1, 1), stride=(1, 1, 1))\n",
       "        (bn): BatchNorm3d(128, eps=1e-05, momentum=0.1, affine=True, track_running_stats=True)\n",
       "        (activation): ReLU(inplace=True)\n",
       "      )\n",
       "      (proj_class): BasicLayer(\n",
       "        (conv): Conv3d(24, 128, kernel_size=(1, 1, 1), stride=(1, 1, 1))\n",
       "        (bn): BatchNorm3d(128, eps=1e-05, momentum=0.1, affine=True, track_running_stats=True)\n",
       "        (activation): ReLU(inplace=True)\n",
       "      )\n",
       "      (activation): ReLU(inplace=True)\n",
       "    )\n",
       "    (3): DownLayerResidual(\n",
       "      (bypass): Sequential(\n",
       "        (0): AvgPool3d(kernel_size=2, stride=2, padding=0)\n",
       "        (1): Conv3d(128, 256, kernel_size=(1, 1, 1), stride=(1, 1, 1))\n",
       "      )\n",
       "      (resid): Sequential(\n",
       "        (0): Conv3d(128, 128, kernel_size=(4, 4, 4), stride=(2, 2, 2), padding=(1, 1, 1))\n",
       "        (1): BatchNorm3d(128, eps=1e-05, momentum=0.1, affine=True, track_running_stats=True)\n",
       "        (2): ReLU(inplace=True)\n",
       "        (3): Conv3d(128, 256, kernel_size=(3, 3, 3), stride=(1, 1, 1), padding=(1, 1, 1))\n",
       "        (4): BatchNorm3d(256, eps=1e-05, momentum=0.1, affine=True, track_running_stats=True)\n",
       "      )\n",
       "      (proj): BasicLayer(\n",
       "        (conv): Conv3d(2, 256, kernel_size=(1, 1, 1), stride=(1, 1, 1))\n",
       "        (bn): BatchNorm3d(256, eps=1e-05, momentum=0.1, affine=True, track_running_stats=True)\n",
       "        (activation): ReLU(inplace=True)\n",
       "      )\n",
       "      (proj_class): BasicLayer(\n",
       "        (conv): Conv3d(24, 256, kernel_size=(1, 1, 1), stride=(1, 1, 1))\n",
       "        (bn): BatchNorm3d(256, eps=1e-05, momentum=0.1, affine=True, track_running_stats=True)\n",
       "        (activation): ReLU(inplace=True)\n",
       "      )\n",
       "      (activation): ReLU(inplace=True)\n",
       "    )\n",
       "    (4): DownLayerResidual(\n",
       "      (bypass): Sequential(\n",
       "        (0): AvgPool3d(kernel_size=2, stride=2, padding=0)\n",
       "        (1): Conv3d(256, 512, kernel_size=(1, 1, 1), stride=(1, 1, 1))\n",
       "      )\n",
       "      (resid): Sequential(\n",
       "        (0): Conv3d(256, 256, kernel_size=(4, 4, 4), stride=(2, 2, 2), padding=(1, 1, 1))\n",
       "        (1): BatchNorm3d(256, eps=1e-05, momentum=0.1, affine=True, track_running_stats=True)\n",
       "        (2): ReLU(inplace=True)\n",
       "        (3): Conv3d(256, 512, kernel_size=(3, 3, 3), stride=(1, 1, 1), padding=(1, 1, 1))\n",
       "        (4): BatchNorm3d(512, eps=1e-05, momentum=0.1, affine=True, track_running_stats=True)\n",
       "      )\n",
       "      (proj): BasicLayer(\n",
       "        (conv): Conv3d(2, 512, kernel_size=(1, 1, 1), stride=(1, 1, 1))\n",
       "        (bn): BatchNorm3d(512, eps=1e-05, momentum=0.1, affine=True, track_running_stats=True)\n",
       "        (activation): ReLU(inplace=True)\n",
       "      )\n",
       "      (proj_class): BasicLayer(\n",
       "        (conv): Conv3d(24, 512, kernel_size=(1, 1, 1), stride=(1, 1, 1))\n",
       "        (bn): BatchNorm3d(512, eps=1e-05, momentum=0.1, affine=True, track_running_stats=True)\n",
       "        (activation): ReLU(inplace=True)\n",
       "      )\n",
       "      (activation): ReLU(inplace=True)\n",
       "    )\n",
       "  )\n",
       "  (latent_out_mu): Linear(in_features=15360, out_features=512, bias=True)\n",
       "  (latent_out_sigma): Linear(in_features=15360, out_features=512, bias=True)\n",
       ")"
      ]
     },
     "execution_count": 10,
     "metadata": {},
     "output_type": "execute_result"
    }
   ],
   "source": [
    "target_enc"
   ]
  },
  {
   "cell_type": "markdown",
   "metadata": {},
   "source": [
    "### Set results dir"
   ]
  },
  {
   "cell_type": "code",
   "execution_count": 11,
   "metadata": {},
   "outputs": [
    {
     "name": "stdout",
     "output_type": "stream",
     "text": [
      "Results dir: /allen/aics/modeling/theok/Projects/idle/hackathonfiles/results/multiscale_structure_similarity/generated_gfp_images_with_ref/\n"
     ]
    }
   ],
   "source": [
    "RESULTS_DIR = '/allen/aics/modeling/theok/Projects/idle/hackathonfiles/results/multiscale_structure_similarity/generated_gfp_images_with_ref/'\n",
    "if not os.path.exists(RESULTS_DIR):\n",
    "    os.makedirs(RESULTS_DIR)\n",
    "    \n",
    "print(\"Results dir: {}\".format(RESULTS_DIR))"
   ]
  },
  {
   "cell_type": "markdown",
   "metadata": {},
   "source": [
    "### Helper function for saving images"
   ]
  },
  {
   "cell_type": "code",
   "execution_count": 25,
   "metadata": {},
   "outputs": [],
   "source": [
    "from aicsimageio.writers import OmeTiffWriter\n",
    "\n",
    "def im_write(im, path):\n",
    "    im = im.cpu().detach().numpy().transpose(3,0,1,2)\n",
    "    \n",
    "    with OmeTiffWriter(path, overwrite_file=True) as writer:\n",
    "        writer.save(im)"
   ]
  },
  {
   "cell_type": "markdown",
   "metadata": {},
   "source": [
    "### Set up the autoencoder"
   ]
  },
  {
   "cell_type": "code",
   "execution_count": 12,
   "metadata": {},
   "outputs": [],
   "source": [
    "from integrated_cell.networks.ref_target_autoencoder import Autoencoder\n",
    "\n",
    "mode = 'test'\n",
    "dp = dp_target\n",
    "u_classes, class_inds = np.unique(dp.get_classes(np.arange(0, dp.get_n_dat(mode)), mode), return_inverse=True)\n",
    "u_class_names = dp.label_names[u_classes]\n",
    "\n",
    "ae = Autoencoder(ref_enc, ref_dec, target_enc, target_dec)\n",
    "ae.train(False)\n",
    "ae = ae.cuda()"
   ]
  },
  {
   "cell_type": "markdown",
   "metadata": {},
   "source": [
    "## main settings"
   ]
  },
  {
   "cell_type": "code",
   "execution_count": 13,
   "metadata": {},
   "outputs": [],
   "source": [
    "N_PAIRS_PER_STRUCTURE = 3\n",
    "\n",
    "STRUCTURES_TO_GEN = [\n",
    "#     'Actin filaments',\n",
    "#     'Actomyosin bundles',\n",
    "#     'Adherens junctions',\n",
    "#     'Desmosomes',\n",
    "     'Endoplasmic reticulum',\n",
    "#     'Endosomes',\n",
    "#     'Gap junctions',\n",
    "#     'Golgi',\n",
    "#     'Lysosome',\n",
    "#     'Matrix adhesions',\n",
    "#     'Microtubules',\n",
    "     'Mitochondria',\n",
    "     'Nuclear envelope',\n",
    "#     'Nucleolus (Dense Fibrillar Component)',\n",
    "#     'Nucleolus (Granular Component)',\n",
    "#     'Peroxisomes',\n",
    "#     'Plasma membrane',\n",
    "     'Tight junctions'\n",
    "]\n",
    "\n",
    "structure_to_gen_ids = [np.where(u_class_names == structure)[0].item() for structure in STRUCTURES_TO_GEN]\n",
    "structure_to_gen_ids = [torch.tensor([x]) for x in structure_to_gen_ids]"
   ]
  },
  {
   "cell_type": "code",
   "execution_count": 14,
   "metadata": {},
   "outputs": [
    {
     "data": {
      "text/plain": [
       "[tensor([10]), tensor([17]), tensor([18]), tensor([23])]"
      ]
     },
     "execution_count": 14,
     "metadata": {},
     "output_type": "execute_result"
    }
   ],
   "source": [
    "structure_to_gen_ids"
   ]
  },
  {
   "cell_type": "markdown",
   "metadata": {},
   "source": [
    "### find the images we need"
   ]
  },
  {
   "cell_type": "code",
   "execution_count": 15,
   "metadata": {},
   "outputs": [
    {
     "data": {
      "text/plain": [
       "40073     16045\n",
       "23435     83445\n",
       "48648     95551\n",
       "9150     109664\n",
       "Name: CellId, dtype: int64"
      ]
     },
     "execution_count": 15,
     "metadata": {},
     "output_type": "execute_result"
    }
   ],
   "source": [
    "dp.csv_data.CellId.sample(4)"
   ]
  },
  {
   "cell_type": "code",
   "execution_count": 20,
   "metadata": {},
   "outputs": [],
   "source": [
    "# pick this based on pca location or whatever\n",
    "MY_CELL_ID = 109017\n",
    "# MY_CELL_ID = 475944\n"
   ]
  },
  {
   "cell_type": "code",
   "execution_count": 21,
   "metadata": {},
   "outputs": [
    {
     "data": {
      "image/png": "[encoded data removed]",
      "text/plain": [
       "<PIL.PngImagePlugin.PngImageFile image mode=RGB size=168x232 at 0x7FE475349250>"
      ]
     },
     "execution_count": 21,
     "metadata": {},
     "output_type": "execute_result"
    }
   ],
   "source": [
    "proj_path = Path(dp.csv_data[dp.csv_data[\"CellId\"] == MY_CELL_ID][\"save_reg_path_flat_proj\"].item())\n",
    "Image.open(proj_path)"
   ]
  },
  {
   "cell_type": "code",
   "execution_count": 22,
   "metadata": {},
   "outputs": [
    {
     "data": {
      "image/png": "[encoded data removed]",
      "text/plain": [
       "<Figure size 432x288 with 1 Axes>"
      ]
     },
     "metadata": {
      "needs_background": "light"
     },
     "output_type": "display_data"
    }
   ],
   "source": [
    "# grab metadata\n",
    "cell_metadata = dp.csv_data[dp.csv_data.CellId == MY_CELL_ID].drop(columns=[\"level_0\", \"Unnamed: 0\", \"index\"])\n",
    "\n",
    "# search for which split this id is in\n",
    "splits = {k for k,v in dp.data.items() if MY_CELL_ID in v[\"CellId\"]}\n",
    "assert len(splits) == 1\n",
    "split = splits.pop()\n",
    "\n",
    "# find the index in the split\n",
    "index_in_split = np.where(dp.data[split][\"CellId\"] == MY_CELL_ID)[0]\n",
    "assert len(index_in_split) == 1\n",
    "index_in_split = index_in_split[0]\n",
    "\n",
    "# grab the sampled image\n",
    "gfp_img, struct_ind, ref_img = dp.get_sample(train_or_test=split, inds=[index_in_split])\n",
    "\n",
    "# make the one-hot encoding\n",
    "label_onehot = utils.index_to_onehot(struct_ind, len(u_classes)).cuda()\n",
    "\n",
    "# move ref image to gpu\n",
    "ref = ref_img.cuda()\n",
    "\n",
    "# plot\n",
    "rgb_img = torch.stack([ref_img[:,0,...], gfp_img[:,0,...], ref_img[:,1,...]], dim=1)\n",
    "plt.imshow(\n",
    "    tensor2im(\n",
    "        rgb_img,\n",
    "        color_transform = np.array(\n",
    "            [\n",
    "                [1, 0, 0],\n",
    "                [0, 1, 0],\n",
    "                [0, 0, 1]\n",
    "            ]\n",
    "        ).T\n",
    "    ),\n",
    ");"
   ]
  },
  {
   "cell_type": "markdown",
   "metadata": {},
   "source": [
    "## loop over structs to generate and save images"
   ]
  },
  {
   "cell_type": "code",
   "execution_count": 23,
   "metadata": {},
   "outputs": [],
   "source": [
    "def chunks(lst, n):\n",
    "    \"\"\"Yield successive n-sized chunks from lst.\"\"\"\n",
    "    for i in range(0, len(lst), n):\n",
    "        yield lst[i:i + n]"
   ]
  },
  {
   "cell_type": "markdown",
   "metadata": {},
   "source": [
    "# TODO: loop over cellid"
   ]
  },
  {
   "cell_type": "code",
   "execution_count": 26,
   "metadata": {},
   "outputs": [
    {
     "name": "stderr",
     "output_type": "stream",
     "text": [
      "Processing Tight junctions: 100%|██████████| 24/24 [00:06<00:00,  3.51it/s]     \n"
     ]
    },
    {
     "data": {
      "text/plain": [
       "(12, 84)"
      ]
     },
     "execution_count": 26,
     "metadata": {},
     "output_type": "execute_result"
    }
   ],
   "source": [
    "BATCH_SIZE=2\n",
    "\n",
    "image_dir = Path(RESULTS_DIR) / \"images\"\n",
    "image_dir.mkdir(parents=True, exist_ok=True)\n",
    "\n",
    "df = pd.DataFrame()\n",
    "\n",
    "corr_pair_inds = [\"i\", \"j\"]\n",
    "\n",
    "with tqdm(total=N_PAIRS_PER_STRUCTURE*len(STRUCTURES_TO_GEN*len(corr_pair_inds))) as pbar:\n",
    "    for structure, struct_ind in zip(STRUCTURES_TO_GEN, structure_to_gen_ids):\n",
    "\n",
    "        pbar.set_description(f\"Processing {structure}\")\n",
    "        \n",
    "        df_tmp = cell_metadata[[\"CellId\"]].copy()\n",
    "        \n",
    "        for ij in corr_pair_inds:\n",
    "            df_tmp[f\"GeneratedStructureName_{ij}\"] = structure\n",
    "            df_tmp[f\"GeneratedStructureInstance_{ij}\"] = -1\n",
    "            df_tmp[f\"GeneratedStructuePath_{ij}\"] = \"\"\n",
    "        df_tmp = pd.concat([df_tmp]*N_PAIRS_PER_STRUCTURE).reset_index(drop=True)\n",
    "\n",
    "        for batch in chunks(range(N_PAIRS_PER_STRUCTURE), BATCH_SIZE):\n",
    "\n",
    "            # one hot structure labels to generate,same for whole batch\n",
    "            labels_gen_batch = utils.index_to_onehot(struct_ind, len(u_classes)).repeat(len(batch),1).cuda()\n",
    "\n",
    "            # repeat reference structure over batch\n",
    "            ref_batch = ref.repeat([len(batch), 1, 1, 1, 1])\n",
    "\n",
    "            # we want two images per row, image i and image j, so no hidden corr in aggreagate metrics\n",
    "            for ij in corr_pair_inds:\n",
    "                \n",
    "                # generate our gfp samples\n",
    "                target_gen_batch, _ = ae(target=None, ref=ref_batch, labels=labels_gen_batch)\n",
    "\n",
    "                # save images\n",
    "                for b,im_tensor in zip(batch,target_gen_batch):\n",
    "                    struct_safe_name = structure.replace(\" \", \"_\").lower()\n",
    "                    img_path = image_dir / f\"generated_gfp_image_struct_{struct_safe_name}_instance_{b}_{ij}.ome.tiff\"\n",
    "                    im_write(im_tensor, img_path)\n",
    "\n",
    "                    df_tmp.at[b, f\"GeneratedStructureInstance_{ij}\"] = b\n",
    "                    df_tmp.at[b, f\"GeneratedStructuePath_{ij}\"] = img_path\n",
    "\n",
    "                    pbar.update(1)\n",
    "\n",
    "        df = df.append(df_tmp)\n",
    "\n",
    "    # merge df with metadata for cell\n",
    "    df = df.reset_index(drop=True)\n",
    "    df_out = cell_metadata.merge(df)\n",
    "    \n",
    "# save df\n",
    "df_out.to_csv(Path(RESULTS_DIR) / \"generated_structures.csv\", index=False)\n",
    "df_out.shape"
   ]
  },
  {
   "cell_type": "code",
   "execution_count": 62,
   "metadata": {},
   "outputs": [
    {
     "data": {
      "text/plain": [
       "torch.Size([1, 1, 64, 160, 96])"
      ]
     },
     "execution_count": 62,
     "metadata": {},
     "output_type": "execute_result"
    }
   ],
   "source": [
    "torch.tensor(sample_img_i.data[0]).shape"
   ]
  },
  {
   "cell_type": "code",
   "execution_count": 59,
   "metadata": {},
   "outputs": [
    {
     "name": "stdout",
     "output_type": "stream",
     "text": [
      "Mitochondria\n",
      "CellId 109017\n",
      "sample instance 0\n"
     ]
    },
    {
     "data": {
      "image/png": "[encoded data removed]",
      "text/plain": [
       "<Figure size 432x288 with 1 Axes>"
      ]
     },
     "metadata": {
      "needs_background": "light"
     },
     "output_type": "display_data"
    }
   ],
   "source": [
    "from aicsimageio import AICSImage\n",
    "\n",
    "sample_row = df_out.sample(1)\n",
    "\n",
    "sample_img_i = AICSImage(sample_row.GeneratedStructuePath_i.item())\n",
    "sample_img_j = AICSImage(sample_row.GeneratedStructuePath_j.item())\n",
    "\n",
    "img_2d_i = tensor2im(torch.tensor(sample_img_i.data[0]))\n",
    "img_2d_j = tensor2im(torch.tensor(sample_img_j.data[0]))\n",
    "\n",
    "print(sample_row.GeneratedStructureName_i.item())\n",
    "print(f\"CellId {sample_row.CellId.item()}\")\n",
    "print(f\"sample instance {sample_row.GeneratedStructureInstance_i.item()}\")\n",
    "\n",
    "plt.imshow(\n",
    "    np.concatenate(\n",
    "        [\n",
    "            img_2d_i,\n",
    "            np.ones([img_2d_i.shape[0],1,img_2d_i.shape[2]]),\n",
    "            img_2d_j,\n",
    "        ],\n",
    "        axis=1)\n",
    ")\n",
    "plt.axis('off');"
   ]
  },
  {
   "cell_type": "code",
   "execution_count": 63,
   "metadata": {},
   "outputs": [
    {
     "data": {
      "text/plain": [
       "(4608, 85)"
      ]
     },
     "execution_count": 63,
     "metadata": {},
     "output_type": "execute_result"
    }
   ],
   "source": [
    "df_gen = pd.read_csv(Path(RESULTS_DIR)/ \"generated_structures.csv\")\n",
    "df_gen.shape"
   ]
  },
  {
   "cell_type": "code",
   "execution_count": 64,
   "metadata": {},
   "outputs": [
    {
     "data": {
      "text/plain": [
       "PosixPath('/allen/aics/modeling/rorydm/results/multiscale_structure_similarity/generated_gfp_images/generated_structures.csv')"
      ]
     },
     "execution_count": 64,
     "metadata": {},
     "output_type": "execute_result"
    }
   ],
   "source": [
    "Path(RESULTS_DIR)/ \"generated_structures.csv\""
   ]
  },
  {
   "cell_type": "code",
   "execution_count": 65,
   "metadata": {},
   "outputs": [
    {
     "data": {
      "text/plain": [
       "'/allen/aics/modeling/rorydm/results/multiscale_structure_similarity/generated_gfp_images/images/generated_gfp_image_struct_adherens_junctions_instance_190_i.ome.tiff'"
      ]
     },
     "execution_count": 65,
     "metadata": {},
     "output_type": "execute_result"
    }
   ],
   "source": [
    "df_gen.GeneratedStructuePath_i.sample().item()"
   ]
  },
  {
   "cell_type": "code",
   "execution_count": 66,
   "metadata": {},
   "outputs": [
    {
     "data": {
      "text/plain": [
       "array(['Actin filaments', 'Actomyosin bundles', 'Adherens junctions',\n",
       "       'Desmosomes', 'Endoplasmic reticulum', 'Endosomes',\n",
       "       'Gap junctions', 'Golgi', 'Lysosome', 'Matrix adhesions',\n",
       "       'Microtubules', 'Mitochondria', 'Nuclear envelope',\n",
       "       'Nucleolus (Dense Fibrillar Component)',\n",
       "       'Nucleolus (Granular Component)', 'Peroxisomes', 'Plasma membrane',\n",
       "       'Tight junctions'], dtype=object)"
      ]
     },
     "execution_count": 66,
     "metadata": {},
     "output_type": "execute_result"
    }
   ],
   "source": [
    "df_corr = pd.read_csv(\n",
    "    \"/home/rorydm/projects/cvapipe/local_staging/multiresstructcompare/pairwise_metrics/multires_pairwise_similarity.csv\"\n",
    ")\n",
    "df_corr.GeneratedStructureName_i.unique()"
   ]
  },
  {
   "cell_type": "code",
   "execution_count": 110,
   "metadata": {},
   "outputs": [],
   "source": [
    "df_map = dp.csv_data.dropna(subset=[\"StructureDisplayName\"])\n",
    "df_map = df_map[~df_map[\"StructureDisplayName\"].str.contains(\"Control\")]\n",
    "dict_map = dict(df_map[[\"Gene\", \"StructureDisplayName\"]].drop_duplicates().values)"
   ]
  },
  {
   "cell_type": "code",
   "execution_count": 111,
   "metadata": {},
   "outputs": [
    {
     "data": {
      "text/plain": [
       "{'LAMP1': 'Lysosome',\n",
       " 'TOMM20': 'Mitochondria',\n",
       " 'TUBA1B': 'Microtubules',\n",
       " 'ACTN1': 'Actin filaments',\n",
       " 'ACTB': 'Actin filaments',\n",
       " 'CTNNB1': 'Adherens junctions',\n",
       " 'GJA1': 'Gap junctions',\n",
       " 'DSP': 'Desmosomes',\n",
       " 'FBL': 'Nucleolus (Dense Fibrillar Component)',\n",
       " 'LMNB1': 'Nuclear envelope',\n",
       " 'SEC61B': 'Endoplasmic reticulum',\n",
       " 'ST6GAL1': 'Golgi',\n",
       " 'TJP1': 'Tight junctions',\n",
       " 'AAVS1': 'Plasma membrane',\n",
       " 'PXN': 'Matrix adhesions',\n",
       " 'SLC25A17': 'Peroxisomes',\n",
       " 'RAB5A': 'Endosomes',\n",
       " 'MYH10': 'Actomyosin bundles',\n",
       " 'NPM1': 'Nucleolus (Granular Component)'}"
      ]
     },
     "execution_count": 111,
     "metadata": {},
     "output_type": "execute_result"
    }
   ],
   "source": [
    "dict_map"
   ]
  },
  {
   "cell_type": "code",
   "execution_count": null,
   "metadata": {},
   "outputs": [],
   "source": []
  }
 ],
 "metadata": {
  "kernelspec": {
   "display_name": "Python [conda env:rory_pytorch_integrated_cell]",
   "language": "python",
   "name": "conda-env-rory_pytorch_integrated_cell-py"
  },
  "language_info": {
   "codemirror_mode": {
    "name": "ipython",
    "version": 3
   },
   "file_extension": ".py",
   "mimetype": "text/x-python",
   "name": "python",
   "nbconvert_exporter": "python",
   "pygments_lexer": "ipython3",
   "version": "3.7.8"
  }
 },
 "nbformat": 4,
 "nbformat_minor": 4
}
