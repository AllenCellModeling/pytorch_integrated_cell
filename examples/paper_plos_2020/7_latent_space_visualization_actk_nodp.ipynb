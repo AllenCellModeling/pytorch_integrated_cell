{
 "cells": [
  {
   "cell_type": "markdown",
   "metadata": {},
   "source": [
    "# Latent space vizualization\n"
   ]
  },
  {
   "cell_type": "markdown",
   "metadata": {},
   "source": [
    "## imports"
   ]
  },
  {
   "cell_type": "code",
   "execution_count": null,
   "metadata": {},
   "outputs": [],
   "source": [
    "import json\n",
    "import os\n",
    "from pathlib import Path\n",
    "from tqdm import tqdm\n",
    "\n",
    "import pandas as pd\n",
    "import numpy as np\n",
    "import torch\n",
    "\n",
    "import integrated_cell\n",
    "from integrated_cell import model_utils, utils\n",
    "from integrated_cell.utils.plots import tensor2im, imshow\n",
    "\n",
    "%matplotlib inline\n",
    "import seaborn as sns\n",
    "import matplotlib\n",
    "import matplotlib.pyplot as plt\n",
    "\n",
    "import PIL\n",
    "from PIL import Image\n",
    "from PIL import ImageFont\n",
    "from PIL import ImageDraw "
   ]
  },
  {
   "cell_type": "markdown",
   "metadata": {},
   "source": [
    "## set up a place to save our results"
   ]
  },
  {
   "cell_type": "code",
   "execution_count": null,
   "metadata": {},
   "outputs": [],
   "source": [
    "parent_dir = \"/allen/aics/modeling/rorydm/projects/pytorch_integrated_cell/examples/training_scripts\"\n",
    "ref_model_dir = f\"{parent_dir}/bvae3D_actk_ref_seg_nomito_beta_1_2021-02-02\"\n",
    "ref_suffix = \"_64880\"\n",
    "\n",
    "results_dir = Path(parent_dir) / \"results/latent_space_vizualization_actk\"\n",
    "results_dir.mkdir(parents=True, exist_ok=True)"
   ]
  },
  {
   "cell_type": "markdown",
   "metadata": {},
   "source": [
    "## setup up cuda env"
   ]
  },
  {
   "cell_type": "code",
   "execution_count": null,
   "metadata": {},
   "outputs": [],
   "source": [
    "gpu_ids = [0]\n",
    "os.environ[\"CUDA_VISIBLE_DEVICES\"] = \",\".join([str(ID) for ID in gpu_ids])\n",
    "if len(gpu_ids) == 1:\n",
    "    torch.backends.cudnn.enabled = True\n",
    "    torch.backends.cudnn.benchmark = True\n",
    "\n",
    "torch.cuda.empty_cache()"
   ]
  },
  {
   "cell_type": "markdown",
   "metadata": {},
   "source": [
    "## load the reference model"
   ]
  },
  {
   "cell_type": "code",
   "execution_count": null,
   "metadata": {},
   "outputs": [],
   "source": [
    "networks_ref, _, args_ref = utils.load_network_from_dir(\n",
    "    ref_model_dir,\n",
    "    parent_dir,\n",
    "    suffix=ref_suffix,\n",
    "    load_dataprovider=False,\n",
    ")\n",
    "\n",
    "ref_enc = networks_ref['enc']\n",
    "ref_dec = networks_ref['dec']\n",
    "\n",
    "recon_loss = utils.load_losses(args_ref)['crit_recon']"
   ]
  },
  {
   "cell_type": "markdown",
   "metadata": {},
   "source": [
    "## load the data provider"
   ]
  },
  {
   "cell_type": "code",
   "execution_count": null,
   "metadata": {},
   "outputs": [],
   "source": [
    "data_provider_kwargs = args_ref[\"kwargs_dp\"].copy()\n",
    "\n",
    "data_provider_kwargs[\"image_parent\"] = args_ref[\"imdir\"]\n",
    "data_provider_kwargs[\"batch_size\"] = args_ref[\"batch_size\"]\n",
    "\n",
    "for k in ['save_path', 'im_dir']:\n",
    "    if k in data_provider_kwargs:\n",
    "        del data_provider_kwargs[k]"
   ]
  },
  {
   "cell_type": "code",
   "execution_count": null,
   "metadata": {},
   "outputs": [],
   "source": [
    "import importlib\n",
    "dp_name = args_ref[\"dataProvider\"]\n",
    "dp_module = importlib.import_module(f\"integrated_cell.data_providers.{dp_name}\")"
   ]
  },
  {
   "cell_type": "code",
   "execution_count": null,
   "metadata": {},
   "outputs": [],
   "source": [
    "dp_ref = dp_module.DataProvider(**data_provider_kwargs)"
   ]
  },
  {
   "cell_type": "markdown",
   "metadata": {},
   "source": [
    "## Get metadata for all splits"
   ]
  },
  {
   "cell_type": "code",
   "execution_count": null,
   "metadata": {},
   "outputs": [],
   "source": [
    "dfs_split = {\n",
    "    split: pd.concat(\n",
    "        [\n",
    "            dp_ref.csv_data.loc[\n",
    "                dp_ref.data[split][\"inds\"],\n",
    "                [\"CellId\", \"PlateId\", \"CellIndex\", \"StructureDisplayName\"]\n",
    "            ].reset_index(\n",
    "            ).rename(\n",
    "                columns={\"index\":\"UnsplitCsvIndex\"}\n",
    "            ),\n",
    "            pd.DataFrame({\"split\":[split]*len(dp_ref.data[split][\"inds\"])})\n",
    "        ],\n",
    "        axis=1\n",
    "    ) for split in dp_ref.data.keys()\n",
    "}"
   ]
  },
  {
   "cell_type": "markdown",
   "metadata": {},
   "source": [
    "## Get mito annotations"
   ]
  },
  {
   "cell_type": "code",
   "execution_count": null,
   "metadata": {},
   "outputs": [],
   "source": [
    "df_mito = pd.read_csv(\n",
    "    \"/allen/aics/modeling/rorydm/projects/IntegratedCellWorkingGroup/data/draft_plus_human_mito_annotations.csv\",\n",
    "    index_col=0\n",
    ")"
   ]
  },
  {
   "cell_type": "code",
   "execution_count": null,
   "metadata": {},
   "outputs": [],
   "source": [
    "dfs_mito = {\n",
    "    split: dp_ref.csv_data.iloc[d[\"inds\"]].reset_index(drop=True).merge(df_mito, how=\"left\")\n",
    "    for split, d in dp_ref.data.items()\n",
    "}"
   ]
  },
  {
   "cell_type": "markdown",
   "metadata": {},
   "source": [
    "## Get features for all splits together (unsplit df)"
   ]
  },
  {
   "cell_type": "code",
   "execution_count": null,
   "metadata": {},
   "outputs": [],
   "source": [
    "feats_path = Path(args_ref[\"imdir\"]).parent / \"singlecellfeatures/cell_features\""
   ]
  },
  {
   "cell_type": "code",
   "execution_count": null,
   "metadata": {},
   "outputs": [],
   "source": [
    "json_files = list(feats_path.glob('*.json'))\n",
    "\n",
    "df_feats = pd.DataFrame()\n",
    "for json_file in tqdm(json_files):\n",
    "    with open(json_file) as f:\n",
    "        data = json.load(f)\n",
    "        df_feats = df_feats.append(data,ignore_index=True)"
   ]
  },
  {
   "cell_type": "code",
   "execution_count": null,
   "metadata": {},
   "outputs": [],
   "source": [
    "df_feats[\"cell_height\"] = df_feats_all[\"cell_position_highest_z\"] - df_feats_all[\"cell_position_lowest_z\"]\n",
    "df_feats[\"dna_height\"] = df_feats_all[\"dna_position_highest_z\"] - df_feats_all[\"dna_position_lowest_z\"]"
   ]
  },
  {
   "cell_type": "markdown",
   "metadata": {},
   "source": [
    "## Find the embeddings for each split"
   ]
  },
  {
   "cell_type": "code",
   "execution_count": null,
   "metadata": {},
   "outputs": [],
   "source": [
    "from integrated_cell.metrics.embeddings_reference import get_latent_embeddings\n",
    "\n",
    "embeds_test = get_latent_embeddings(\n",
    "    ref_enc,\n",
    "    ref_dec,\n",
    "    dp_ref,\n",
    "    recon_loss,\n",
    "    modes=['test'],\n",
    "    batch_size=32,\n",
    ")"
   ]
  },
  {
   "cell_type": "code",
   "execution_count": null,
   "metadata": {},
   "outputs": [],
   "source": [
    "dfs_embeds = {\n",
    "    split: pd.DataFrame(\n",
    "        embeds_test[split][\"ref\"][\"mu\"].numpy(),\n",
    "        columns=[f\"mu_{i}\" for i in range(embeds_test[\"test\"][\"ref\"][\"mu\"].numpy().shape[1])]\n",
    "    ) for split in ['test']\n",
    "}"
   ]
  },
  {
   "cell_type": "code",
   "execution_count": null,
   "metadata": {},
   "outputs": [],
   "source": [
    "for split, df_embed in dfs_embeds.items():\n",
    "    assert len(dfs_embeds[split]) == len(dfs_split[split])\n",
    "    dfs_embeds[split][\"UnsplitCsvIndex\"] = dfs_split[split][\"UnsplitCsvIndex\"]"
   ]
  },
  {
   "cell_type": "code",
   "execution_count": null,
   "metadata": {},
   "outputs": [],
   "source": [
    "dfs_embeds[\"test\"].to_csv(Path(results_dir) / \"test_embeddings_nomito.csv\")"
   ]
  },
  {
   "cell_type": "code",
   "execution_count": null,
   "metadata": {},
   "outputs": [],
   "source": [
    "# this is just for test set until i can run all splits\n",
    "\n",
    "df_embeds_test = pd.DataFrame(\n",
    "    embeds_test[\"test\"][\"ref\"][\"mu\"].numpy(),\n",
    "    columns=[f\"mu_{i}\" for i in range(embeds_test[\"test\"][\"ref\"][\"mu\"].numpy().shape[1])]\n",
    ")\n",
    "\n",
    "assert len(df_embeds_test) == len(dfs_split[\"test\"])\n",
    "df_embeds_test[\"UnsplitCsvIndex\"] = dfs_split[\"test\"][\"UnsplitCsvIndex\"]"
   ]
  },
  {
   "cell_type": "markdown",
   "metadata": {},
   "source": [
    "## Merge embeddings in to metadata"
   ]
  },
  {
   "cell_type": "code",
   "execution_count": null,
   "metadata": {},
   "outputs": [],
   "source": [
    "dfs_split = {\n",
    "    split: df_split.merge(df_feats) for split, df_split in dfs_split.items()\n",
    "}"
   ]
  },
  {
   "cell_type": "code",
   "execution_count": null,
   "metadata": {},
   "outputs": [],
   "source": [
    "df_embeddings_plus_meta_test = dfs_split[\"test\"].merge(\n",
    "    dfs_mito[\"test\"]\n",
    ").merge(\n",
    "    df_feats\n",
    ").merge(\n",
    "    df_embeds_test\n",
    ")\n",
    "\n",
    "df_embeddings_plus_meta_test_all_feats = dfs_split[\"test\"].merge(\n",
    "    dfs_mito[\"test\"]\n",
    ").merge(\n",
    "    df_feats_all\n",
    ").merge(\n",
    "    df_embeds_test\n",
    ")\n",
    "\n",
    "# df_embeddings_plus_meta_test.to_csv(\"embeddings_plus_meta_test.csv\")"
   ]
  },
  {
   "cell_type": "markdown",
   "metadata": {},
   "source": [
    "## find top latent dims and drop others for grid plots"
   ]
  },
  {
   "cell_type": "code",
   "execution_count": null,
   "metadata": {},
   "outputs": [],
   "source": [
    "mu_cols = [c for c in df_embeds_test.columns if \"mu\" in c]\n",
    "\n",
    "top_mu_dims = list(\n",
    "    df_embeds_test[\n",
    "        mu_cols\n",
    "    ].abs().mean().sort_values().index\n",
    ")\n",
    "top_mu_dims.reverse()"
   ]
  },
  {
   "cell_type": "code",
   "execution_count": null,
   "metadata": {},
   "outputs": [],
   "source": [
    "plt.figure(figsize=(8,4))\n",
    "\n",
    "g = sns.lineplot(\n",
    "    x=df_embeds_test[mu_cols].abs().mean().rank(ascending=False),\n",
    "    y=df_embeds_test[mu_cols].abs().mean()\n",
    ");\n",
    "\n",
    "g.set(\n",
    "    xlabel=\"Reference latent space dimension rank\",\n",
    "    ylabel=\"Mean absolute value\",\n",
    ");\n",
    "sns.despine()"
   ]
  },
  {
   "cell_type": "code",
   "execution_count": null,
   "metadata": {},
   "outputs": [],
   "source": [
    "g = sns.pairplot(\n",
    "    df_embeds_test[\n",
    "        top_mu_dims[:10]\n",
    "    ].sample(\n",
    "        frac=0.01,\n",
    "        replace=False\n",
    "    ),\n",
    ");\n",
    "\n",
    "g.set(\n",
    "    xlim=(-5, 5),\n",
    "    ylim=(-5, 5)\n",
    ");"
   ]
  },
  {
   "cell_type": "code",
   "execution_count": null,
   "metadata": {},
   "outputs": [],
   "source": [
    "g = sns.pairplot(\n",
    "    df_embeds_test[\n",
    "        mu_cols\n",
    "    ].sample(\n",
    "        n=10,\n",
    "        axis='columns'\n",
    "    ).sample(\n",
    "        frac=0.01,\n",
    "        replace=False\n",
    "    ),\n",
    ");\n",
    "\n",
    "g.set(\n",
    "    xlim=(-5, 5),\n",
    "    ylim=(-5, 5)\n",
    ");"
   ]
  },
  {
   "cell_type": "code",
   "execution_count": null,
   "metadata": {},
   "outputs": [],
   "source": [
    "for dim in top_mu_dims[:10]:\n",
    "    print(dim)\n",
    "    int_dim = int(dim.split(\"_\")[-1])\n",
    "    \n",
    "    latent_walk_path = np.float32(df_embeds_test[dim].std()*np.linspace(-2,2,9))\n",
    "    latent_walk_path = torch.from_numpy(latent_walk_path)\n",
    "\n",
    "    latent_input = torch.zeros([len(latent_walk_path), 512], dtype=torch.float32)\n",
    "    latent_input[:,int_dim] = latent_walk_path\n",
    "    latent_input = latent_input.cuda()\n",
    "    \n",
    "    walk_output = ref_dec(latent_input)\n",
    "    walk_output = walk_output.cpu().data\n",
    "    walk_im = tensor2im(walk_output)\n",
    "    \n",
    "    pil_im = Image.fromarray(np.uint8(walk_im*255))\n",
    "    \n",
    "    display(pil_im)\n",
    "    print(\"\")"
   ]
  },
  {
   "cell_type": "code",
   "execution_count": null,
   "metadata": {},
   "outputs": [],
   "source": [
    "feature_corrs = df_embeddings_plus_meta_test[\n",
    "    [c for c in df_embeddings_plus_meta_test.columns if \"mu\" in c or c in df_feats.drop(columns=[\"CellId\"]).columns]\n",
    "].corr(method=\"spearman\")"
   ]
  },
  {
   "cell_type": "code",
   "execution_count": null,
   "metadata": {},
   "outputs": [],
   "source": [
    "top_mu_dims = list(\n",
    "    df_embeddings_plus_meta_test[\n",
    "        [c for c in df_embeddings_plus_meta_test.columns if \"mu\" in c]\n",
    "    ].abs().mean().sort_values().index\n",
    ")\n",
    "top_mu_dims.reverse()\n",
    "# top_mu_dims"
   ]
  },
  {
   "cell_type": "code",
   "execution_count": null,
   "metadata": {},
   "outputs": [],
   "source": [
    "cols_to_drop = [\n",
    "    c for c in df_embeddings_plus_meta_test.columns if \"mu\" in c and c not in top_mu_dims\n",
    "]\n",
    "df_embeddings_plus_meta_test_top = df_embeddings_plus_meta_test.drop(columns=cols_to_drop)"
   ]
  },
  {
   "cell_type": "markdown",
   "metadata": {},
   "source": [
    "## plots"
   ]
  },
  {
   "cell_type": "code",
   "execution_count": null,
   "metadata": {},
   "outputs": [],
   "source": [
    "# drop missing structure labels\n",
    "df_embeddings_plus_meta_test = df_embeddings_plus_meta_test.dropna()\n",
    "\n",
    "# drop controls\n",
    "df_embeddings_plus_meta_test = df_embeddings_plus_meta_test[\n",
    "    ~df_embeddings_plus_meta_test.StructureDisplayName.str.startswith(\"Control\")\n",
    "]"
   ]
  },
  {
   "cell_type": "markdown",
   "metadata": {},
   "source": [
    "## plot mito annotations"
   ]
  },
  {
   "cell_type": "code",
   "execution_count": null,
   "metadata": {},
   "outputs": [],
   "source": [
    "df_mito_search = df_embeddings_plus_meta_test_all_feats.dropna().copy()\n",
    "df_mito_search = df_mito_search[df_mito_search[\"mito_state_resolved\"] != 'u']\n",
    "\n",
    "df_mito_search[\"mito_state_int\"] = df_mito_search[\"mito_state_resolved\"].map(\n",
    "    {'M0':0, 'M1/M2':1, 'M3':2, 'M4/M5':3, 'M6/M7':4}\n",
    ")\n",
    "# df_mito_search = df_mito_search[df_mito_search[\"mito_state_int\"] != 0]\n",
    "\n",
    "mu_cols = [c for c in df_embeds_test.columns if c.startswith(\"mu_\") and c != \"CellId\"]\n",
    "mito_corrs = df_mito_search[mu_cols+[\"mito_state_int\"]].corr(method=\"spearman\")\n",
    "mito_corrs = mito_corrs.drop(mu_cols, axis=\"columns\").drop([\"mito_state_int\"], axis=\"rows\")"
   ]
  },
  {
   "cell_type": "code",
   "execution_count": null,
   "metadata": {},
   "outputs": [],
   "source": [
    "plt.figure(figsize=(4,4))\n",
    "\n",
    "g = sns.lineplot(\n",
    "    x=mito_corrs.abs().rank(ascending=False)[\"mito_state_int\"],\n",
    "    y=mito_corrs.abs()[\"mito_state_int\"]\n",
    ");\n",
    "\n",
    "g.set(\n",
    "#     xlim=(-5, 3),\n",
    "#     ylim=(-4, 5),\n",
    "    xlabel=\"Dimension rank\",\n",
    "    ylabel=\"Spearman corr. with mitotic state\",\n",
    ");\n",
    "\n",
    "sns.despine()\n",
    "\n",
    "plt.savefig('mito_dims_ranked.png', dpi=300, bbox_inches = \"tight\")"
   ]
  },
  {
   "cell_type": "code",
   "execution_count": null,
   "metadata": {},
   "outputs": [],
   "source": [
    "top_mito_dims = list(mito_corrs.abs().squeeze().sort_values().index)\n",
    "top_mito_dims.reverse()"
   ]
  },
  {
   "cell_type": "code",
   "execution_count": null,
   "metadata": {},
   "outputs": [],
   "source": [
    "mito_dims_compared_to_overall_mu_ranks = [\n",
    "    (dim, i, top_mu_dims.index(dim))\n",
    "    for i, dim in enumerate(top_mito_dims[:10])]\n",
    "\n",
    "mito_dims_compared_to_overall_mu_ranks"
   ]
  },
  {
   "cell_type": "code",
   "execution_count": null,
   "metadata": {},
   "outputs": [],
   "source": [
    "pd.DataFrame(mito_dims_compared_to_overall_mu_ranks, columns=[\"dim\", \"mito rank\", \"overall rank\"])"
   ]
  },
  {
   "cell_type": "markdown",
   "metadata": {},
   "source": [
    "## plots"
   ]
  },
  {
   "cell_type": "code",
   "execution_count": null,
   "metadata": {},
   "outputs": [],
   "source": [
    "df_embeddings_plus_meta_test_pretty_names = df_embeddings_plus_meta_test.rename(\n",
    "    columns={\n",
    "        \"mito_state_resolved\": \"Mitotic state\",\n",
    "        'dna_volume': 'DNA volume',\n",
    "        'cell_volume': 'Cell volume',\n",
    "        'dna_height': 'DNA height',\n",
    "        'cell_height': 'Cell height'\n",
    "    }\n",
    ")\n",
    "\n",
    "pixel_length_in_micrometers = 0.29\n",
    "df_embeddings_plus_meta_test_pretty_names['DNA volume (μm^3)'] = df_embeddings_plus_meta_test_pretty_names['DNA volume']*(pixel_length_in_micrometers**3)\n",
    "df_embeddings_plus_meta_test_pretty_names['DNA height (μm)'] = df_embeddings_plus_meta_test_pretty_names['DNA height']*pixel_length_in_micrometers\n",
    "df_embeddings_plus_meta_test_pretty_names['Cell volume (μm^3)'] = df_embeddings_plus_meta_test_pretty_names['Cell volume']*(pixel_length_in_micrometers**3)\n",
    "df_embeddings_plus_meta_test_pretty_names['Cell height (μm)'] = df_embeddings_plus_meta_test_pretty_names['Cell height']*pixel_length_in_micrometers"
   ]
  },
  {
   "cell_type": "markdown",
   "metadata": {},
   "source": [
    "### mito plots"
   ]
  },
  {
   "cell_type": "markdown",
   "metadata": {},
   "source": [
    "#### by top 2 dims that separate mito states"
   ]
  },
  {
   "cell_type": "code",
   "execution_count": null,
   "metadata": {},
   "outputs": [],
   "source": [
    "plt.figure(figsize=(3,3))\n",
    "\n",
    "plt_mito = sns.scatterplot(\n",
    "    data=df_embeddings_plus_meta_test_pretty_names[\n",
    "        df_embeddings_plus_meta_test_pretty_names[\"Mitotic state\"] != 'u'\n",
    "    ].sort_values(\n",
    "        by=\"Mitotic state\"\n",
    "    ),\n",
    "    x=\"mu_452\",\n",
    "    y=\"mu_419\",\n",
    "    hue=\"Mitotic state\",\n",
    "    hue_order=['M0', 'M1/M2', 'M3', 'M4/M5', 'M6/M7'],\n",
    "    palette=[(\"lightgrey\")] + sns.color_palette(\"tab10\")[:4],\n",
    "    linewidth=0,\n",
    "    alpha = 0.5,\n",
    "    s=20,\n",
    ")\n",
    "\n",
    "plt_mito.set(\n",
    "    xlabel=\"$\\mu_{452}$\",\n",
    "    ylabel=\"$\\mu_{419}$\",\n",
    ");\n",
    "\n",
    "plt.legend(bbox_to_anchor=(1.0, 0.7), frameon=False)\n",
    "sns.despine()\n",
    "\n",
    "plt.savefig('latent_plot_mito_top_mito_dims.png', dpi=300, bbox_inches = \"tight\")"
   ]
  },
  {
   "cell_type": "markdown",
   "metadata": {},
   "source": [
    "#### by top two overall dims"
   ]
  },
  {
   "cell_type": "code",
   "execution_count": null,
   "metadata": {},
   "outputs": [],
   "source": [
    "plt.figure(figsize=(3,3))\n",
    "\n",
    "plt_mito = sns.scatterplot(\n",
    "    data=df_embeddings_plus_meta_test_pretty_names[\n",
    "        df_embeddings_plus_meta_test_pretty_names[\"Mitotic state\"] != 'u'\n",
    "    ].sort_values(\n",
    "        by=\"Mitotic state\"\n",
    "    ),\n",
    "    x=\"mu_71\",\n",
    "    y=\"mu_419\",\n",
    "    hue=\"Mitotic state\",\n",
    "    hue_order=['M0', 'M1/M2', 'M3', 'M4/M5', 'M6/M7'],\n",
    "    palette=[(\"lightgrey\")] + sns.color_palette(\"tab10\")[:4],\n",
    "    linewidth=0,\n",
    "    alpha = 0.5,\n",
    "    s=20,\n",
    ")\n",
    "\n",
    "plt_mito.set(\n",
    "    xlabel=\"$\\mu_{71}$\",\n",
    "    ylabel=\"$\\mu_{419}$\",\n",
    ");\n",
    "\n",
    "plt.legend(bbox_to_anchor=(1.0, 0.7), frameon=False)\n",
    "sns.despine()\n",
    "\n",
    "plt.savefig('latent_plot_mito_top_mu_overall_dims.png', dpi=300, bbox_inches = \"tight\")"
   ]
  },
  {
   "cell_type": "markdown",
   "metadata": {},
   "source": [
    "### grid plots"
   ]
  },
  {
   "cell_type": "code",
   "execution_count": null,
   "metadata": {},
   "outputs": [],
   "source": [
    "pretty_hue_names = {\n",
    "    'DNA volume (μm^3)': 'DNA volume (μm$^3$)',\n",
    "    'DNA height (μm)': 'DNA height (μm)',\n",
    "    'Cell volume (μm^3)': 'Cell volume (μm$^3$)',\n",
    "    'Cell height (μm)': 'Cell height (μm)',\n",
    "}"
   ]
  },
  {
   "cell_type": "code",
   "execution_count": null,
   "metadata": {},
   "outputs": [],
   "source": [
    "pretty_mu_names = {\n",
    "    'mu_71': \"$\\mu_{71}$\",\n",
    "    'mu_419': \"$\\mu_{419}$\",\n",
    "    'mu_188': \"$\\mu_{188}$\",\n",
    "    'mu_465': \"$\\mu_{465}$\",\n",
    "}\n",
    "pretty_mu_names"
   ]
  },
  {
   "cell_type": "code",
   "execution_count": null,
   "metadata": {},
   "outputs": [],
   "source": [
    "for hue, hue_pretty_name in pretty_hue_names.items():\n",
    "\n",
    "    hue_norm_tail = 0.01\n",
    "\n",
    "    df_plot = df_embeddings_plus_meta_test_pretty_names[\n",
    "        df_embeddings_plus_meta_test_pretty_names[\"Mitotic state\"] != 'u'\n",
    "    ]\n",
    "\n",
    "    g = sns.PairGrid(\n",
    "        df_plot,\n",
    "        height=1.5,\n",
    "        vars=top_mu_dims[:4]\n",
    "    )\n",
    "    g.map_diag(sns.kdeplot, color=\".2\", shade=False)\n",
    "    g.map_offdiag(\n",
    "        sns.scatterplot,\n",
    "        hue=df_plot[hue],\n",
    "        palette=\"viridis\",\n",
    "        s=20,\n",
    "        linewidth=0,\n",
    "        alpha=0.5,\n",
    "        hue_norm=(np.quantile(df_plot[hue], hue_norm_tail), np.quantile(df_plot[hue], 1-hue_norm_tail))\n",
    "    );\n",
    "\n",
    "    plt.legend(title=hue_pretty_name, bbox_to_anchor=(1.01, 1), frameon=False)\n",
    "#     g._legend.set_title(new_title)\n",
    "    \n",
    "    for i in range(4):\n",
    "        for j in range(4):\n",
    "            xlabel = g.axes[i][j].get_xlabel()\n",
    "            ylabel = g.axes[i][j].get_ylabel()\n",
    "            if xlabel in pretty_mu_names.keys():\n",
    "                g.axes[i][j].set_xlabel(pretty_mu_names[xlabel])\n",
    "            if ylabel in pretty_mu_names.keys():\n",
    "                g.axes[i][j].set_ylabel(pretty_mu_names[ylabel])\n",
    "    \n",
    "    \n",
    "    plt.subplots_adjust(top=0.95)\n",
    "#     g.fig.suptitle(f\"color = {hue_pretty_name}\");\n",
    "    g.fig.savefig(f\"latent_top_mu_dims_gridplot_color_{hue.lower().replace(' ', '_')}.png\", dpi=300, bbox_inches = \"tight\")"
   ]
  },
  {
   "cell_type": "markdown",
   "metadata": {},
   "source": [
    "### cell volume and height solo for main figure"
   ]
  },
  {
   "cell_type": "code",
   "execution_count": null,
   "metadata": {},
   "outputs": [],
   "source": [
    "plt.figure(figsize=(3,3))\n",
    "\n",
    "hue_norm_tail = 0.01\n",
    "\n",
    "plt_mito = sns.scatterplot(\n",
    "    data=df_embeddings_plus_meta_test_pretty_names[\n",
    "        df_embeddings_plus_meta_test_pretty_names[\"Mitotic state\"] != 'u'\n",
    "    ].sort_values(\n",
    "        by=\"Cell height (μm)\"\n",
    "    ),\n",
    "    x=\"mu_71\",\n",
    "    y=\"mu_419\",\n",
    "    hue=\"Cell height (μm)\",\n",
    "    palette=\"viridis\",\n",
    "    linewidth=0,\n",
    "    alpha = 0.5,\n",
    "    s=20,\n",
    "    hue_norm=(\n",
    "        np.quantile(df_embeddings_plus_meta_test_pretty_names[\"Cell height (μm)\"], hue_norm_tail),\n",
    "        np.quantile(df_embeddings_plus_meta_test_pretty_names[\"Cell height (μm)\"], 1-hue_norm_tail)\n",
    "    )\n",
    ")\n",
    "\n",
    "plt_mito.set(\n",
    "    xlabel=\"$\\mu_{71}$\",\n",
    "    ylabel=\"$\\mu_{419}$\",\n",
    ");\n",
    "\n",
    "plt.legend(bbox_to_anchor=(1.0, 0.7), frameon=False)\n",
    "sns.despine()\n",
    "\n",
    "plt.savefig('latent_plot_mito_cell_height_alone.png', dpi=300, bbox_inches = \"tight\")"
   ]
  },
  {
   "cell_type": "code",
   "execution_count": null,
   "metadata": {},
   "outputs": [],
   "source": [
    "plt.figure(figsize=(3,3))\n",
    "\n",
    "plt_mito = sns.scatterplot(\n",
    "    data=df_embeddings_plus_meta_test_pretty_names[\n",
    "        df_embeddings_plus_meta_test_pretty_names[\"Mitotic state\"] != 'u'\n",
    "    ].sort_values(\n",
    "        by=\"Cell volume (μm^3)\"\n",
    "    ),\n",
    "    x=\"mu_71\",\n",
    "    y=\"mu_419\",\n",
    "    hue=\"Cell volume (μm^3)\",\n",
    "    palette=\"viridis\",\n",
    "    linewidth=0,\n",
    "    alpha = 0.5,\n",
    "    s=20,\n",
    "    hue_norm=(\n",
    "        np.quantile(df_embeddings_plus_meta_test_pretty_names[\"Cell volume (μm^3)\"], hue_norm_tail),\n",
    "        np.quantile(df_embeddings_plus_meta_test_pretty_names[\"Cell volume (μm^3)\"], 1-hue_norm_tail)\n",
    "    )\n",
    ")\n",
    "\n",
    "plt_mito.set(\n",
    "    xlabel=\"$\\mu_{71}$\",\n",
    "    ylabel=\"$\\mu_{419}$\",\n",
    ");\n",
    "\n",
    "plt.legend(bbox_to_anchor=(1.0, 0.7), frameon=False)\n",
    "sns.despine()\n",
    "\n",
    "plt.savefig('latent_plot_mito_cell_volume_alone.png', dpi=300, bbox_inches = \"tight\")"
   ]
  },
  {
   "cell_type": "markdown",
   "metadata": {},
   "source": [
    "## for the top N latent dims, find the top features correlated with them"
   ]
  },
  {
   "cell_type": "code",
   "execution_count": null,
   "metadata": {},
   "outputs": [],
   "source": [
    "mu_cols = [c for c in df_embeds_test.columns if c.startswith(\"mu_\") and c != \"CellId\"]\n",
    "feat_cols = [c for c in df_feats_all.columns if (c.startswith(\"dna_\") or c.startswith(\"cell_\"))]\n",
    "corrs_all = df_embeddings_plus_meta_test_all_feats[mu_cols+feat_cols].corr(method=\"spearman\")"
   ]
  },
  {
   "cell_type": "code",
   "execution_count": null,
   "metadata": {},
   "outputs": [],
   "source": [
    "corrs_all_cross = corrs_all.drop(mu_cols, axis=\"rows\").drop(feat_cols, axis=\"columns\")"
   ]
  },
  {
   "cell_type": "code",
   "execution_count": null,
   "metadata": {},
   "outputs": [],
   "source": [
    "top_mu_dims = list(\n",
    "    df_embeddings_plus_meta_test[mu_cols].abs().mean().sort_values().index\n",
    ")\n",
    "top_mu_dims.reverse()"
   ]
  },
  {
   "cell_type": "code",
   "execution_count": null,
   "metadata": {},
   "outputs": [],
   "source": [
    "plt.figure(figsize=(4,2))\n",
    "\n",
    "g = sns.lineplot(\n",
    "    x=df_embeddings_plus_meta_test[mu_cols].abs().mean().rank(ascending=False),\n",
    "    y=df_embeddings_plus_meta_test[mu_cols].abs().mean()\n",
    ");\n",
    "\n",
    "g.set(\n",
    "#     xlim=(-5, 3),\n",
    "#     ylim=(-4, 5),\n",
    "    xlabel=\"Reference latent space dimension rank\",\n",
    "    ylabel=\"Mean absolute value\",\n",
    ");\n",
    "sns.despine()\n",
    "\n",
    "plt.savefig('mu_overall_dims_ranked.png', dpi=300, bbox_inches = \"tight\")"
   ]
  },
  {
   "cell_type": "code",
   "execution_count": null,
   "metadata": {},
   "outputs": [],
   "source": [
    "g = sns.clustermap(\n",
    "    corrs_all_cross[top_mu_dims[:32]].abs(),\n",
    "    col_cluster=False,\n",
    "    figsize=(10,20),\n",
    "    cmap=\"Blues\",\n",
    "    vmin=0,\n",
    "#     center=0,\n",
    "    vmax=1,\n",
    "    xticklabels=True,\n",
    "    yticklabels=True,\n",
    ");\n",
    "\n",
    "g.savefig(f\"heatmap_mu_vs_feats_vertical.png\", dpi=300, bbox_inches = \"tight\")"
   ]
  },
  {
   "cell_type": "code",
   "execution_count": null,
   "metadata": {},
   "outputs": [],
   "source": [
    "g = sns.clustermap(\n",
    "    corrs_all_cross[top_mu_dims[:32]].T.abs(),\n",
    "    row_cluster=False,\n",
    "    figsize=(20,10),\n",
    "    cmap=\"Blues\",\n",
    "    vmin=0,\n",
    "#     center=0,\n",
    "    vmax=1,\n",
    "    xticklabels=True,\n",
    "    yticklabels=True,\n",
    ");\n",
    "g.savefig(f\"heatmap_mu_vs_feats_horizontal.png\", dpi=300, bbox_inches = \"tight\")"
   ]
  },
  {
   "cell_type": "code",
   "execution_count": null,
   "metadata": {},
   "outputs": [],
   "source": [
    "N_latent_dims = 8\n",
    "K_feats_per_dim = 3\n",
    "\n",
    "mu_feat_match_dict = {}\n",
    "for c in corrs_all_cross[top_mu_dims[:N_latent_dims]].columns:\n",
    "    top_dims_for_c = list(corrs_all_cross[top_mu_dims][c].abs().sort_values()[-K_feats_per_dim:].index)\n",
    "    top_dims_for_c.reverse()\n",
    "    mu_feat_match_dict[c] = top_dims_for_c\n",
    "    \n",
    "df_mu_feat_match = pd.DataFrame(mu_feat_match_dict)"
   ]
  },
  {
   "cell_type": "code",
   "execution_count": null,
   "metadata": {},
   "outputs": [],
   "source": [
    "df_mu_feat_match"
   ]
  },
  {
   "cell_type": "markdown",
   "metadata": {},
   "source": [
    "## draw samples from latent space along top N interesting dimensions"
   ]
  },
  {
   "cell_type": "code",
   "execution_count": null,
   "metadata": {},
   "outputs": [],
   "source": [
    "for dim in df_mu_feat_match.columns:\n",
    "    int_dim = int(dim.split(\"_\")[-1])\n",
    "    top_feat_for_dim = df_mu_feat_match.loc[0, dim]\n",
    "    \n",
    "    latent_walk_path = np.float32(df_embeds_test[dim].std()*np.linspace(-2,2,9))\n",
    "    latent_walk_path = torch.from_numpy(latent_walk_path)\n",
    "\n",
    "    latent_input = torch.zeros([len(latent_walk_path), 512], dtype=torch.float32)\n",
    "    latent_input[:,int_dim] = latent_walk_path\n",
    "    latent_input = latent_input.cuda()\n",
    "    \n",
    "    walk_output = ref_dec(latent_input)\n",
    "    walk_output = walk_output.cpu().data\n",
    "    walk_im = tensor2im(walk_output)\n",
    "    \n",
    "    pil_im = Image.fromarray(np.uint8(walk_im*255))\n",
    "    pil_im.save(f\"latent_walk_{dim}_top_feat_{top_feat_for_dim}.png\",\"PNG\")\n",
    "    \n",
    "    print(f\"{dim}, top feature = {top_feat_for_dim}\")\n",
    "    display(pil_im)\n",
    "    print(\"\")"
   ]
  },
  {
   "cell_type": "code",
   "execution_count": null,
   "metadata": {},
   "outputs": [],
   "source": [
    "from sklearn.decomposition import PCA\n",
    "from sklearn.preprocessing import scale"
   ]
  },
  {
   "cell_type": "code",
   "execution_count": null,
   "metadata": {},
   "outputs": [],
   "source": [
    "pca = PCA()\n",
    "pca.fit(scale(df_feats_all[feat_cols].dropna()))"
   ]
  },
  {
   "cell_type": "code",
   "execution_count": null,
   "metadata": {},
   "outputs": [],
   "source": [
    "plt.figure(figsize=(4,2))\n",
    "\n",
    "g = sns.lineplot(\n",
    "    x=pd.DataFrame(\n",
    "        pca.explained_variance_ratio_, columns=[\"Feature PCA explained variance\"]\n",
    "    ).index,\n",
    "    y=pd.DataFrame(\n",
    "        pca.explained_variance_ratio_, columns=[\"Feature PCA explained variance\"]\n",
    "    )[\"Feature PCA explained variance\"]\n",
    ");\n",
    "\n",
    "g.set(\n",
    "#     xlim=(0, 12),\n",
    "#     ylim=(-4, 5),\n",
    "    xlabel=\"Feature PC rank\",\n",
    "    ylabel=\"Explained variance\",\n",
    ");\n",
    "sns.despine()\n",
    "\n",
    "plt.savefig('pca_feats_explained_variance.png', dpi=300, bbox_inches = \"tight\")"
   ]
  },
  {
   "cell_type": "code",
   "execution_count": null,
   "metadata": {},
   "outputs": [],
   "source": [
    "pd.DataFrame(\n",
    "    np.cumsum(pca.explained_variance_ratio_), columns=[\n",
    "    \"Feature PCA explained variance\"\n",
    "    ]\n",
    ")[\"Feature PCA explained variance\"]"
   ]
  },
  {
   "cell_type": "code",
   "execution_count": null,
   "metadata": {},
   "outputs": [],
   "source": [
    "mu_corrs = df_embeddings_plus_meta_test_all_feats[top_mu_dims[:32]].corr()\n",
    "\n",
    "plt.figure(figsize=(8,8))\n",
    "g = sns.heatmap(\n",
    "    mu_corrs.abs(),\n",
    "    cmap=\"Blues\",\n",
    "    vmin=0,\n",
    "    vmax=1,\n",
    "    xticklabels=True,\n",
    "    yticklabels=True,\n",
    "    square=True,\n",
    "    cbar_kws={\"shrink\": .82}\n",
    ")\n",
    "\n",
    "plt.savefig('latent_dim_corrs.png', dpi=300, bbox_inches = \"tight\")"
   ]
  },
  {
   "cell_type": "code",
   "execution_count": null,
   "metadata": {},
   "outputs": [],
   "source": []
  }
 ],
 "metadata": {
  "kernelspec": {
   "display_name": "Python [conda env:rory_pytorch_integrated_cell]",
   "language": "python",
   "name": "conda-env-rory_pytorch_integrated_cell-py"
  },
  "language_info": {
   "codemirror_mode": {
    "name": "ipython",
    "version": 3
   },
   "file_extension": ".py",
   "mimetype": "text/x-python",
   "name": "python",
   "nbconvert_exporter": "python",
   "pygments_lexer": "ipython3",
   "version": "3.7.8"
  }
 },
 "nbformat": 4,
 "nbformat_minor": 4
}
