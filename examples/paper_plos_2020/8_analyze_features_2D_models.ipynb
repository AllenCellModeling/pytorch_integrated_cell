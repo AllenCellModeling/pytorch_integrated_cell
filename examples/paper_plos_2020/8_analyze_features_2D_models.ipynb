{
 "cells": [
  {
   "cell_type": "markdown",
   "metadata": {},
   "source": [
    "# 2D model feature analysis"
   ]
  },
  {
   "cell_type": "markdown",
   "metadata": {},
   "source": [
    "## Configuring the script parameters"
   ]
  },
  {
   "cell_type": "code",
   "execution_count": null,
   "metadata": {
    "tags": []
   },
   "outputs": [],
   "source": [
    "# Automatically reload modules before code execution\n",
    "%load_ext autoreload\n",
    "%autoreload 2"
   ]
  },
  {
   "cell_type": "code",
   "execution_count": null,
   "metadata": {},
   "outputs": [],
   "source": [
    "import pickle\n",
    "import pandas as pd\n",
    "from PIL import Image\n",
    "\n",
    "import numpy as np\n",
    "\n",
    "import features_lib as flib"
   ]
  },
  {
   "cell_type": "code",
   "execution_count": null,
   "metadata": {},
   "outputs": [],
   "source": [
    "import matplotlib.pyplot as plt\n",
    "\n",
    "# Set plotting style\n",
    "%matplotlib inline\n",
    "%config InlineBackend.figure_format = 'retina'"
   ]
  },
  {
   "cell_type": "markdown",
   "metadata": {},
   "source": [
    "## Display cell and binary mask images for real cells and different betas"
   ]
  },
  {
   "cell_type": "markdown",
   "metadata": {},
   "source": [
    "### Configuring the appropriate parameters"
   ]
  },
  {
   "cell_type": "code",
   "execution_count": null,
   "metadata": {},
   "outputs": [],
   "source": [
    "#norm_intensity{0|1}/beta{real|float}/sampling{real|kld|norm}\n",
    "\n",
    "# norm_intensity/real\n",
    "# norm_intensity/gen/beta/real/[embeddings/features]\n",
    "#                    beta/kld/[embeddings/features]\n",
    "#                    beta/norm/[embeddings/features]\n",
    "\n",
    "feats_parent_dir = '/allen/aics/modeling/gregj/results/integrated_cell/test_cbvae_beta_ref/results/feats_caleb_20cells_saveimgs_localmean/'\n",
    "#feats_parent_dir = '/allen/aics/modeling/gregj/results/integrated_cell//test_cbvae_beta_ref/results/feats_caleb_5cells_saveimgs_allsegs/'\n",
    "\n",
    "intensity_norm   = 0                             # Values = {0, 1}\n",
    "show_betas       = ['real', 0.010, 0.296, 0.663]  # Values = {'real', 0.010, 0.296, 0.663}\n",
    "#show_betas       = ['real']  # Values = {'real', 0.010, 0.296, 0.663}\n",
    "sampling         = 'kld'                        # Values = {real, kld, norm}\n",
    "img_type         = 'cell'                        # Value = {'hist', 'cell'}"
   ]
  },
  {
   "cell_type": "code",
   "execution_count": null,
   "metadata": {
    "tags": []
   },
   "outputs": [],
   "source": [
    "# TODO: Image files are sorted by filename, and not by numerical order\n",
    "\n",
    "file_suffix = flib.dct_img_type[img_type]\n",
    "\n",
    "img_paths = []\n",
    "\n",
    "for col_idx, col_beta in enumerate(show_betas):\n",
    "    img_paths.append(flib.fnGetFullFilenames(flib.gen_feature_path(feats_parent_dir, intensity_norm, col_beta, sampling), file_suffix))\n",
    "    \n",
    "num_cells = len(img_paths[0])\n",
    "num_betas = len(show_betas)\n",
    "\n",
    "if (img_type == 'hist'):\n",
    "    row_factor = 2\n",
    "    col_factor = 10\n",
    "else:\n",
    "    if (num_betas == 1):\n",
    "        col_factor = 60\n",
    "        row_factor = 6\n",
    "    else:\n",
    "        col_factor = 10\n",
    "        row_factor = 4\n",
    "\n",
    "objFig, objAxes = plt.subplots(num_cells, num_betas, figsize=(col_factor * num_betas, row_factor * num_cells))\n",
    "\n",
    "for row_idx in np.arange(num_cells):\n",
    "    \n",
    "    for col_idx in np.arange(num_betas):\n",
    "        \n",
    "        fn_img = img_paths[col_idx][row_idx]\n",
    "        arrImg = Image.open(fn_img)\n",
    "        \n",
    "        if (num_betas == 1):\n",
    "            objAxes[row_idx].imshow(arrImg, cmap='gray')\n",
    "        else:\n",
    "            objAxes[row_idx, col_idx].imshow(arrImg, cmap='gray')\n",
    "\n",
    "    path, basename, ext = flib.fnSplitFullFilename(fn_img)\n",
    "    if (num_betas == 1):\n",
    "        objAxes[row_idx].set_ylabel(basename, fontsize=20)\n",
    "    else:\n",
    "        objAxes[row_idx, 0].set_ylabel(basename, fontsize=20)\n",
    "            \n",
    "for col_idx in np.arange(num_betas):\n",
    "    if (show_betas[col_idx] == 'real'):\n",
    "        title = f'real cells'\n",
    "    else:\n",
    "        title = f'gen cells (norm = {intensity_norm}, beta = {show_betas[col_idx]})'\n",
    "        \n",
    "    if (num_betas > 1):\n",
    "        objAxes[0, col_idx].set_title(title, fontsize=20)\n",
    "\n",
    "#for objAxis in objAxes.flatten():\n",
    "#    objAxis.axis('off')\n",
    "\n",
    "for objAxis in objAxes.flatten():\n",
    "    objAxis.xaxis.set_ticks([])\n",
    "    objAxis.yaxis.set_ticks([])\n",
    "    objAxis.spines['top'].set_visible(False)\n",
    "    objAxis.spines['bottom'].set_visible(False)\n",
    "    objAxis.spines['left'].set_visible(False)\n",
    "    objAxis.spines['right'].set_visible(False)\n"
   ]
  },
  {
   "cell_type": "markdown",
   "metadata": {},
   "source": [
    "## Print latent space embeddings and cell/nucleus features as a dataframe"
   ]
  },
  {
   "cell_type": "code",
   "execution_count": null,
   "metadata": {
    "tags": []
   },
   "outputs": [],
   "source": [
    "# Load the pre-processed and pre-saved cell and nucleus features\n",
    "\n",
    "#all_feats_save_path = '/allen/aics/modeling/gregj/results/integrated_cell//test_cbvae_beta_ref/results/feats//all_feats.pkl'\n",
    "all_feats_save_path = '/allen/aics/modeling/gregj/results/integrated_cell//test_cbvae_beta_ref/results/feats_caleb_100cells/all_feats.pkl'\n",
    "\n",
    "intensity_norms = ['unnormalized', 'normalized']\n",
    "\n",
    "with open(all_feats_save_path, \"rb\") as f:\n",
    "    feature_dict = pickle.load(f)\n",
    "\n",
    "for i, intensity_norm in enumerate(intensity_norms):\n",
    "\n",
    "    #features for a specified intensity norm\n",
    "    feature_dict[i]\n",
    "\n",
    "    #each sub-dict has real and gen features\n",
    "    real_feats = feature_dict[i]['real']\n",
    "\n",
    "    feature_dict[i]['gen']\n",
    "\n",
    "    #then gen feature dict has features for many betas\n",
    "    betas = [k for k in feature_dict[i]['gen']]\n",
    "\n",
    "#     print(betas[0])\n",
    "\n",
    "    #features_for_the_first_beta = feature_dict[i]['gen'][betas[0]]\n",
    "    features_for_the_first_beta = feature_dict[i]['gen'][betas[0]]['real']['features']\n",
    "\n",
    "#     print(features_for_the_first_beta)\n",
    "\n",
    "    #the real columns and the generated columns (for each beta) are the same\n",
    "    for columnReal, columnGen in zip(real_feats.columns, features_for_the_first_beta):\n",
    "        assert columnReal == columnGen\n",
    "\n"
   ]
  },
  {
   "cell_type": "code",
   "execution_count": null,
   "metadata": {},
   "outputs": [],
   "source": [
    "# Flatten the nested features dictionary into a flat dictionary of 1 level\n",
    "\n",
    "# Structure of the nested dictionary:\n",
    "#   norm_intensity{0, 1}/real\n",
    "#   norm_intensity{0, 1}/gen/beta/real/{embeddings, features}\n",
    "#                            beta/kld/{embeddings, features}\n",
    "#                            beta/norm/{embeddings, features}\n",
    "\n",
    "dct_combined_df_flat = flib.flatten_dict(feature_dict)\n",
    "\n",
    "# Display the keys in the flattened dictionary\n",
    "for key in dct_combined_df_flat.keys():\n",
    "    print(f'{key}')"
   ]
  },
  {
   "cell_type": "code",
   "execution_count": null,
   "metadata": {},
   "outputs": [],
   "source": [
    "# Select a single combination of parameters and genereate a combined embeddings\n",
    "# and features dataframe\n",
    "\n",
    "key = '1_gen_0.296_rnd_norm'\n",
    "#key = '1_real'\n",
    "\n",
    "#embeddings = feature_dict[0]['gen'][0.010]['real']['embeddings']\n",
    "if (key + '_embeddings' in dct_combined_df_flat.keys()):\n",
    "    embeddings = dct_combined_df_flat[key + '_embeddings']\n",
    "    embeddings_shape = embeddings.shape\n",
    "\n",
    "    embedding_colnames = ['z_' + str(dim) for dim in np.arange(embeddings_shape[1])]\n",
    "\n",
    "    df_embeddings = pd.DataFrame(embeddings, columns=embedding_colnames)\n",
    "\n",
    "    #df_features = feature_dict[0]['gen'][0.010]['real']['features']\n",
    "    df_features = dct_combined_df_flat[key + '_features']\n",
    "\n",
    "    df_combined = pd.concat([df_embeddings, df_features], axis=1)\n",
    "\n",
    "else:\n",
    "    # If we are looking at real cells from the test set, there will only be\n",
    "    # features but no embeddings since these cells are not generated\n",
    "    df_combined = dct_combined_df_flat[key]"
   ]
  },
  {
   "cell_type": "code",
   "execution_count": null,
   "metadata": {},
   "outputs": [],
   "source": [
    "# Visiualize the embeddings and features dataframe\n",
    "\n",
    "df_combined"
   ]
  },
  {
   "cell_type": "code",
   "execution_count": null,
   "metadata": {},
   "outputs": [],
   "source": [
    "# List the shape of the embeddings arrays for all the different combinations\n",
    "# of parameters for sanity check\n",
    "for key in dct_combined_df_flat.keys():\n",
    "    if ('_embeddings' in key):\n",
    "        print(f'{key}: {dct_combined_df_flat[key].shape}')"
   ]
  },
  {
   "cell_type": "markdown",
   "metadata": {},
   "source": [
    "## Print off real versus generated feature distributions"
   ]
  },
  {
   "cell_type": "code",
   "execution_count": null,
   "metadata": {},
   "outputs": [],
   "source": [
    "from sklearn import preprocessing\n",
    "from scipy.stats import gaussian_kde\n",
    "from matplotlib import cm\n",
    "from matplotlib.lines import Line2D\n",
    "\n",
    "# ***TODO: Iterate over different internsity_norms\n",
    "# ***BUG: norm = 0, beta = 0.99, col = cell_shape_volume, feats_real = small, feats_gen = 4947 for all cells\n",
    "#         -> not a bug, all genereated cells (from real ones) look the same when beta is 0.99\n",
    "intensity_norm_meth = 1\n",
    "\n",
    "betas_to_plot = [0.010, 0.296, 0.663]\n",
    "show_samplings = ['real', 'rnd_kld', 'rnd_norm']\n",
    "\n",
    "cols_to_plot = [\n",
    "    \"cell_shape_volume\",\n",
    "    \"cell_shape_surface_area\",\n",
    "    'cell_inten_intensity_mean',    \n",
    "    \"dna_shape_volume\",\n",
    "#     \"dna_shape_surface_area\",\n",
    "    'dna_inten_intensity_std'\n",
    "\n",
    "\n",
    "#     'cell_inten_intensity_median',\n",
    "#     'cell_inten_intensity_std',\n",
    "#     'dna_inten_intensity_mean',\n",
    "#     'dna_inten_intensity_median',\n",
    "\n",
    "]\n",
    "\n",
    "n_betas_to_plot = len(betas_to_plot)\n",
    "n_feats = len(cols_to_plot)\n",
    "color_real = 'r'\n",
    "colors_betas = cm.viridis(np.linspace(0, 1, n_betas_to_plot))\n",
    "\n",
    "betas = np.array([k for k in feature_dict[0]['gen']])\n",
    "\n",
    "#betas_to_plot = betas[np.linspace(0, len(betas)-1, n_betas_to_plot).astype(int)]\n",
    "print(f'betas = {betas}, beta_to_plot = {betas_to_plot}')\n",
    "\n",
    "points_to_eval_kde = np.linspace(-3,10,100)\n",
    "\n",
    "features = feature_dict[intensity_norm_meth]\n",
    "\n",
    "print(f'norm_intensity = {intensity_norm_meth}, betas = {betas_to_plot}')\n",
    "\n",
    "for sampling in show_samplings:\n",
    "    #plt.figure(figsize=[10, 6])\n",
    "    plt.figure(figsize=[20, 3])\n",
    "\n",
    "    #for sampling_type in ['real', 'rnd_kld', 'rnd_norm']\n",
    "\n",
    "    for i, col in enumerate(cols_to_plot):\n",
    "        #plt.subplot(2, 3, i+1)\n",
    "        plt.subplot(1, 6, i+1)\n",
    "        plt.title(col.replace('_', ' ').replace('surface area', 'perimeter').replace('volume', 'area').replace(' inten ', ' ').replace('dna ', 'DNA '))\n",
    "\n",
    "        feats_real = features['real'][col].values.reshape(-1,1)\n",
    "\n",
    "        scalar = preprocessing.StandardScaler()\n",
    "        scalar.fit(feats_real)\n",
    "\n",
    "        feats_real = scalar.transform(feats_real).flatten()\n",
    "\n",
    "        density_real = gaussian_kde(feats_real).evaluate(points_to_eval_kde)\n",
    "\n",
    "        plt.plot(points_to_eval_kde, density_real, label='observed (z-scored)', color = color_real, zorder=1E10)\n",
    "        plt.fill_between(points_to_eval_kde, density_real, alpha = 0.1, color = color_real, zorder=1E10)\n",
    "\n",
    "        if i == 0:\n",
    "            plt.ylabel('relative distribution')\n",
    "\n",
    "        for j, beta_to_plot in enumerate(betas_to_plot):\n",
    "            # ***TODO: Iterate over real, rnd_kld, and rnd_norm\n",
    "            feats_gen = features['gen'][beta_to_plot][sampling]['features'][col].values.reshape(-1,1)\n",
    "\n",
    "            feats_gen = scalar.transform(feats_gen).flatten()\n",
    "            density = gaussian_kde(feats_gen).evaluate(points_to_eval_kde)\n",
    "\n",
    "            plt.plot(points_to_eval_kde, density, label=rf'$ \\beta $ = {beta_to_plot}', color = colors_betas[j])\n",
    "            plt.fill_between(points_to_eval_kde, density, alpha = 0.1, color = colors_betas[j])\n",
    "\n",
    "\n",
    "        plt.yticks([])\n",
    "\n",
    "    #     if i == (len(cols_to_plot) - 1):\n",
    "    #         plt.legend(bbox_to_anchor=(1.05, .95), frameon=False)\n",
    "\n",
    "    #plt.subplot(2, 3, i+2)    \n",
    "    plt.subplot(1, 6, i+2)    \n",
    "\n",
    "    legend_elements = [Line2D([0], [0], color=color_real, lw=4, label='observed (z-scored)')] + [Line2D([0], [0], color=colors_betas[j], lw=4, label=rf'$ \\beta $ = {beta_to_plot}') for j, beta_to_plot in  enumerate(betas_to_plot)]\n",
    "    plt.gca().legend(handles=legend_elements, loc='center', frameon=False)\n",
    "    \n",
    "    plt.gca().text(0.5, 0.9, f'Sampling = {sampling}', fontsize=16, ha='center', va='center')\n",
    "    \n",
    "    plt.axis('off')\n",
    "\n",
    "    plt.tight_layout()\n",
    "\n",
    "    #plt.savefig('{}/features_and_betas.png'.format(results_dir), bbox_inches='tight', dpi=90)\n",
    "    plt.show()\n",
    "\n",
    "plt.close()"
   ]
  }
 ],
 "metadata": {
  "kernelspec": {
   "display_name": "Python 3",
   "language": "python",
   "name": "python3"
  },
  "language_info": {
   "codemirror_mode": {
    "name": "ipython",
    "version": 3
   },
   "file_extension": ".py",
   "mimetype": "text/x-python",
   "name": "python",
   "nbconvert_exporter": "python",
   "pygments_lexer": "ipython3",
   "version": "3.7.9"
  }
 },
 "nbformat": 4,
 "nbformat_minor": 4
}
