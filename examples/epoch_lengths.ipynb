{
 "cells": [
  {
   "cell_type": "code",
   "execution_count": 54,
   "metadata": {},
   "outputs": [
    {
     "name": "stdout",
     "output_type": "stream",
     "text": [
      "Obtaining file:///root/allen/aics/modeling/gregj/projects/pytorch_integrated_cell\n",
      "\u001b[31mmkl-random 1.0.1 requires cython, which is not installed.\u001b[0m\n",
      "\u001b[31mmkl-fft 1.0.0 requires cython, which is not installed.\u001b[0m\n",
      "Installing collected packages: pytorch-integrated-cell\n",
      "  Found existing installation: pytorch-integrated-cell 0.1\n",
      "    Uninstalling pytorch-integrated-cell-0.1:\n",
      "      Successfully uninstalled pytorch-integrated-cell-0.1\n",
      "  Running setup.py develop for pytorch-integrated-cell\n",
      "Successfully installed pytorch-integrated-cell\n"
     ]
    }
   ],
   "source": [
    "!pip install -e .."
   ]
  },
  {
   "cell_type": "markdown",
   "metadata": {},
   "source": [
    "### Given a benchmark directory (as defined by the variable **benchmark_dir**), the model looks at the loggers for the reference structure in each model directory, and reports the average epoch time in a bar graph\n",
    "\n",
    "note: The stats for the current machines are as follows:  \n",
    "**dgx**: 8x 16gb V100s, ssd caching from the isilon  \n",
    "**n70**: 4x 12gb Titan X pascal, isilon  \n",
    "**gjp1**: 3x 12gb Titan X pascal, isilon  \n",
    "**gjp2**: 2x 16gb GP100s pascal (I think), isilon  "
   ]
  },
  {
   "cell_type": "code",
   "execution_count": 53,
   "metadata": {},
   "outputs": [
    {
     "name": "stdout",
     "output_type": "stream",
     "text": [
      "Integrated cell training benchmarks:\n",
      "dgx\n",
      "\tbatch size:\t16\n",
      "\tn gpus:\t\t1\n",
      "n70\n",
      "\tbatch size:\t16\n",
      "\tn gpus:\t\t1\n",
      "gjp1\n",
      "\tbatch size:\t16\n",
      "\tn gpus:\t\t1\n"
     ]
    },
    {
     "data": {
      "image/png": "[encoded data removed]",
      "text/plain": [
       "<Figure size 432x288 with 1 Axes>"
      ]
     },
     "metadata": {},
     "output_type": "display_data"
    }
   ],
   "source": [
    "import integrated_cell.SimpleLogger as SimpleLogger\n",
    "import pickle\n",
    "import os\n",
    "import numpy as np\n",
    "import glob\n",
    "\n",
    "import matplotlib.pyplot as plt\n",
    "\n",
    "%matplotlib inline\n",
    "\n",
    "import warnings\n",
    "warnings.filterwarnings(\"ignore\")\n",
    "\n",
    "benchmark_dir = '/root/results/integrated_cell/benchmarks/*/'\n",
    "\n",
    "model_dirs = glob.glob(benchmark_dir)\n",
    "\n",
    "model_dirs.sort(key=os.path.getmtime, reverse=True)\n",
    "\n",
    "\n",
    "import pdb\n",
    "\n",
    "def get_epoch_time(model_dir):\n",
    "    logger_file = '{0}/logger_tmp.pkl'.format(model_dir)\n",
    "    \n",
    "    if not os.path.exists(logger_file):\n",
    "        print('Could not find logger at ' + logger_file)\n",
    "        return\n",
    "\n",
    "    logger = pickle.load( open( logger_file, \"rb\" ) )\n",
    "\n",
    "    iter_times = logger.log['time']\n",
    "    iter_epoch = logger.log['epoch']\n",
    "    \n",
    "    uepochs = np.unique(iter_epoch)\n",
    "    \n",
    "    epoch_time = np.zeros(len(uepochs))\n",
    "    \n",
    "    for i, epoch in enumerate(uepochs):\n",
    "        epoch_time[i] = np.sum(np.array(iter_times)[iter_epoch == epoch])\n",
    "    \n",
    "    return uepochs, epoch_time\n",
    "    \n",
    "def get_batch_size(model_dir):\n",
    "    opt = pickle.load( open( '{0}/opt.pkl'.format(model_dir), \"rb\" ) )\n",
    "    return opt.batch_size\n",
    "    \n",
    "def get_n_gpus(model_dir):\n",
    "    opt = pickle.load( open( '{0}/opt.pkl'.format(model_dir), \"rb\" ) )\n",
    "    return len(opt.gpu_ids)\n",
    "    \n",
    "avg_epoch_len = list()\n",
    "dir_names = list()\n",
    "batch_sizes = list()\n",
    "n_gpus = list()\n",
    "for i, model_dir in enumerate(model_dirs):\n",
    "    dir_name = os.path.basename(os.path.split(model_dir)[0])\n",
    "    \n",
    "    sub_model_dir = model_dir + os.sep + 'ref_model'\n",
    "    \n",
    "    n_gpus += [get_n_gpus(sub_model_dir)]\n",
    "    batch_sizes += [get_batch_size(sub_model_dir)]\n",
    "    epoch, epoch_time = get_epoch_time(sub_model_dir) \n",
    "    mean_epoch_time = np.mean(epoch_time)/60/60 #in hours\n",
    "    avg_epoch_len += [mean_epoch_time]\n",
    "    dir_names += [dir_name]\n",
    "    \n",
    "    \n",
    "\n",
    "#ghetto printing\n",
    "print('Integrated cell training benchmarks:')    \n",
    "for dir_name, batch_size, n_gpu in zip(dir_names, batch_sizes, n_gpus):\n",
    "    print(dir_name)\n",
    "    print('\\tbatch size:\\t{0}\\n\\tn gpus:\\t\\t{1}'.format(batch_size, n_gpu))\n",
    "    \n",
    "positions = range(0, len(avg_epoch_len))    \n",
    "\n",
    "fig, ax = plt.subplots()\n",
    "plt.bar(positions, np.array(avg_epoch_len))\n",
    "\n",
    "plt.ylabel('epoch length (h)')\n",
    "plt.xticks(positions)\n",
    "ax.set_xticklabels(dir_names)\n",
    "plt.show()\n",
    "#     except:\n",
    "#         print('could not load ' + model_dir)"
   ]
  },
  {
   "cell_type": "code",
   "execution_count": null,
   "metadata": {},
   "outputs": [],
   "source": []
  }
 ],
 "metadata": {
  "kernelspec": {
   "display_name": "Python 3",
   "language": "python",
   "name": "python3"
  },
  "language_info": {
   "codemirror_mode": {
    "name": "ipython",
    "version": 3
   },
   "file_extension": ".py",
   "mimetype": "text/x-python",
   "name": "python",
   "nbconvert_exporter": "python",
   "pygments_lexer": "ipython3",
   "version": "3.6.5"
  }
 },
 "nbformat": 4,
 "nbformat_minor": 2
}
