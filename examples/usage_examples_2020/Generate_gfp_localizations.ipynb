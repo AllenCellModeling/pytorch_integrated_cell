{
 "cells": [
  {
   "cell_type": "markdown",
   "metadata": {},
   "source": [
    "## Generate multiple GFP localization patterns for a given cell"
   ]
  },
  {
   "cell_type": "markdown",
   "metadata": {},
   "source": [
    "## Load libraries"
   ]
  },
  {
   "cell_type": "code",
   "execution_count": 2,
   "metadata": {},
   "outputs": [],
   "source": [
    "import json\n",
    "from pathlib import Path\n",
    "import os\n",
    "\n",
    "from tqdm import tqdm\n",
    "\n",
    "import pandas as pd\n",
    "import numpy as np\n",
    "import torch\n",
    "\n",
    "import matplotlib\n",
    "import matplotlib.pyplot as plt\n",
    "%matplotlib inline\n",
    "\n",
    "import PIL\n",
    "from PIL import Image\n",
    "from PIL import ImageFont\n",
    "from PIL import ImageDraw \n",
    "\n",
    "import integrated_cell\n",
    "from integrated_cell import model_utils, utils\n",
    "from integrated_cell.utils.plots import tensor2im, imshow"
   ]
  },
  {
   "cell_type": "markdown",
   "metadata": {},
   "source": [
    "## Prep"
   ]
  },
  {
   "cell_type": "markdown",
   "metadata": {},
   "source": [
    "### Gpus"
   ]
  },
  {
   "cell_type": "code",
   "execution_count": 3,
   "metadata": {},
   "outputs": [],
   "source": [
    "gpu_ids = [7]\n",
    "os.environ[\"CUDA_VISIBLE_DEVICES\"] = \",\".join([str(ID) for ID in gpu_ids])\n",
    "if len(gpu_ids) == 1:\n",
    "    torch.backends.cudnn.enabled = True\n",
    "    torch.backends.cudnn.benchmark = True\n",
    "\n",
    "torch.cuda.empty_cache()"
   ]
  },
  {
   "cell_type": "markdown",
   "metadata": {},
   "source": [
    "### Load models"
   ]
  },
  {
   "cell_type": "code",
   "execution_count": 4,
   "metadata": {},
   "outputs": [
    {
     "name": "stderr",
     "output_type": "stream",
     "text": [
      "/allen/aics/modeling/rorydm/projects/pytorch_integrated_cell/integrated_cell/utils/utils.py:75: UserWarning: args file exists and overwrite is not set to True. Using existing args file.\n",
      "  \"args file exists and overwrite is not set to True. Using existing args file.\"\n"
     ]
    },
    {
     "name": "stdout",
     "output_type": "stream",
     "text": [
      "loading from /allen/aics/modeling/gregj/results/integrated_cell/test_cbvae_3D_avg_inten/2019-11-27-22:27:04/ref_model/enc_94544.pth\n",
      "loading from /allen/aics/modeling/gregj/results/integrated_cell/test_cbvae_3D_avg_inten/2019-11-27-22:27:04/ref_model/dec_94544.pth\n",
      "loading from /allen/aics/modeling/gregj/results/integrated_cell/test_cbvae_3D_avg_inten/2019-10-22-15:24:09/ref_model/enc_93300.pth\n",
      "loading from /allen/aics/modeling/gregj/results/integrated_cell/test_cbvae_3D_avg_inten/2019-10-22-15:24:09/ref_model/dec_93300.pth\n"
     ]
    }
   ],
   "source": [
    "model_dir = '/allen/aics/modeling/gregj/results/integrated_cell/test_cbvae_3D_avg_inten/2019-11-27-22:27:04'\n",
    "parent_dir = '/allen/aics/modeling/gregj/results/integrated_cell/'\n",
    "suffix = '_94544'    \n",
    "\n",
    "networks, dp_ref, args_ref = utils.load_network_from_dir(model_dir, parent_dir, suffix=suffix)\n",
    "\n",
    "ref_enc = networks['enc']\n",
    "ref_dec = networks['dec']\n",
    "\n",
    "parent_dir = '/allen/aics/modeling/gregj/results/integrated_cell/'\n",
    "model_dir = \"/allen/aics/modeling/gregj/results/integrated_cell/test_cbvae_3D_avg_inten/2019-10-22-15:24:09/\"\n",
    "suffix = '_93300'\n",
    "\n",
    "networks, dp_target, args_target = utils.load_network_from_dir(model_dir, parent_dir, suffix=suffix)\n",
    "    \n",
    "target_enc = networks['enc']\n",
    "target_dec = networks['dec']"
   ]
  },
  {
   "cell_type": "markdown",
   "metadata": {},
   "source": [
    "### Set results dir"
   ]
  },
  {
   "cell_type": "code",
   "execution_count": 5,
   "metadata": {},
   "outputs": [
    {
     "name": "stdout",
     "output_type": "stream",
     "text": [
      "Results dir: /allen/aics/modeling/rorydm/results/multiscale_structure_similarity/generated_gfp_images/\n"
     ]
    }
   ],
   "source": [
    "RESULTS_DIR = '/allen/aics/modeling/rorydm/results/multiscale_structure_similarity/generated_gfp_images/'\n",
    "if not os.path.exists(RESULTS_DIR):\n",
    "    os.makedirs(RESULTS_DIR)\n",
    "    \n",
    "print(\"Results dir: {}\".format(RESULTS_DIR))\n",
    "\n",
    "save_dir = RESULTS_DIR"
   ]
  },
  {
   "cell_type": "markdown",
   "metadata": {},
   "source": [
    "### Helper function for saving images"
   ]
  },
  {
   "cell_type": "code",
   "execution_count": 6,
   "metadata": {},
   "outputs": [],
   "source": [
    "from aicsimageio.writers import OmeTiffWriter\n",
    "\n",
    "def im_write(im, path):\n",
    "    im = im.cpu().detach().numpy().transpose(3,0,1,2)\n",
    "    \n",
    "    with OmeTiffWriter(path, overwrite_file=True) as writer:\n",
    "        writer.save(im)"
   ]
  },
  {
   "cell_type": "markdown",
   "metadata": {},
   "source": [
    "### Set up the autoencoder"
   ]
  },
  {
   "cell_type": "code",
   "execution_count": 7,
   "metadata": {},
   "outputs": [],
   "source": [
    "from integrated_cell.networks.ref_target_autoencoder import Autoencoder\n",
    "\n",
    "mode = 'test'\n",
    "dp = dp_target\n",
    "u_classes, class_inds = np.unique(dp.get_classes(np.arange(0, dp.get_n_dat(mode)), mode), return_inverse=True)\n",
    "u_class_names = dp.label_names[u_classes]\n",
    "\n",
    "ae = Autoencoder(ref_enc, ref_dec, target_enc, target_dec)\n",
    "ae.train(False)\n",
    "ae = ae.cuda()"
   ]
  },
  {
   "cell_type": "markdown",
   "metadata": {},
   "source": [
    "## main settings"
   ]
  },
  {
   "cell_type": "code",
   "execution_count": 8,
   "metadata": {},
   "outputs": [],
   "source": [
    "N_IMAGES_PER_STRUCTURE = 128\n",
    "\n",
    "STRUCTURES_TO_GEN = [\n",
    "    'Desmosomes',\n",
    "    'Endoplasmic reticulum',\n",
    "    'Golgi',\n",
    "    'Microtubules',\n",
    "    'Mitochondria',\n",
    "    'Nuclear envelope',\n",
    "    'Nucleolus (Dense Fibrillar Component)',\n",
    "    'Nucleolus (Granular Component)',\n",
    "]\n",
    "\n",
    "structure_to_gen_ids = [np.where(u_class_names == structure)[0].item() for structure in STRUCTURES_TO_GEN]\n",
    "structure_to_gen_ids = [torch.tensor([x]) for x in structure_to_gen_ids]"
   ]
  },
  {
   "cell_type": "markdown",
   "metadata": {},
   "source": [
    "### find the images we need"
   ]
  },
  {
   "cell_type": "code",
   "execution_count": 9,
   "metadata": {},
   "outputs": [],
   "source": [
    "# pick this based on pca location or whatever\n",
    "MY_CELL_ID = 10000\n",
    "\n",
    "# grap metadata\n",
    "cell_metadata = dp.csv_data[dp.csv_data.CellId == MY_CELL_ID].drop(columns=[\"level_0\", \"Unnamed: 0\"])\n",
    "\n",
    "# find dp index from ID\n",
    "cell_index = cell_metadata.index.item()\n",
    "\n",
    "# search for which split this id is in\n",
    "for k,v in dp.data.items():\n",
    "    if cell_index in v[\"inds\"]:\n",
    "        split = k\n",
    "\n",
    "# grab the sampled image\n",
    "gfp_img, struct_ind, ref_img = dp.get_sample(train_or_test=split, inds=[cell_index])\n",
    "\n",
    "# make sure struct name matches in dp and csv\n",
    "assert u_class_names[struct_ind] == cell_metadata.Structure.item()\n",
    "\n",
    "# make the one-hot encoding\n",
    "label_onehot = utils.index_to_onehot(struct_ind, len(u_classes)).cuda()\n",
    "\n",
    "# move ref image to gpu\n",
    "ref = ref_img.cuda()"
   ]
  },
  {
   "cell_type": "code",
   "execution_count": 10,
   "metadata": {},
   "outputs": [
    {
     "data": {
      "image/png": "[encoded data removed]",
      "text/plain": [
       "<Figure size 432x288 with 1 Axes>"
      ]
     },
     "metadata": {
      "needs_background": "light"
     },
     "output_type": "display_data"
    }
   ],
   "source": [
    "plt.imshow(tensor2im(ref_img));"
   ]
  },
  {
   "cell_type": "markdown",
   "metadata": {},
   "source": [
    "## loop over structs to generate and save images"
   ]
  },
  {
   "cell_type": "code",
   "execution_count": 11,
   "metadata": {},
   "outputs": [],
   "source": [
    "def chunks(lst, n):\n",
    "    \"\"\"Yield successive n-sized chunks from lst.\"\"\"\n",
    "    for i in range(0, len(lst), n):\n",
    "        yield lst[i:i + n]"
   ]
  },
  {
   "cell_type": "markdown",
   "metadata": {},
   "source": [
    "# TODO: loop over cellid"
   ]
  },
  {
   "cell_type": "code",
   "execution_count": 20,
   "metadata": {},
   "outputs": [
    {
     "name": "stderr",
     "output_type": "stream",
     "text": [
      "100%|██████████| 1024/1024 [12:25<00:00,  1.37it/s]\n"
     ]
    }
   ],
   "source": [
    "BATCH_SIZE=16\n",
    "\n",
    "image_dir = Path(RESULTS_DIR) / \"images\"\n",
    "image_dir.mkdir(parents=True, exist_ok=True)\n",
    "\n",
    "df = pd.DataFrame()\n",
    "\n",
    "with tqdm(total=N_IMAGES_PER_STRUCTURE*len(STRUCTURES_TO_GEN)) as pbar:\n",
    "    for structure, struct_ind in zip(STRUCTURES_TO_GEN, structure_to_gen_ids):\n",
    "\n",
    "        df_tmp = cell_metadata[[\"CellId\"]].copy()\n",
    "        df_tmp[\"GeneratedStructureName\"] = structure\n",
    "        df_tmp[\"GeneratedStructureInstance\"] = -1\n",
    "        df_tmp[\"GeneratedStructuePath\"] = \"\"\n",
    "        df_tmp = pd.concat([df_tmp]*N_IMAGES_PER_STRUCTURE).reset_index(drop=True)\n",
    "\n",
    "        for batch in chunks(range(N_IMAGES_PER_STRUCTURE), BATCH_SIZE):\n",
    "\n",
    "            # one hot structure labels to generate,same for whole batch\n",
    "            labels_gen_batch = utils.index_to_onehot(struct_ind, len(u_classes)).repeat(len(batch),1).cuda()\n",
    "\n",
    "            # repeat reference structure over batch\n",
    "            ref_batch = ref.repeat([len(batch), 1, 1, 1, 1])\n",
    "\n",
    "            # generate our gfp samples\n",
    "            target_gen_batch, _ = ae(target=None, ref=ref_batch, labels=labels_gen_batch)\n",
    "\n",
    "            # save images\n",
    "            for b,im_tensor in zip(batch,target_gen_batch):\n",
    "                struct_safe_name = structure.replace(\" \", \"_\").lower()\n",
    "                img_path = image_dir / f\"generated_gfp_image_struct_{struct_safe_name}_instance_{b}.ome.tiff\"\n",
    "                im_write(im_tensor, img_path)\n",
    "\n",
    "                df_tmp.at[b, \"GeneratedStructureInstance\"] = b\n",
    "                df_tmp.at[b, \"GeneratedStructuePath\"] = img_path\n",
    "                \n",
    "                pbar.update(1)\n",
    "\n",
    "        df = df.append(df_tmp)\n",
    "\n",
    "    # merge df with metadata for cell\n",
    "    df = df.reset_index(drop=True)\n",
    "    df_out = cell_metadata.merge(df)\n",
    "    \n",
    "# save df\n",
    "df_out.to_csv(Path(RESULTS_DIR) / \"generated_structures.csv\")"
   ]
  },
  {
   "cell_type": "code",
   "execution_count": null,
   "metadata": {},
   "outputs": [],
   "source": [
    "from aicsimageio import AICSImage\n",
    "\n",
    "sample_row = df_out.sample()\n",
    "sample_path = sample_row.GeneratedStructuePath.item()\n",
    "sample_stuct = sample_row.GeneratedStructureName.item()\n",
    "sample_instance = sample_row.GeneratedStructureInstance.item()\n",
    "\n",
    "sample_img = AICSImage(sample_path)\n",
    "\n",
    "print(sample_stuct, sample_instance)\n",
    "plt.imshow(tensor2im(torch.tensor(sample_img.data[0])));"
   ]
  },
  {
   "cell_type": "code",
   "execution_count": 16,
   "metadata": {},
   "outputs": [
    {
     "data": {
      "text/plain": [
       "(1024, 82)"
      ]
     },
     "execution_count": 16,
     "metadata": {},
     "output_type": "execute_result"
    }
   ],
   "source": [
    "df_out.shape"
   ]
  },
  {
   "cell_type": "code",
   "execution_count": null,
   "metadata": {},
   "outputs": [],
   "source": []
  }
 ],
 "metadata": {
  "kernelspec": {
   "display_name": "Python [conda env:pytorch_integrated_cell]",
   "language": "python",
   "name": "conda-env-pytorch_integrated_cell-py"
  },
  "language_info": {
   "codemirror_mode": {
    "name": "ipython",
    "version": 3
   },
   "file_extension": ".py",
   "mimetype": "text/x-python",
   "name": "python",
   "nbconvert_exporter": "python",
   "pygments_lexer": "ipython3",
   "version": "3.7.6"
  }
 },
 "nbformat": 4,
 "nbformat_minor": 4
}
