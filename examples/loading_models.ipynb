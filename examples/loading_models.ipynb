{
 "cells": [
  {
   "cell_type": "markdown",
   "metadata": {},
   "source": [
    "## Loading Models Demo\n",
    "\n",
    "This is a demo for how to load and use serialized models from a directory.  \n",
    "\n",
    "Run a model in the `./training_scripts` directory, then use this demo. Here we assume you ran the `ae2D.sh` "
   ]
  },
  {
   "cell_type": "code",
   "execution_count": null,
   "metadata": {},
   "outputs": [],
   "source": [
    "import os\n",
    "from integrated_cell import utils\n",
    "\n",
    "#If you need to, use this to change the GPU with which to load a model\n",
    "gpu_ids = [0]\n",
    "os.environ[\"CUDA_VISIBLE_DEVICES\"] = \",\".join([str(ID) for ID in gpu_ids])\n",
    "\n",
    "#Specify the model directory to use\n",
    "model_dir = \"./training_scripts/ae2D/\"\n",
    "\n",
    "#Load the model. These variables shouldn't change as a function of model type\n",
    "networks, data_provider, args = utils.load_network_from_dir(model_dir)\n",
    "\n",
    "encoder = networks['enc'].cuda()\n",
    "decoder = networks['dec'].cuda()\n",
    "\n",
    "encoder.train(False)\n",
    "decoder.train(False)\n",
    "\n",
    "#If you're not clear on how to use the network, then the best thing to do is to training model and check out how it is used:\n",
    "f\"integrated_cell/models/{args['train_module']}.py\""
   ]
  },
  {
   "cell_type": "code",
   "execution_count": null,
   "metadata": {},
   "outputs": [],
   "source": [
    "from integrated_cell.utils.plots import imshow\n",
    "import integrated_cell.utils as utils\n",
    "import torch \n",
    "import matplotlib\n",
    "%matplotlib inline\n",
    "\n",
    "x, class_labels, ref = data_provider.get_sample('test', [0])\n",
    "\n",
    "x = x.cuda()\n",
    "class_labels = class_labels.cuda().long()\n",
    "class_labels_onehot = utils.index_to_onehot(class_labels, data_provider.get_n_classes())\n",
    "ref = ref.cuda()\n",
    "\n",
    "# Typical autoencoder\n",
    "if args['train_module'] == 'ae':\n",
    "    \n",
    "    # z is the latent representation of the image x\n",
    "    z = encoder(x)\n",
    "    xHat = decoder(z)\n",
    "    \n",
    "elif args['train_module'] == 'bvae':\n",
    "\n",
    "    # z is the latent representation of the image x\n",
    "    z_mu, z_sigma = encoder(x)\n",
    "    \n",
    "    # here we can either the \"average\" by passing z_mu into the decoder or\n",
    "    # we can resample from N(z_mu, z_sigma)\n",
    "    z_sampled = utils.reparameterize(z_mu, z_sigma)\n",
    "    xHat = decoder(z_sampled)\n",
    "    \n",
    "elif args['train_module'] in ['cbvae2_target', 'cbvaegan_target2', 'cbvaegan_target']:\n",
    "    # These are the conditional models: We provide the class labels and reference structures to both the encoder and decoder\n",
    "    # and the model (hopefully) doesn't \n",
    "    \n",
    "    # z is the latent representation of the image x\n",
    "    z_mu, z_sigma = encoder(x, ref, class_labels_onehot)\n",
    "    \n",
    "    # here we can either the \"average\" by passing z_mu into the decoder or\n",
    "    # we can resample from N(z_mu, z_sigma)\n",
    "    z_sampled = utils.reparameterize(z_mu, z_sigma)\n",
    "    \n",
    "    xHat = decoder(z_sampled, ref, class_labels_onehot)\n",
    "    \n",
    "im_out = torch.cat([x, xHat], axis = 3)\n",
    "imshow(im_out)\n"
   ]
  }
 ],
 "metadata": {
  "kernelspec": {
   "display_name": "Python [conda env:pytorch_integrated_cell]",
   "language": "python",
   "name": "conda-env-pytorch_integrated_cell-py"
  },
  "language_info": {
   "codemirror_mode": {
    "name": "ipython",
    "version": 3
   },
   "file_extension": ".py",
   "mimetype": "text/x-python",
   "name": "python",
   "nbconvert_exporter": "python",
   "pygments_lexer": "ipython3",
   "version": "3.6.8"
  }
 },
 "nbformat": 4,
 "nbformat_minor": 4
}
