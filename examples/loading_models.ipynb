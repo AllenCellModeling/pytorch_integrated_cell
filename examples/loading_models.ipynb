{
 "cells": [
  {
   "cell_type": "markdown",
   "metadata": {},
   "source": [
    "## Loading Models Demo\n",
    "\n",
    "This is a demo for how to load and use serialized models from a directory.  \n",
    "\n",
    "Run a model in the `./training_scripts` directory, then use this demo. Here we assume you ran the `ae2D.sh` "
   ]
  },
  {
   "cell_type": "code",
   "execution_count": 1,
   "metadata": {},
   "outputs": [
    {
     "ename": "FileNotFoundError",
     "evalue": "[Errno 2] No such file or directory: './training_scripts/ae2D//args.json'",
     "output_type": "error",
     "traceback": [
      "\u001b[0;31m---------------------------------------------------------------------------\u001b[0m",
      "\u001b[0;31mFileNotFoundError\u001b[0m                         Traceback (most recent call last)",
      "\u001b[0;32m<ipython-input-1-5401b0707fe2>\u001b[0m in \u001b[0;36m<module>\u001b[0;34m\u001b[0m\n\u001b[1;32m     10\u001b[0m \u001b[0;34m\u001b[0m\u001b[0m\n\u001b[1;32m     11\u001b[0m \u001b[0;31m#Load the model. These variables shouldn't change as a function of model type\u001b[0m\u001b[0;34m\u001b[0m\u001b[0;34m\u001b[0m\u001b[0;34m\u001b[0m\u001b[0m\n\u001b[0;32m---> 12\u001b[0;31m \u001b[0mnetworks\u001b[0m\u001b[0;34m,\u001b[0m \u001b[0mdata_provider\u001b[0m\u001b[0;34m,\u001b[0m \u001b[0margs\u001b[0m \u001b[0;34m=\u001b[0m \u001b[0mutils\u001b[0m\u001b[0;34m.\u001b[0m\u001b[0mload_network_from_dir\u001b[0m\u001b[0;34m(\u001b[0m\u001b[0mmodel_dir\u001b[0m\u001b[0;34m)\u001b[0m\u001b[0;34m\u001b[0m\u001b[0;34m\u001b[0m\u001b[0m\n\u001b[0m\u001b[1;32m     13\u001b[0m \u001b[0;34m\u001b[0m\u001b[0m\n\u001b[1;32m     14\u001b[0m \u001b[0mencoder\u001b[0m \u001b[0;34m=\u001b[0m \u001b[0mnetworks\u001b[0m\u001b[0;34m[\u001b[0m\u001b[0;34m'enc'\u001b[0m\u001b[0;34m]\u001b[0m\u001b[0;34m.\u001b[0m\u001b[0mcuda\u001b[0m\u001b[0;34m(\u001b[0m\u001b[0;34m)\u001b[0m\u001b[0;34m\u001b[0m\u001b[0;34m\u001b[0m\u001b[0m\n",
      "\u001b[0;32m/allen/aics/modeling/rorydm/projects/pytorch_integrated_cell/integrated_cell/utils/utils.py\u001b[0m in \u001b[0;36mload_network_from_dir\u001b[0;34m(model_save_dir, parent_dir, net_names, suffix, gpu_ids, load_dataprovider)\u001b[0m\n\u001b[1;32m    245\u001b[0m     \u001b[0margs_file\u001b[0m \u001b[0;34m=\u001b[0m \u001b[0;34m\"{}/args.json\"\u001b[0m\u001b[0;34m.\u001b[0m\u001b[0mformat\u001b[0m\u001b[0;34m(\u001b[0m\u001b[0mmodel_save_dir\u001b[0m\u001b[0;34m)\u001b[0m\u001b[0;34m\u001b[0m\u001b[0;34m\u001b[0m\u001b[0m\n\u001b[1;32m    246\u001b[0m \u001b[0;34m\u001b[0m\u001b[0m\n\u001b[0;32m--> 247\u001b[0;31m     \u001b[0;32mwith\u001b[0m \u001b[0mopen\u001b[0m\u001b[0;34m(\u001b[0m\u001b[0margs_file\u001b[0m\u001b[0;34m,\u001b[0m \u001b[0;34m\"r\"\u001b[0m\u001b[0;34m)\u001b[0m \u001b[0;32mas\u001b[0m \u001b[0mf\u001b[0m\u001b[0;34m:\u001b[0m\u001b[0;34m\u001b[0m\u001b[0;34m\u001b[0m\u001b[0m\n\u001b[0m\u001b[1;32m    248\u001b[0m         \u001b[0margs\u001b[0m \u001b[0;34m=\u001b[0m \u001b[0mjson\u001b[0m\u001b[0;34m.\u001b[0m\u001b[0mload\u001b[0m\u001b[0;34m(\u001b[0m\u001b[0mf\u001b[0m\u001b[0;34m)\u001b[0m\u001b[0;34m\u001b[0m\u001b[0;34m\u001b[0m\u001b[0m\n\u001b[1;32m    249\u001b[0m \u001b[0;34m\u001b[0m\u001b[0m\n",
      "\u001b[0;31mFileNotFoundError\u001b[0m: [Errno 2] No such file or directory: './training_scripts/ae2D//args.json'"
     ]
    }
   ],
   "source": [
    "import os\n",
    "from integrated_cell import utils\n",
    "\n",
    "#If you need to, use this to change the GPU with which to load a model\n",
    "gpu_ids = [0]\n",
    "os.environ[\"CUDA_VISIBLE_DEVICES\"] = \",\".join([str(ID) for ID in gpu_ids])\n",
    "\n",
    "#Specify the model directory to use\n",
    "model_dir = \"./training_scripts/ae2D/\"\n",
    "\n",
    "#Load the model. These variables shouldn't change as a function of model type\n",
    "networks, data_provider, args = utils.load_network_from_dir(model_dir)\n",
    "\n",
    "encoder = networks['enc'].cuda()\n",
    "decoder = networks['dec'].cuda()\n",
    "\n",
    "encoder.train(False)\n",
    "decoder.train(False)\n",
    "\n",
    "#If you're not clear on how to use the network, then the best thing to do is to training model and check out how it is used:\n",
    "f\"integrated_cell/models/{args['train_module']}.py\""
   ]
  },
  {
   "cell_type": "code",
   "execution_count": null,
   "metadata": {},
   "outputs": [],
   "source": [
    "from integrated_cell.utils.plots import imshow\n",
    "import integrated_cell.utils as utils\n",
    "import torch \n",
    "import matplotlib\n",
    "%matplotlib inline\n",
    "\n",
    "x, class_labels, ref = data_provider.get_sample('test', [0])\n",
    "\n",
    "x = x.cuda()\n",
    "class_labels = class_labels.cuda().long()\n",
    "class_labels_onehot = utils.index_to_onehot(class_labels, data_provider.get_n_classes())\n",
    "ref = ref.cuda()\n",
    "\n",
    "# Typical autoencoder\n",
    "if args['train_module'] == 'ae':\n",
    "    \n",
    "    # z is the latent representation of the image x\n",
    "    z = encoder(x)\n",
    "    xHat = decoder(z)\n",
    "\n",
    "# Beta variational autoencoder\n",
    "elif args['train_module'] == 'bvae':\n",
    "\n",
    "    # z is the latent representation of the image x\n",
    "    z_mu, z_sigma = encoder(x)\n",
    "    \n",
    "    # here we can either the \"average\" by passing z_mu into the decoder or\n",
    "    # we can resample from N(z_mu, z_sigma)\n",
    "    z_sampled = utils.reparameterize(z_mu, z_sigma)\n",
    "    xHat = decoder(z_sampled)\n",
    "    \n",
    "# Conditional beta variational autoencoders, sometimes with advarsarial loss\n",
    "elif args['train_module'] in ['cbvae2_target', 'cbvaegan_target2', 'cbvaegan_target']:\n",
    "    # These are the conditional models: We provide the class labels and reference structures to both the encoder and decoder\n",
    "    # and the model (hopefully) doesn't \n",
    "    \n",
    "    # z is the latent representation of the image x\n",
    "    z_mu, z_sigma = encoder(x, ref, class_labels_onehot)\n",
    "    \n",
    "    # here we can either the \"average\" by passing z_mu into the decoder or\n",
    "    # we can resample from N(z_mu, z_sigma)\n",
    "    z_sampled = utils.reparameterize(z_mu, z_sigma)\n",
    "    \n",
    "    xHat = decoder(z_sampled, ref, class_labels_onehot)\n",
    "    \n",
    "im_out = torch.cat([x, xHat], axis = 3)\n",
    "imshow(im_out)\n"
   ]
  },
  {
   "cell_type": "code",
   "execution_count": null,
   "metadata": {},
   "outputs": [],
   "source": [
    "\n"
   ]
  }
 ],
 "metadata": {
  "kernelspec": {
   "display_name": "Python [conda env:pytorch_integrated_cell]",
   "language": "python",
   "name": "conda-env-pytorch_integrated_cell-py"
  },
  "language_info": {
   "codemirror_mode": {
    "name": "ipython",
    "version": 3
   },
   "file_extension": ".py",
   "mimetype": "text/x-python",
   "name": "python",
   "nbconvert_exporter": "python",
   "pygments_lexer": "ipython3",
   "version": "3.7.6"
  }
 },
 "nbformat": 4,
 "nbformat_minor": 4
}
