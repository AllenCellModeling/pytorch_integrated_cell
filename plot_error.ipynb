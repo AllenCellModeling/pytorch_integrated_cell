{
 "cells": [
  {
   "cell_type": "code",
   "execution_count": 540,
   "metadata": {
    "scrolled": false
   },
   "outputs": [
    {
     "name": "stderr",
     "output_type": "stream",
     "text": [
      "ERROR:root:Internal Python error in the inspect module.\n",
      "Below is the traceback from this internal error.\n",
      "\n"
     ]
    },
    {
     "name": "stdout",
     "output_type": "stream",
     "text": [
      "Traceback (most recent call last):\n",
      "  File \"/opt/conda/envs/pytorch-py35/lib/python3.5/site-packages/IPython/core/interactiveshell.py\", line 2847, in run_code\n",
      "    exec(code_obj, self.user_global_ns, self.user_ns)\n",
      "  File \"<ipython-input-540-472731c9bc48>\", line 25, in <module>\n",
      "    logger = pickle.load( open( '{0}/logger_tmp.pkl'.format(model_dir), \"rb\" ) )\n",
      "FileNotFoundError: [Errno 2] No such file or directory: './waaegan//logger_tmp.pkl'\n",
      "\n",
      "During handling of the above exception, another exception occurred:\n",
      "\n",
      "Traceback (most recent call last):\n",
      "  File \"/opt/conda/envs/pytorch-py35/lib/python3.5/site-packages/IPython/core/interactiveshell.py\", line 1795, in showtraceback\n",
      "    stb = value._render_traceback_()\n",
      "AttributeError: 'FileNotFoundError' object has no attribute '_render_traceback_'\n",
      "\n",
      "During handling of the above exception, another exception occurred:\n",
      "\n",
      "Traceback (most recent call last):\n",
      "  File \"/opt/conda/envs/pytorch-py35/lib/python3.5/site-packages/IPython/core/ultratb.py\", line 1092, in get_records\n",
      "    return _fixed_getinnerframes(etb, number_of_lines_of_context, tb_offset)\n",
      "  File \"/opt/conda/envs/pytorch-py35/lib/python3.5/site-packages/IPython/core/ultratb.py\", line 312, in wrapped\n",
      "    return f(*args, **kwargs)\n",
      "  File \"/opt/conda/envs/pytorch-py35/lib/python3.5/site-packages/IPython/core/ultratb.py\", line 347, in _fixed_getinnerframes\n",
      "    records = fix_frame_records_filenames(inspect.getinnerframes(etb, context))\n",
      "  File \"/opt/conda/envs/pytorch-py35/lib/python3.5/inspect.py\", line 1453, in getinnerframes\n",
      "    frameinfo = (tb.tb_frame,) + getframeinfo(tb, context)\n",
      "  File \"/opt/conda/envs/pytorch-py35/lib/python3.5/inspect.py\", line 1410, in getframeinfo\n",
      "    filename = getsourcefile(frame) or getfile(frame)\n",
      "  File \"/opt/conda/envs/pytorch-py35/lib/python3.5/inspect.py\", line 672, in getsourcefile\n",
      "    if getattr(getmodule(object, filename), '__loader__', None) is not None:\n",
      "  File \"/opt/conda/envs/pytorch-py35/lib/python3.5/inspect.py\", line 701, in getmodule\n",
      "    file = getabsfile(object, _filename)\n",
      "  File \"/opt/conda/envs/pytorch-py35/lib/python3.5/inspect.py\", line 685, in getabsfile\n",
      "    return os.path.normcase(os.path.abspath(_filename))\n",
      "  File \"/opt/conda/envs/pytorch-py35/lib/python3.5/posixpath.py\", line 361, in abspath\n",
      "    cwd = os.getcwd()\n",
      "FileNotFoundError: [Errno 2] No such file or directory\n"
     ]
    },
    {
     "ename": "FileNotFoundError",
     "evalue": "[Errno 2] No such file or directory: './waaegan//logger_tmp.pkl'",
     "output_type": "error",
     "traceback": [
      "\u001b[0;31m---------------------------------------------------------------------------\u001b[0m"
     ]
    }
   ],
   "source": [
    "import SimpleLogger as SimpleLogger\n",
    "import torch\n",
    "from IPython.core.display import Image, display\n",
    "import pickle\n",
    "import matplotlib.pyplot as plt\n",
    "import numpy as np\n",
    "\n",
    "\n",
    "\n",
    "from sklearn.neighbors import KernelDensity\n",
    "\n",
    "import sklearn\n",
    "\n",
    "%matplotlib inline\n",
    "\n",
    "model_dir = './waaegan/'\n",
    "# model_dir = './waaegan_1E-4/'\n",
    "# model_dir = './semi_waaegan/'\n",
    "\n",
    "\n",
    "history = 500\n",
    "bw = 25\n",
    "\n",
    "opt = pickle.load( open( '{0}/opt.pkl'.format(model_dir), \"rb\" ) )\n",
    "logger = pickle.load( open( '{0}/logger_tmp.pkl'.format(model_dir), \"rb\" ) )\n",
    "embedding = pickle.load( open('./{0}/embedding_tmp.pkl'.format(model_dir), \"rb\"))\n",
    "\n",
    "print(opt)\n",
    "\n",
    "epoch = max(logger.log['epoch'])\n",
    "\n",
    "print('Epoch: ' + str(epoch))\n",
    "\n",
    "plt.figure(1)\n",
    "plt.plot(logger.log['iter'], logger.log['reconLoss'])\n",
    "plt.plot(logger.log['iter'], logger.log['encDLoss'])\n",
    "plt.plot(logger.log['iter'], logger.log['decDLoss'])\n",
    "plt.plot(logger.log['iter'], logger.log['minimaxDecDLoss'])\n",
    "# plt.ylim([-4, 4]) \n",
    "plt.title('History')\n",
    "plt.xlabel('iteration')\n",
    "\n",
    "\n",
    "x = logger.log['iter'][-history:]\n",
    "y = logger.log['reconLoss'][-history:]\n",
    "\n",
    "f = np.ones(bw)/bw\n",
    "yhat = np.correlate(y-np.mean(y), f, mode='same').tolist() + np.mean(y)\n",
    "\n",
    "plt.figure(2)\n",
    "plt.plot(x, y)\n",
    "plt.plot(x, yhat)\n",
    "\n",
    "plt.title('Short history')\n",
    "plt.xlabel('iteration')\n",
    "plt.ylabel('loss')\n",
    "\n",
    "\n",
    "plt.figure(3)\n",
    "plt.scatter(embedding[:,0], embedding[:,1])\n",
    "plt.xlim([-4, 4]) \n",
    "plt.ylim([-4, 4])     \n",
    "plt.axis('equal')\n",
    "plt.xlabel('z1')\n",
    "plt.ylabel('z2')\n",
    "plt.title('latent space embedding')\n",
    "plt.savefig('./{0}/embedding_{1}.png'.format(opt.save_dir, epoch), dpi=75)\n",
    "\n",
    "\n",
    "im_progress_path = '{0}/progress_{1}.png'.format(model_dir, epoch)\n",
    "display(Image(im_progress_path, unconfined=True))\n",
    "\n"
   ]
  },
  {
   "cell_type": "code",
   "execution_count": null,
   "metadata": {
    "collapsed": true,
    "scrolled": true
   },
   "outputs": [],
   "source": []
  }
 ],
 "metadata": {
  "kernelspec": {
   "display_name": "Python 3",
   "language": "python",
   "name": "python3"
  },
  "language_info": {
   "codemirror_mode": {
    "name": "ipython",
    "version": 3
   },
   "file_extension": ".py",
   "mimetype": "text/x-python",
   "name": "python",
   "nbconvert_exporter": "python",
   "pygments_lexer": "ipython3",
   "version": "3.5.2"
  }
 },
 "nbformat": 4,
 "nbformat_minor": 2
}
