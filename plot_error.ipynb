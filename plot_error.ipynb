{
 "cells": [
  {
   "cell_type": "code",
   "execution_count": 13,
   "metadata": {},
   "outputs": [
    {
     "name": "stdout",
     "output_type": "stream",
     "text": [
      "Namespace(Diters=5, DitersAlt=5, batch_size=64, clamp_lower=-0.01, clamp_upper=0.01, encDRatio=1, gpu_id=0, imsize=64, lrDec=0.005, lrEnc=0.005, lrEncD=1e-05, myseed=0, nepochs=250, nlatentdim=32, saveProgressIter=1, saveStateIter=5, save_dir='./waae/')\n",
      "<SimpleLogger.SimpleLogger object at 0x7fdc74556f28>\n"
     ]
    },
    {
     "data": {
      "image/png": "[encoded data removed]",
      "text/plain": [
       "<matplotlib.figure.Figure at 0x7fdc745b1780>"
      ]
     },
     "metadata": {},
     "output_type": "display_data"
    }
   ],
   "source": [
    "import SimpleLogger as SimpleLogger\n",
    "import torch\n",
    "from PIL import Image\n",
    "import pickle\n",
    "import matplotlib.pyplot as plt\n",
    "%matplotlib inline\n",
    "\n",
    "model_dir = './waae/'\n",
    "\n",
    "opt = pickle.load( open( '{0}/opt.pkl'.format(model_dir), \"rb\" ) )\n",
    "print(opt)\n",
    "\n",
    "logger = pickle.load( open( '{0}/logger.pkl'.format(model_dir), \"rb\" ) )\n",
    "print(logger)\n",
    "logger.log\n",
    "\n",
    "plt.gca().cla() \n",
    "plt.plot(logger.log['iter'], logger.log['reconLoss'])\n",
    "plt.plot(logger.log['iter'], logger.log['advLoss'])\n",
    "plt.plot(logger.log['iter'], logger.log['minimaxLoss'])\n",
    "\n",
    "epoch = max(logger.log['epoch'])\n",
    "# plt.xlim([-4, 4]) \n",
    "# plt.ylim([-4, 4])     \n",
    "# plt.axis('equal')\n",
    "# plt.xlabel('z_1')\n",
    "# plt.ylabel('z_2')\n",
    "# display.clear_output(wait=True)\n",
    "# display.display(plt.gcf()) \n",
    "# img = Image.open(image_path)"
   ]
  },
  {
   "cell_type": "code",
   "execution_count": 9,
   "metadata": {},
   "outputs": [
    {
     "data": {
      "text/plain": [
       "('epoch', 'iter', 'reconLoss', 'minimaxLoss', 'advLoss', 'time')"
      ]
     },
     "execution_count": 9,
     "metadata": {},
     "output_type": "execute_result"
    }
   ],
   "source": [
    "logger.fields\n"
   ]
  },
  {
   "cell_type": "code",
   "execution_count": null,
   "metadata": {
    "collapsed": true
   },
   "outputs": [],
   "source": []
  }
 ],
 "metadata": {
  "kernelspec": {
   "display_name": "Python 3",
   "language": "python",
   "name": "python3"
  },
  "language_info": {
   "codemirror_mode": {
    "name": "ipython",
    "version": 3
   },
   "file_extension": ".py",
   "mimetype": "text/x-python",
   "name": "python",
   "nbconvert_exporter": "python",
   "pygments_lexer": "ipython3",
   "version": "3.5.2"
  }
 },
 "nbformat": 4,
 "nbformat_minor": 2
}
