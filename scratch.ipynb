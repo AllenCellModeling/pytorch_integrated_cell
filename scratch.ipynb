{
 "cells": [
  {
   "cell_type": "code",
   "execution_count": 9,
   "metadata": {
    "collapsed": true
   },
   "outputs": [],
   "source": [
    "import data_providers.DataProvider3Dtiff_h5 as DP\n",
    "import numpy as np"
   ]
  },
  {
   "cell_type": "code",
   "execution_count": 2,
   "metadata": {},
   "outputs": [
    {
     "name": "stdout",
     "output_type": "stream",
     "text": [
      "reading from columns: ['save_memb_reg_path', 'save_struct_reg_path', 'save_dna_reg_path']\n",
      "reading csv manifest\n"
     ]
    },
    {
     "name": "stderr",
     "output_type": "stream",
     "text": [
      "/opt/conda/envs/pytorch-py35/lib/python3.5/site-packages/scipy/ndimage/interpolation.py:568: UserWarning: From scipy 0.13.0, the output shape of zoom() is calculated with round() instead of int() - for these inputs the size of the returned array has changed.\n",
      "  \"the returned array has changed.\", UserWarning)\n",
      "/opt/conda/envs/pytorch-py35/lib/python3.5/site-packages/scipy/ndimage/interpolation.py:571: RuntimeWarning: invalid value encountered in true_divide\n",
      "  zoom = (numpy.array(input.shape) - 1) / zoom_div\n",
      "/opt/conda/envs/pytorch-py35/lib/python3.5/site-packages/tifffile/tifffile.py:2642: RuntimeWarning: py_decodelzw encountered unexpected end of stream\n",
      "  strip = decompress(strip)\n"
     ]
    },
    {
     "name": "stdout",
     "output_type": "stream",
     "text": [
      "(3, 128, 96, 64)\n"
     ]
    }
   ],
   "source": [
    "opts = {'check_files': False, 'resize': 0.795, 'pad_to': (128, 96, 64)}\n",
    "dataProvider = DP.DataProvider('/root/results/ipp_dataset_cellnuc_seg_curated_7_6_17_dilz11', opts=opts)\n",
    "print(dataProvider.imsize)"
   ]
  },
  {
   "cell_type": "code",
   "execution_count": 8,
   "metadata": {},
   "outputs": [
    {
     "name": "stderr",
     "output_type": "stream",
     "text": [
      "/opt/conda/envs/pytorch-py35/lib/python3.5/site-packages/scipy/ndimage/interpolation.py:568: UserWarning: From scipy 0.13.0, the output shape of zoom() is calculated with round() instead of int() - for these inputs the size of the returned array has changed.\n",
      "  \"the returned array has changed.\", UserWarning)\n",
      "/opt/conda/envs/pytorch-py35/lib/python3.5/site-packages/scipy/ndimage/interpolation.py:571: RuntimeWarning: invalid value encountered in true_divide\n",
      "  zoom = (numpy.array(input.shape) - 1) / zoom_div\n"
     ]
    },
    {
     "data": {
      "text/plain": [
       "array([   0.,    1.,    2.,    3.,    4.,    5.,    6.,    7.,    8.,\n",
       "          9.,   10.,   11.,   12.,   13.,   14.,   15.,   16.,   17.,\n",
       "         18.,   19.,   20.,   21.,   22.,   23.,   24.,   25.,   26.,\n",
       "         27.,   28.,   29.,   30.,   31.,   32.,   33.,   34.,   35.,\n",
       "         36.,   37.,   38.,   39.,   40.,   41.,   42.,   43.,   44.,\n",
       "         45.,   46.,   47.,   48.,   49.,   50.,   51.,   52.,   53.,\n",
       "         54.,   55.,   56.,   57.,   58.,   59.,   60.,   61.,   62.,\n",
       "         63.,   64.,   65.,   66.,   67.,   68.,   69.,   70.,   71.,\n",
       "         72.,   73.,   74.,   75.,   76.,   77.,   78.,   79.,   80.,\n",
       "         81.,   82.,   83.,   84.,   85.,   86.,   87.,   88.,   89.,\n",
       "         90.,   91.,   92.,   93.,   94.,   95.,   96.,   97.,   98.,\n",
       "         99.,  100.,  101.,  102.,  103.,  104.,  105.,  106.,  107.,\n",
       "        108.,  109.,  110.,  111.,  112.,  113.,  114.,  115.,  116.,\n",
       "        117.,  118.,  119.,  120.,  121.,  122.,  123.,  124.,  125.,\n",
       "        126.,  127.,  128.,  129.,  130.,  131.,  132.,  133.,  134.,\n",
       "        135.,  136.,  137.,  138.,  139.,  140.,  141.,  142.,  143.,\n",
       "        144.,  145.,  146.,  147.,  148.,  149.,  150.,  151.,  152.,\n",
       "        153.,  154.,  155.,  156.,  157.,  158.,  159.,  160.,  161.,\n",
       "        162.,  163.,  164.,  165.,  166.,  167.,  168.,  169.,  170.,\n",
       "        171.,  172.,  173.,  174.,  175.,  176.,  177.,  178.,  179.,\n",
       "        180.,  181.,  182.,  183.,  184.,  185.,  186.,  187.,  188.,\n",
       "        189.,  190.,  192.,  193.,  194.,  195.,  199.,  200.,  204.,\n",
       "        206.,  209.,  210.,  213.,  215.,  217.,  218.], dtype=float32)"
      ]
     },
     "execution_count": 8,
     "metadata": {},
     "output_type": "execute_result"
    }
   ],
   "source": [
    "imgs = dataProvider.get_images([1,1], 'train')\n",
    "\n",
    "np.unique(imgs.numpy())"
   ]
  },
  {
   "cell_type": "code",
   "execution_count": 13,
   "metadata": {
    "collapsed": true
   },
   "outputs": [],
   "source": [
    "import h5py\n",
    "import numpy as np\n",
    "\n",
    "h5_path = 'test.h5'\n",
    "\n",
    "f = h5py.File(h5_path,'r')\n",
    "\n",
    "# chInds = self.channel_lookup_table[np.asarray(self.opts['channelInds'])]\n",
    "\n",
    "image = list()\n",
    "for chInd in range(0,10):\n",
    "    im_channel = f['image'].value[0][chInd]\n",
    "    im_channel = np.expand_dims(im_channel, axis=0)\n",
    "    image.append(im_channel)\n",
    "\n",
    "image = np.concatenate(image,0)\n",
    "\n",
    "# return image"
   ]
  },
  {
   "cell_type": "code",
   "execution_count": 54,
   "metadata": {},
   "outputs": [
    {
     "data": {
      "text/plain": [
       "6020"
      ]
     },
     "execution_count": 54,
     "metadata": {},
     "output_type": "execute_result"
    }
   ],
   "source": [
    "import torch\n",
    "import torch.optim as optim\n",
    "import torch.nn as nn\n",
    "from torch.autograd import Variable\n",
    "import numpy as np\n",
    "import pdb\n",
    "\n",
    "torch.backends.cudnn.version()\n"
   ]
  },
  {
   "cell_type": "code",
   "execution_count": 51,
   "metadata": {
    "collapsed": true
   },
   "outputs": [],
   "source": [
    "v1 = Variable(torch.FloatTensor(1,10,10).normal_())\n",
    "# v2 = Variable(torch.FloatTensor(torch.sum(v1>1).data[0], 1))\n",
    "\n",
    "# tensor2.masked_scatter_(tensor.data[0]>1, tensor)"
   ]
  },
  {
   "cell_type": "code",
   "execution_count": 53,
   "metadata": {},
   "outputs": [
    {
     "name": "stdout",
     "output_type": "stream",
     "text": [
      "Variable containing:\n",
      "(0 ,.,.) = \n",
      "\n",
      "Columns 0 to 8 \n",
      "  -0.4519 -0.2193  0.7776  0.3571 -1.7822  0.3235 -0.3243 -0.8375  0.4389\n",
      " -0.9904 -0.8127 -0.2498  0.2620  0.9496 -0.0849  2.1828 -1.1330  0.9263\n",
      "  0.9568 -0.0986 -0.1486 -2.0726  0.7942 -0.1179  1.3875  1.8325 -0.3544\n",
      " -0.3601 -1.8619 -0.9606 -1.6666 -2.4027  0.0882  2.2765 -2.2204 -0.4166\n",
      " -1.8412 -1.6967  0.7974  0.2993  1.5759 -0.2872 -0.3412 -0.6637 -0.7983\n",
      "  2.0517  1.0968  0.7611  1.6421 -0.4695 -0.4897  1.0547 -2.0824  0.4936\n",
      "  0.1861  0.2357 -2.5491 -0.0039 -0.0121 -0.4098  0.3020  0.2403 -0.3128\n",
      "  2.1760 -0.7421  0.4800  0.8876 -0.1735  1.6019 -0.2469 -0.5427  1.3249\n",
      " -0.3050  0.7338  1.4486  0.6070  1.6578 -0.4217 -1.1347 -0.2478  0.3480\n",
      " -0.5995  0.7405 -1.0017  0.0369 -2.4051 -0.3442 -0.3184 -0.1117  0.6781\n",
      "\n",
      "Columns 9 to 9 \n",
      "  -0.7908\n",
      " -1.1660\n",
      "  0.9384\n",
      "  1.0338\n",
      " -0.4406\n",
      "  0.8937\n",
      " -2.1106\n",
      " -0.8112\n",
      "  0.8099\n",
      " -0.6860\n",
      "[torch.FloatTensor of size 1x10x10]\n",
      "\n",
      "Variable containing:\n",
      " 2.1828\n",
      " 1.3875\n",
      " 1.8325\n",
      " 2.2765\n",
      " 1.0338\n",
      " 1.5759\n",
      " 2.0517\n",
      " 1.0968\n",
      " 1.6421\n",
      " 1.0547\n",
      " 2.1760\n",
      " 1.6019\n",
      " 1.3249\n",
      " 1.4486\n",
      " 1.6578\n",
      "[torch.FloatTensor of size 15]\n",
      "\n"
     ]
    }
   ],
   "source": [
    "v1 = Variable(torch.FloatTensor(1,10,10).normal_())\n",
    "v2 = v1.masked_select(v1>1)\n",
    "print(v1)\n",
    "print(v2)"
   ]
  },
  {
   "cell_type": "code",
   "execution_count": 60,
   "metadata": {
    "collapsed": true
   },
   "outputs": [],
   "source": [
    "import pandas as pd\n",
    "import json\n",
    "import sys\n",
    "import os\n",
    "import numpy as np\n",
    "import h5py\n",
    "\n",
    "from aicsimage.io import tifReader\n",
    "import aicsimage.processing as proc\n",
    "\n",
    "import time"
   ]
  },
  {
   "cell_type": "code",
   "execution_count": 80,
   "metadata": {},
   "outputs": [
    {
     "name": "stdout",
     "output_type": "stream",
     "text": [
      "creating: 0.18555355072021484\n",
      "reading: 0.01224827766418457\n",
      "reading again: 0.0007421970367431641\n",
      "reading after closing: 0.002825021743774414\n"
     ]
    }
   ],
   "source": [
    "test_dir = './h5_test/'\n",
    "\n",
    "if not os.path.exists(test_dir):\n",
    "    os.mkdir(test_dir)\n",
    "\n",
    "t = 0    \n",
    "h5_path = test_dir + 't' + str(t) + '.h5'\n",
    "\n",
    "if os.path.exists(h5_path):\n",
    "    os.remove(h5_path)\n",
    "    \n",
    "rand = np.random.rand(5, 128, 96, 64)\n",
    "\n",
    "start = time.time()\n",
    "\n",
    "h5f = h5py.File(h5_path, 'w')\n",
    "h5f.create_dataset('image', data=rand)\n",
    "h5f.close()\n",
    "\n",
    "print('creating: ' + str(time.time() - start))\n",
    "start = time.time()\n",
    "\n",
    "f = h5py.File(h5_path,'r')\n",
    "rand_out = f['image']\n",
    "print('reading: ' + str(time.time() - start))\n",
    "start = time.time()\n",
    "\n",
    "f = h5py.File(h5_path,'r')\n",
    "rand_out = f['image']\n",
    "\n",
    "print('reading again: ' + str(time.time() - start))\n",
    "f.close()\n",
    "\n",
    "start = time.time()\n",
    "f = h5py.File(h5_path,'r')\n",
    "rand_out = f['image']\n",
    "print('reading after closing: ' + str(time.time() - start))\n",
    "\n"
   ]
  },
  {
   "cell_type": "code",
   "execution_count": 81,
   "metadata": {},
   "outputs": [
    {
     "data": {
      "text/plain": [
       "(5, 128, 96, 64)"
      ]
     },
     "execution_count": 81,
     "metadata": {},
     "output_type": "execute_result"
    }
   ],
   "source": [
    "rand_out.shape"
   ]
  },
  {
   "cell_type": "code",
   "execution_count": null,
   "metadata": {
    "collapsed": true
   },
   "outputs": [],
   "source": []
  }
 ],
 "metadata": {
  "kernelspec": {
   "display_name": "Python 3",
   "language": "python",
   "name": "python3"
  },
  "language_info": {
   "codemirror_mode": {
    "name": "ipython",
    "version": 3
   },
   "file_extension": ".py",
   "mimetype": "text/x-python",
   "name": "python",
   "nbconvert_exporter": "python",
   "pygments_lexer": "ipython3",
   "version": "3.5.2"
  }
 },
 "nbformat": 4,
 "nbformat_minor": 2
}
