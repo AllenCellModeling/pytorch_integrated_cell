{
 "cells": [
  {
   "cell_type": "code",
   "execution_count": 3,
   "metadata": {},
   "outputs": [],
   "source": [
    "import pandas as pd\n",
    "import matplotlib as mpl\n",
    "import os\n",
    "import pickle\n",
    "import numpy as np\n",
    "from matplotlib import pyplot as plt\n",
    "\n",
    "# parent_dir = './test_aaegan/aaegan3Dv8_v2/'\n",
    "parent_dir = './test_aaegan/aaegan3Dv6_128D_latent_v4/'\n",
    "analysis_dir = parent_dir + os.sep + 'analysis'\n",
    "\n",
    "data_var_dir = analysis_dir + os.sep + 'data_variation'\n",
    "\n",
    "# \n",
    "\n",
    "\n"
   ]
  },
  {
   "cell_type": "code",
   "execution_count": 4,
   "metadata": {},
   "outputs": [],
   "source": [
    "data_var_dir = analysis_dir + os.sep + 'data_variation'\n",
    "data_var_info = pd.read_csv(data_var_dir + os.sep + 'info.csv')\n",
    "\n",
    "plt.figure(figsize=(6,6))\n",
    "\n",
    "[ulabels, label_inds] = np.unique(data_var_info.label_name, return_inverse=True)\n",
    "\n",
    "colormap = 'hsv'\n",
    "colors = plt.get_cmap(colormap)(np.linspace(0, 1, len(ulabels)+1))*0.8\n",
    "\n",
    "\n",
    "bins = np.arange(0, 1, 0.005)\n",
    "\n",
    "for row in data_var_info.iterrows():\n",
    "    with open(row[1]['save_path'], 'rb') as file:\n",
    "        data = pickle.load(file)\n",
    "        triu_vals = data['corr_mat_struct'][np.triu_indices(data['corr_mat_struct'].shape[0])]\n",
    "        \n",
    "        plt.hist(triu_vals, bins=bins, normed=True, alpha = 0.5, label=data['label_name'], color=colors[label_inds[row[0]]])\n",
    "\n",
    "        \n",
    "plt.xlabel('correlation')\n",
    "plt.legend(bbox_to_anchor=(1.05, 1), loc=2, borderaxespad=0.)\n",
    "plt.savefig('{0}/distr.png'.format(data_var_dir), bbox_inches='tight')\n",
    "plt.close('all')    \n",
    "    "
   ]
  },
  {
   "cell_type": "code",
   "execution_count": 5,
   "metadata": {},
   "outputs": [
    {
     "data": {
      "text/plain": [
       "{'corr_mat_ref': array([[ 0.99999988,  0.62008184,  0.5834347 , ...,  0.51447457,\n",
       "          0.39256597,  0.38306633],\n",
       "        [ 0.62008184,  1.        ,  0.57505101, ...,  0.52254516,\n",
       "          0.45139369,  0.36919403],\n",
       "        [ 0.58343476,  0.57505101,  0.99999994, ...,  0.45246291,\n",
       "          0.36803612,  0.37328279],\n",
       "        ..., \n",
       "        [ 0.51447463,  0.52254516,  0.45246288, ...,  1.        ,\n",
       "          0.36819017,  0.29296032],\n",
       "        [ 0.39256591,  0.45139393,  0.36803591, ...,  0.36819032,\n",
       "          0.99999994,  0.45272025],\n",
       "        [ 0.38306645,  0.36919406,  0.37328258, ...,  0.29296032,\n",
       "          0.45272022,  1.        ]], dtype=float32),\n",
       " 'corr_mat_struct': array([[ 0.99999988,  0.0971663 ,  0.04995633, ...,  0.04161647,\n",
       "          0.1027188 ,  0.07897014],\n",
       "        [ 0.0971663 ,  1.        ,  0.0372602 , ...,  0.03656708,\n",
       "          0.1365051 ,  0.04908386],\n",
       "        [ 0.04995633,  0.0372602 ,  1.        , ...,  0.0389724 ,\n",
       "          0.055221  ,  0.11365388],\n",
       "        ..., \n",
       "        [ 0.04161647,  0.03656708,  0.0389724 , ...,  1.        ,\n",
       "          0.0278914 ,  0.02490106],\n",
       "        [ 0.10271884,  0.13650514,  0.05522098, ...,  0.0278914 ,\n",
       "          1.        ,  0.1616673 ],\n",
       "        [ 0.0789702 ,  0.04908388,  0.11365391, ...,  0.02490107,\n",
       "          0.16166732,  1.        ]], dtype=float32),\n",
       " 'label': 9,\n",
       " 'label_name': 'ZO1',\n",
       " 'log_det_ref': -237.62717,\n",
       " 'log_det_scaled_ref': -1.015500712598491,\n",
       " 'log_det_scaled_struct': -0.15529167957794973,\n",
       " 'log_det_struct': -36.338253}"
      ]
     },
     "execution_count": 5,
     "metadata": {},
     "output_type": "execute_result"
    }
   ],
   "source": [
    "data"
   ]
  },
  {
   "cell_type": "code",
   "execution_count": 6,
   "metadata": {},
   "outputs": [],
   "source": [
    "data_var_dir = analysis_dir + os.sep + 'model_structure_variation'\n",
    "data_var_info = pd.read_csv(data_var_dir + os.sep + 'info.csv')\n",
    "\n",
    "plt.figure(figsize=(6,6))\n",
    "\n",
    "[ulabels, label_inds] = np.unique(data_var_info.label_name, return_inverse=True)\n",
    "\n",
    "colormap = 'hsv'\n",
    "colors = plt.get_cmap(colormap)(np.linspace(0, 1, len(ulabels)+1))*0.8\n",
    "\n",
    "train_test_dict = {'train': 1, 'test': 2}\n",
    "\n",
    "bins = np.arange(0, 1, 0.005)\n",
    "\n",
    "for row in data_var_info.iterrows():\n",
    "    with open(row[1]['save_path'], 'rb') as file:\n",
    "        data = pickle.load(file)\n",
    "        triu_vals = data['corr_mat'][np.triu_indices(data['corr_mat'].shape[0])]\n",
    "        \n",
    "        plt.subplot(2, 1, train_test_dict[data['train_or_test']])\n",
    "        \n",
    "        plt.hist(triu_vals, bins=bins, normed=True, alpha = 0.5, label=data['label_name'], color=colors[label_inds[row[0]]])\n",
    "\n",
    "plt.xlabel('correlation')\n",
    "plt.legend(bbox_to_anchor=(1.05, 1), loc=2, borderaxespad=0.)\n",
    "plt.savefig('{0}/distr.png'.format(data_var_dir), bbox_inches='tight')\n",
    "plt.close('all')    \n",
    "    "
   ]
  },
  {
   "cell_type": "code",
   "execution_count": 35,
   "metadata": {},
   "outputs": [
    {
     "data": {
      "text/plain": [
       "0"
      ]
     },
     "execution_count": 35,
     "metadata": {},
     "output_type": "execute_result"
    }
   ],
   "source": [
    "train_test_dict[data['train_or_test']]"
   ]
  },
  {
   "cell_type": "code",
   "execution_count": null,
   "metadata": {},
   "outputs": [],
   "source": [
    "np.triu_indices(data['corr_mat'].shape[0])"
   ]
  },
  {
   "cell_type": "code",
   "execution_count": 27,
   "metadata": {},
   "outputs": [
    {
     "data": {
      "text/plain": [
       "(array(['Alpha actinin', 'Alpha tubulin', 'Beta actin', 'Desmoplakin',\n",
       "        'Fibrillarin', 'Lamin B1', 'Myosin IIB', 'Sec61 beta', 'Tom20',\n",
       "        'ZO1'], dtype=object),\n",
       " array([0, 0, 1, 1, 2, 2, 3, 3, 4, 4, 5, 5, 6, 6, 7, 7, 8, 8, 9, 9]))"
      ]
     },
     "execution_count": 27,
     "metadata": {},
     "output_type": "execute_result"
    }
   ],
   "source": []
  },
  {
   "cell_type": "code",
   "execution_count": 31,
   "metadata": {},
   "outputs": [
    {
     "data": {
      "text/plain": [
       "{'corr_mat': array([[ 0.99999988,  0.36138827,  0.42803282, ...,  0.27460936,\n",
       "          0.39248306,  0.47791478],\n",
       "        [ 0.36138827,  1.        ,  0.60028982, ...,  0.08702279,\n",
       "          0.55434799,  0.49816763],\n",
       "        [ 0.42803282,  0.60028982,  1.        , ...,  0.43977699,\n",
       "          0.71453905,  0.53500599],\n",
       "        ..., \n",
       "        [ 0.27460936,  0.08702279,  0.43977699, ...,  1.        ,\n",
       "          0.44894329,  0.33646578],\n",
       "        [ 0.39248306,  0.55434799,  0.71453899, ...,  0.44894329,\n",
       "          0.99999994,  0.67166412],\n",
       "        [ 0.47791478,  0.4981676 ,  0.53500599, ...,  0.33646578,\n",
       "          0.67166412,  1.        ]], dtype=float32),\n",
       " 'label_id': 9,\n",
       " 'label_name': 'ZO1',\n",
       " 'log_det': -355.9183,\n",
       " 'log_det_scaled': -1.640176518172163,\n",
       " 'train_or_test': 'train'}"
      ]
     },
     "execution_count": 31,
     "metadata": {},
     "output_type": "execute_result"
    }
   ],
   "source": [
    "data"
   ]
  },
  {
   "cell_type": "code",
   "execution_count": null,
   "metadata": {},
   "outputs": [],
   "source": []
  }
 ],
 "metadata": {
  "kernelspec": {
   "display_name": "Python 3",
   "language": "python",
   "name": "python3"
  },
  "language_info": {
   "codemirror_mode": {
    "name": "ipython",
    "version": 3
   },
   "file_extension": ".py",
   "mimetype": "text/x-python",
   "name": "python",
   "nbconvert_exporter": "python",
   "pygments_lexer": "ipython3",
   "version": "3.6.2"
  }
 },
 "nbformat": 4,
 "nbformat_minor": 2
}
