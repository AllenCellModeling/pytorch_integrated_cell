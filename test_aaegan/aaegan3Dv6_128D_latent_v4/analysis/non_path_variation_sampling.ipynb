{
 "cells": [
  {
   "cell_type": "markdown",
   "metadata": {},
   "source": [
    "# toy 2D → 3D problem"
   ]
  },
  {
   "cell_type": "code",
   "execution_count": 1,
   "metadata": {
    "collapsed": true
   },
   "outputs": [],
   "source": [
    "import numpy as np\n",
    "import numba"
   ]
  },
  {
   "cell_type": "markdown",
   "metadata": {},
   "source": [
    "### exact solution"
   ]
  },
  {
   "cell_type": "markdown",
   "metadata": {},
   "source": [
    "Our map is a simple one, from 2D $\\boldsymbol{z}$ space to 3D $\\boldsymbol{x}$ space.  We endow the 2D latent space with a gaussian density, i.e\n",
    "\\begin{align}\n",
    "\\rho(\\boldsymbol{z}) &= \\frac{1}{2\\pi} e^{-\\tfrac{1}{2} |\\boldsymbol{z}|^2 }\n",
    "\\end{align}\n",
    "As a toy map, take\n",
    "\\begin{align}\n",
    "\\boldsymbol{z} &= (z_1, z_2) \\\\\n",
    "\\boldsymbol{x}(\\boldsymbol{z}) &= \\tfrac{1}{\\sqrt[4]{2}} \\left(\\tfrac{1}{\\sqrt{2}}z_1^2, \\tfrac{1}{\\sqrt{2}}z_2^2, z_1 z_2 \\right)\n",
    "\\end{align}\n",
    "The Jacobian of this transformation is\n",
    "\\begin{align}\n",
    "J(\\boldsymbol{x}) &= \\frac{d \\boldsymbol{x}}{d \\boldsymbol{z}} \\\\\n",
    "                  &= \\sqrt[4]{2} \\pmatrix{          z_1          &             0       \\cr\n",
    "                                                     0           &            z_2      \\cr\n",
    "                                          \\tfrac{1}{\\sqrt{2}}z_2 & \\tfrac{1}{\\sqrt{2}}z_1 }\n",
    "\\end{align}\n",
    "A scalar measure Jacobian we can use is $D(\\boldsymbol{z}) = \\sqrt{ \\det{ \\left( J(\\boldsymbol{z})^T J(\\boldsymbol{z}) \\right)} }$ (see https://en.wikipedia.org/w/index.php?title=Determinant).\n",
    "\n",
    "\\begin{align}\n",
    "J(\\boldsymbol{x})^T J(\\boldsymbol{x}) &= \\sqrt{2}\n",
    "                                         \\pmatrix{z_1 &  0  & \\tfrac{1}{\\sqrt{2}}z_2 \\cr\n",
    "                                                   0  & z_2 & \\tfrac{1}{\\sqrt{2}}z_1}\n",
    "                                         \\pmatrix{z_1 &  0  \\cr 0  & z_2 \\cr\n",
    "                                                  \\tfrac{1}{\\sqrt{2}}z_2 & \\tfrac{1}{\\sqrt{2}}z_1} \\\\\n",
    "                                      &= \\pmatrix{\\sqrt{2}z_1^2 + \\tfrac{1}{\\sqrt{2}}z_2^2 & \\tfrac{1}{\\sqrt{2}} z_1 z_2 \\cr\n",
    "                                                     \\tfrac{1}{\\sqrt{2}} z_1 z_2   & \\tfrac{1}{\\sqrt{2}}z_1^2 + \\sqrt{2} z_2^2 }\n",
    "\\end{align}\n",
    "Taking the determinant we get\n",
    "\\begin{align}\n",
    "\\det{ \\left( J(\\boldsymbol{z})^T J(\\boldsymbol{z}) \\right)} &= z_1^4 + 2 z_1^2 z_2^2 + z_2^4 \\\\\n",
    "                                                            &= \\left( z_1^2 + z_2^2 \\right)^2\n",
    "\\end{align}\n",
    "Our measure is then simply\n",
    "\\begin{align}\n",
    "D(\\boldsymbol{z}) &= \\sqrt{ \\det{ \\left( J(\\boldsymbol{z})^T J(\\boldsymbol{z}) \\right)} } \\\\\n",
    "                  &= \\sqrt{\\left( z_1^2 + z_2^2 \\right)^2} \\\\\n",
    "                  &= z_1^2 + z_2^2\n",
    "\\end{align}\n",
    "\n",
    "To find the expectation of this measure over the entire $\\boldsymbol{z}$ space, we integrate over the space, weighting by the density of $\\boldsymbol{z}$ in that space:\n",
    "\\begin{align}\n",
    "\\Bbb E [ D(\\boldsymbol{z}) ] &= \\int D(\\boldsymbol{z}) \\rho(\\boldsymbol{z}) d\\boldsymbol{z} \\\\\n",
    "                             &= \\int_{-\\infty}^\\infty \\int_{-\\infty}^\\infty \\left( z_1^2 + z_2^2 \\right)\n",
    "                                \\frac{1}{2\\pi} e^{-\\tfrac{1}{2} (z_1^2 + z_2^2)^2 } d z_1 d z_2 \\\\\n",
    "                             &= \\int_{0}^{2\\pi} \\int_{0}^\\infty \\frac{1}{2\\pi} e^{ -\\tfrac{1}{2} r^2 } r^2 r dr d\\theta \\\\\n",
    "                             &= \\int_{0}^\\infty e^{ -\\tfrac{1}{2} r^2 } r^3 r dr \\\\\n",
    "                             &= 2\n",
    "\\end{align}"
   ]
  },
  {
   "cell_type": "markdown",
   "metadata": {},
   "source": [
    "### numerical solution"
   ]
  },
  {
   "cell_type": "code",
   "execution_count": 2,
   "metadata": {
    "collapsed": true
   },
   "outputs": [],
   "source": [
    "@numba.jit(nopython=True)\n",
    "def x(z):\n",
    "    z1,z2 = z\n",
    "    return np.array( [z1**2/np.sqrt(2.0), z2**2/np.sqrt(2.0), z1*z2] ) / np.sqrt(np.sqrt(2.0))"
   ]
  },
  {
   "cell_type": "code",
   "execution_count": 3,
   "metadata": {
    "collapsed": true
   },
   "outputs": [],
   "source": [
    "@numba.jit(nopython=True)\n",
    "def sqrt_det_jacobian(z, delta=1e-6):\n",
    "    J = np.zeros((len(x(z)),len(z)))\n",
    "    for i,z_i in enumerate(z):\n",
    "        z_delta = z.copy()\n",
    "        z_delta[i] += delta\n",
    "        J[:,i] = (x(z_delta)-x(z))/delta\n",
    "    det_JtJ = np.linalg.det( np.dot(J.transpose(), J) )\n",
    "    return np.sqrt(det_JtJ)"
   ]
  },
  {
   "cell_type": "code",
   "execution_count": 7,
   "metadata": {},
   "outputs": [
    {
     "data": {
      "text/plain": [
       "2.0324136516733455"
      ]
     },
     "execution_count": 7,
     "metadata": {},
     "output_type": "execute_result"
    }
   ],
   "source": [
    "z_points = np.random.randn(1024,2)\n",
    "jac_samples = np.zeros(len(z_points))\n",
    "for i,zi in enumerate(z_points):\n",
    "    jac_samples[i] = sqrt_det_jacobian(zi,delta=1e-9)\n",
    "np.mean(jac_samples)"
   ]
  },
  {
   "cell_type": "markdown",
   "metadata": {},
   "source": [
    "### notes re pytorch"
   ]
  },
  {
   "cell_type": "markdown",
   "metadata": {},
   "source": [
    "https://discuss.pytorch.org/t/clarification-using-backward-on-non-scalars/1059\n",
    "\n",
    "https://discuss.pytorch.org/t/more-efficient-implementation-of-jacobian-matrix-computation/6960"
   ]
  },
  {
   "cell_type": "code",
   "execution_count": null,
   "metadata": {
    "collapsed": true
   },
   "outputs": [],
   "source": []
  }
 ],
 "metadata": {
  "kernelspec": {
   "display_name": "Python 3",
   "language": "python",
   "name": "python3"
  },
  "language_info": {
   "codemirror_mode": {
    "name": "ipython",
    "version": 3
   },
   "file_extension": ".py",
   "mimetype": "text/x-python",
   "name": "python",
   "nbconvert_exporter": "python",
   "pygments_lexer": "ipython3",
   "version": "3.6.3"
  }
 },
 "nbformat": 4,
 "nbformat_minor": 2
}
