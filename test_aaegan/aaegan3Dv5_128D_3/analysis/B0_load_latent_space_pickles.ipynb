{
 "cells": [
  {
   "cell_type": "code",
   "execution_count": 43,
   "metadata": {
    "collapsed": true
   },
   "outputs": [],
   "source": [
    "import os\n",
    "import pickle\n",
    "\n",
    "import numpy as np\n",
    "import pandas as pd\n",
    "import torch\n",
    "\n",
    "import matplotlib as mpl\n",
    "mpl.use('Agg')\n",
    "import matplotlib.pyplot as plt\n",
    "from IPython.core.display import display\n",
    "\n",
    "\n",
    "import sys\n",
    "sys.path.insert(0, '../')\n",
    "from model_utils import tensor2img\n",
    "from PIL import Image\n",
    "\n",
    "import importlib"
   ]
  },
  {
   "cell_type": "code",
   "execution_count": 68,
   "metadata": {},
   "outputs": [],
   "source": [
    "parent_dir = '/root/gregj/projects/pytorch_integrated_cell/test_aaegan/aaegan3Dv5_128D_3'\n",
    "ref_file = 'ref_model/embeddings.pkl'\n",
    "struct_file = 'struct_model/embeddings_struct.pkl'\n",
    "\n",
    "ref_embeddings = torch.load(os.path.join(parent_dir,ref_file))\n",
    "struct_embeddings = torch.load(os.path.join(parent_dir,struct_file))"
   ]
  },
  {
   "cell_type": "code",
   "execution_count": 108,
   "metadata": {},
   "outputs": [],
   "source": [
    "dfs = {}\n",
    "for phase in ['train','test']:\n",
    "    ref_data = ref_embeddings[phase].numpy()\n",
    "    ref_nrow, ref_ncol = ref_data.shape\n",
    "    ref_colnames = ['z_ref_' + str(i+1) for i in range(ref_ncol)]\n",
    "\n",
    "    struct_data = struct_embeddings[phase].numpy()\n",
    "    struct_nrow, struct_ncol = struct_data.shape\n",
    "    struct_colnames = ['z_struct_' + str(i+1) for i in range(struct_ncol)]\n",
    "\n",
    "    df = pd.DataFrame(data=np.hstack([ref_data, struct_data]), columns=ref_colnames+struct_colnames)\n",
    "    df['phase'] = phase\n",
    "    df['dp_index'] = df.index\n",
    "    colnames = df.columns.tolist()\n",
    "    colnames = colnames[-2:] + colnames[:-2]\n",
    "    df = df[colnames]\n",
    "    dfs[phase] = df"
   ]
  },
  {
   "cell_type": "code",
   "execution_count": 111,
   "metadata": {},
   "outputs": [],
   "source": [
    "df_tot = pd.concat([dfs['train'], dfs['test']])"
   ]
  },
  {
   "cell_type": "code",
   "execution_count": 114,
   "metadata": {},
   "outputs": [],
   "source": [
    "df_tot.to_csv('latent_space_embeddings.csv')"
   ]
  },
  {
   "cell_type": "code",
   "execution_count": null,
   "metadata": {
    "collapsed": true
   },
   "outputs": [],
   "source": []
  }
 ],
 "metadata": {
  "kernelspec": {
   "display_name": "Python 3",
   "language": "python",
   "name": "python3"
  },
  "language_info": {
   "codemirror_mode": {
    "name": "ipython",
    "version": 3
   },
   "file_extension": ".py",
   "mimetype": "text/x-python",
   "name": "python",
   "nbconvert_exporter": "python",
   "pygments_lexer": "ipython3",
   "version": "3.6.2"
  }
 },
 "nbformat": 4,
 "nbformat_minor": 2
}
